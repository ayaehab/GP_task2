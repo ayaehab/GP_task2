{
 "cells": [
  {
   "cell_type": "code",
   "execution_count": 9,
   "metadata": {},
   "outputs": [],
   "source": [
    "from keras.preprocessing.image import ImageDataGenerator\n",
    "import os\n",
    "import shutil\n",
    "import pandas as pd"
   ]
  },
  {
   "cell_type": "code",
   "execution_count": 14,
   "metadata": {},
   "outputs": [],
   "source": [
    "sdir=r'../PartA_Splitted'\n",
    "aug_dir=os.path.join(sdir,'train_Aug')\n",
    "original_images_dir=os.path.join(sdir, 'train')\n",
    "\n",
    "if os.path.isdir(aug_dir): # see if aug_dir exists, if so remove it to get a clean slate\n",
    "    shutil.rmtree(aug_dir)\n",
    "\n",
    "os.mkdir(aug_dir) # make a new empty aug_dir\n",
    "filepaths=[]\n",
    "labels=[]\n",
    "\n",
    " "
   ]
  },
  {
   "cell_type": "code",
   "execution_count": 15,
   "metadata": {},
   "outputs": [],
   "source": [
    "# iterate through original_images and create a dataframe of the form filepaths, labels\n",
    "\n",
    "\n",
    "for i in ['Abnormal', 'Normal']:\n",
    "    os.mkdir(os.path.join(aug_dir,i)) # make the class subdirectories in the aug_dir\n",
    "    classpath=os.path.join(original_images_dir, i) # get the path to the classes (abnormal and normal)\n",
    "    flist=os.listdir(classpath)# for each class the the list of files in the class    \n",
    "    \n",
    "    for f in flist:        \n",
    "        fpath=os.path.join(classpath, f) # get the path to the file\n",
    "        filepaths.append(fpath)\n",
    "        labels.append(i)\n",
    "    Fseries=pd.Series(filepaths, name='filepaths')\n",
    "    Lseries=pd.Series(labels, name='labels')\n",
    "    \n",
    "df=pd.concat([Fseries, Lseries], axis=1) # create the dataframe\n",
    "gen=ImageDataGenerator(rescale=1./255,\n",
    "                        rotation_range=45,\n",
    "                        width_shift_range=0.2, \n",
    "                        height_shift_range=0.2,\n",
    "                        horizontal_flip=True)\n",
    "groups=df.groupby('labels') # group by class"
   ]
  },
  {
   "cell_type": "code",
   "execution_count": 16,
   "metadata": {},
   "outputs": [
    {
     "name": "stdout",
     "output_type": "stream",
     "text": [
      "Found 730 validated image filenames.\n",
      "Found 450 validated image filenames.\n"
     ]
    }
   ],
   "source": [
    "for label in df['labels'].unique():  # for every class               \n",
    "    group=groups.get_group(label)  # a dataframe holding only rows with the specified label \n",
    "    sample_count=len(group)   # determine how many samples there are in this class  \n",
    "    aug_img_count=0\n",
    "    target_dir=os.path.join(aug_dir, label)  # define where to write the images    \n",
    "    aug_gen=gen.flow_from_dataframe( group,  x_col='filepaths', y_col=None, target_size=(224,224),\n",
    "                                     class_mode=None, batch_size=32,seed=None, save_to_dir=target_dir,\n",
    "                                     save_prefix='aug', save_format='jpg')\n",
    "    while aug_img_count<len(group):\n",
    "        images=next(aug_gen)            \n",
    "        aug_img_count += len(images)"
   ]
  }
 ],
 "metadata": {
  "interpreter": {
   "hash": "247230833ace3b55315ea6727721a385d4ff855490c0a0dca85df0073da43068"
  },
  "kernelspec": {
   "display_name": "Python 3.8.8 64-bit ('base': conda)",
   "name": "python3"
  },
  "language_info": {
   "codemirror_mode": {
    "name": "ipython",
    "version": 3
   },
   "file_extension": ".py",
   "mimetype": "text/x-python",
   "name": "python",
   "nbconvert_exporter": "python",
   "pygments_lexer": "ipython3",
   "version": "3.8.8"
  },
  "orig_nbformat": 4
 },
 "nbformat": 4,
 "nbformat_minor": 2
}
