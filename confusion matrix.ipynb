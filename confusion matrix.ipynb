{
 "cells": [
  {
   "cell_type": "code",
   "execution_count": 6,
   "id": "e1f46aa8",
   "metadata": {},
   "outputs": [],
   "source": [
    "import tensorflow as tf\n",
    "from tensorflow import keras\n",
    "from keras.models import load_model\n",
    "from keras.preprocessing.image import ImageDataGenerator\n",
    "from keras.preprocessing.image import load_img, img_to_array\n",
    "import matplotlib.pyplot as plt\n",
    "from matplotlib.image import imread \n",
    "%matplotlib inline\n",
    "import pandas as pd\n",
    "import numpy as np\n",
    "import cv"
   ]
  },
  {
   "cell_type": "code",
   "execution_count": 7,
   "id": "8b573286",
   "metadata": {},
   "outputs": [],
   "source": [
    "weight  = load_model('dense.h5')\n",
    "weight1 = load_model('dense1.h5')\n",
    "weight2 = load_model('dense2.h5')\n",
    "weight4 = load_model('dense4.h5')\n"
   ]
  },
  {
   "cell_type": "code",
   "execution_count": 8,
   "id": "6355e145",
   "metadata": {},
   "outputs": [
    {
     "data": {
      "image/png": "[encoded data removed]",
      "text/plain": [
       "<Figure size 432x288 with 1 Axes>"
      ]
     },
     "metadata": {
      "needs_background": "light"
     },
     "output_type": "display_data"
    }
   ],
   "source": [
    "image = load_img('/home/fatmaosama/Desktop/GP/Ischaemia/normal/79_IMG_0259.jpg', target_size=(224, 224))\n",
    "plt.imshow(image)\n",
    "image = img_to_array(image)\n",
    "image = np.expand_dims(image, axis=0)"
   ]
  },
  {
   "cell_type": "code",
   "execution_count": 12,
   "id": "a163a55c",
   "metadata": {},
   "outputs": [
    {
     "data": {
      "text/plain": [
       "array([[1., 0.]], dtype=float32)"
      ]
     },
     "execution_count": 12,
     "metadata": {},
     "output_type": "execute_result"
    }
   ],
   "source": [
    "result = weight4.predict(image)\n",
    "\n",
    "result"
   ]
  },
  {
   "cell_type": "code",
   "execution_count": 13,
   "id": "af5d2f4e",
   "metadata": {},
   "outputs": [
    {
     "name": "stdout",
     "output_type": "stream",
     "text": [
      "Found 170 images belonging to 2 classes.\n"
     ]
    }
   ],
   "source": [
    "test_data_generation = ImageDataGenerator(rescale=1./255)\n",
    "testing_set = test_data_generation.flow_from_directory('/home/fatmaosama/Desktop/GP/Splitted/test',\n",
    "                                                       target_size=(224, 224),\n",
    "                                                       batch_size=32,\n",
    "                                                       class_mode='binary',seed=0)"
   ]
  },
  {
   "cell_type": "code",
   "execution_count": 14,
   "id": "b86e91f5",
   "metadata": {},
   "outputs": [
    {
     "data": {
      "text/plain": [
       "array([1., 1., 1., 0., 0., 1., 0., 0., 1., 0., 1., 0., 0., 1., 0., 0., 0.,\n",
       "       0., 0., 0., 1., 0., 1., 1., 1., 0., 0., 1., 0., 0., 0., 1., 0., 0.,\n",
       "       1., 0., 0., 1., 1., 0., 0., 1., 0., 1., 0., 1., 0., 1., 0., 1., 1.,\n",
       "       0., 0., 0., 1., 0., 1., 0., 1., 0., 1., 1., 0., 1., 1., 0., 0., 0.,\n",
       "       0., 0., 0., 0., 0., 1., 0., 1., 1., 0., 0., 1., 1., 0., 1., 1., 0.,\n",
       "       1., 1., 0., 0., 0., 0., 0., 1., 0., 1., 0., 0., 0., 0., 0., 0., 1.,\n",
       "       0., 0., 0., 0., 0., 1., 0., 1., 1., 0., 0., 0., 1., 0., 0., 0., 0.,\n",
       "       0., 0., 1., 0., 0., 1., 1., 1., 0., 1., 1., 0., 0., 0., 1., 1., 0.,\n",
       "       0., 1., 0., 1., 1., 1., 0., 1., 0., 0., 0., 0., 1., 1., 1., 0., 0.,\n",
       "       0., 0., 1., 1., 0., 0., 1., 0., 0., 0., 0., 0., 0., 0., 0., 1., 0.],\n",
       "      dtype=float32)"
      ]
     },
     "execution_count": 14,
     "metadata": {},
     "output_type": "execute_result"
    }
   ],
   "source": [
    "from sklearn.metrics import confusion_matrix,accuracy_score\n",
    "\n",
    "true_labels = np.concatenate([testing_set.next()[1] for i in range(testing_set.__len__())])\n",
    "true_labels"
   ]
  },
  {
   "cell_type": "code",
   "execution_count": 15,
   "id": "4cc605c5",
   "metadata": {},
   "outputs": [
    {
     "name": "stdout",
     "output_type": "stream",
     "text": [
      "WARNING:tensorflow:5 out of the last 5 calls to <function Model.make_predict_function.<locals>.predict_function at 0x7f3bb47f9310> triggered tf.function retracing. Tracing is expensive and the excessive number of tracings could be due to (1) creating @tf.function repeatedly in a loop, (2) passing tensors with different shapes, (3) passing Python objects instead of tensors. For (1), please define your @tf.function outside of the loop. For (2), @tf.function has experimental_relax_shapes=True option that relaxes argument shapes that can avoid unnecessary retracing. For (3), please refer to https://www.tensorflow.org/guide/function#controlling_retracing and https://www.tensorflow.org/api_docs/python/tf/function for  more details.\n"
     ]
    },
    {
     "data": {
      "text/plain": [
       "array([1, 1, 1, 1, 1, 0, 1, 1, 1, 1, 1, 1, 1, 1, 1, 1, 1, 1, 1, 0, 1, 1,\n",
       "       1, 1, 1, 1, 1, 1, 1, 1, 1, 1, 0, 1, 1, 1, 1, 1, 1, 1, 1, 1, 1, 0,\n",
       "       1, 1, 1, 1, 1, 1, 1, 1, 0, 1, 1, 1, 0, 1, 1, 1, 0, 1, 1, 1, 1, 1,\n",
       "       1, 1, 1, 1, 1, 1, 1, 1, 1, 1, 0, 1, 1, 1, 1, 1, 0, 1, 1, 1, 1, 1,\n",
       "       0, 1, 1, 1, 1, 1, 1, 1, 1, 1, 1, 1, 1, 1, 1, 1, 1, 1, 1, 1, 1, 1,\n",
       "       1, 1, 1, 1, 1, 1, 1, 1, 1, 1, 1, 1, 1, 1, 1, 1, 1, 1, 1, 1, 1, 1,\n",
       "       1, 1, 1, 1, 1, 1, 1, 1, 1, 1, 1, 1, 1, 1, 1, 1, 1, 0, 1, 1, 1, 1,\n",
       "       1, 1, 1, 1, 1, 1, 1, 1, 1, 1, 1, 1, 1, 1, 1, 1])"
      ]
     },
     "execution_count": 15,
     "metadata": {},
     "output_type": "execute_result"
    }
   ],
   "source": [
    "#prediction = weight.predict_classes(testing_set)\n",
    "prediction=weight2.predict(testing_set)\n",
    "classes_x=np.argmax(prediction,axis=1)\n",
    "classes_x"
   ]
  },
  {
   "cell_type": "code",
   "execution_count": 16,
   "id": "416fcbb7",
   "metadata": {},
   "outputs": [
    {
     "name": "stdout",
     "output_type": "stream",
     "text": [
      "[[  4 101]\n",
      " [  7  58]]\n",
      "the model performane is:  36.470588235294116 %\n"
     ]
    }
   ],
   "source": [
    "cf = confusion_matrix(y_true= true_labels, y_pred= classes_x)\n",
    "score = accuracy_score(y_true= true_labels, y_pred=classes_x)\n",
    "print(cf)\n",
    "print('the model performane is: ', score*100, \"%\")"
   ]
  },
  {
   "cell_type": "code",
   "execution_count": 17,
   "id": "885ab312",
   "metadata": {},
   "outputs": [
    {
     "data": {
      "text/plain": [
       "array([0., 1., 0., 0., 1., 0., 0., 1., 0., 1., 0., 0., 0., 1., 0., 0., 1.,\n",
       "       1., 0., 0., 0., 0., 1., 1., 1., 0., 1., 1., 0., 0., 0., 0., 1., 1.,\n",
       "       0., 0., 1., 1., 0., 1., 0., 0., 0., 0., 0., 1., 0., 0., 0., 0., 1.,\n",
       "       0., 0., 1., 0., 1., 0., 1., 1., 1., 0., 0., 1., 1., 1., 1., 0., 0.,\n",
       "       1., 0., 1., 0., 1., 0., 0., 0., 0., 0., 1., 0., 0., 0., 0., 1., 1.,\n",
       "       0., 1., 0., 0., 0., 0., 0., 0., 0., 0., 1., 1., 0., 0., 1., 1., 0.,\n",
       "       1., 0., 0., 1., 1., 1., 0., 0., 0., 0., 0., 0., 1., 0., 0., 0., 0.,\n",
       "       0., 0., 0., 0., 0., 0., 0., 0., 0., 1., 1., 1., 1., 0., 0., 1., 0.,\n",
       "       1., 1., 0., 0., 1., 1., 1., 1., 0., 0., 0., 0., 0., 0., 0., 1., 0.,\n",
       "       1., 1., 1., 1., 1., 0., 0., 0., 0., 1., 1., 1., 1., 0., 0., 0., 0.],\n",
       "      dtype=float32)"
      ]
     },
     "execution_count": 17,
     "metadata": {},
     "output_type": "execute_result"
    }
   ],
   "source": [
    "\n",
    "true_labels4 = np.concatenate([testing_set.next()[1] for i in range(testing_set.__len__())])\n",
    "true_labels4"
   ]
  },
  {
   "cell_type": "code",
   "execution_count": 18,
   "id": "c852f8b7",
   "metadata": {},
   "outputs": [
    {
     "name": "stdout",
     "output_type": "stream",
     "text": [
      "WARNING:tensorflow:6 out of the last 11 calls to <function Model.make_predict_function.<locals>.predict_function at 0x7f3b74520550> triggered tf.function retracing. Tracing is expensive and the excessive number of tracings could be due to (1) creating @tf.function repeatedly in a loop, (2) passing tensors with different shapes, (3) passing Python objects instead of tensors. For (1), please define your @tf.function outside of the loop. For (2), @tf.function has experimental_relax_shapes=True option that relaxes argument shapes that can avoid unnecessary retracing. For (3), please refer to https://www.tensorflow.org/guide/function#controlling_retracing and https://www.tensorflow.org/api_docs/python/tf/function for  more details.\n"
     ]
    },
    {
     "data": {
      "text/plain": [
       "array([0, 0, 0, 0, 1, 0, 0, 1, 0, 1, 0, 0, 0, 1, 0, 0, 1, 1, 0, 0, 1, 0,\n",
       "       1, 0, 1, 0, 1, 1, 0, 0, 0, 1, 1, 1, 1, 0, 1, 1, 0, 1, 0, 0, 0, 0,\n",
       "       0, 1, 0, 0, 0, 0, 1, 0, 1, 1, 0, 1, 0, 1, 1, 1, 0, 0, 0, 1, 1, 1,\n",
       "       0, 0, 1, 0, 1, 0, 1, 0, 0, 0, 0, 0, 1, 0, 0, 1, 1, 1, 1, 0, 1, 0,\n",
       "       0, 0, 0, 0, 0, 0, 1, 1, 0, 0, 0, 1, 1, 1, 1, 1, 0, 1, 1, 1, 0, 0,\n",
       "       0, 0, 0, 0, 1, 0, 0, 1, 0, 1, 0, 1, 0, 1, 0, 0, 0, 0, 1, 1, 1, 1,\n",
       "       0, 0, 1, 0, 1, 1, 1, 0, 1, 1, 1, 0, 0, 0, 0, 0, 0, 1, 0, 1, 0, 1,\n",
       "       1, 1, 1, 1, 1, 0, 0, 0, 1, 1, 1, 1, 0, 1, 0, 0])"
      ]
     },
     "execution_count": 18,
     "metadata": {},
     "output_type": "execute_result"
    }
   ],
   "source": [
    "prediction4=weight4.predict(testing_set)\n",
    "classes_x4=np.argmax(prediction4,axis=1)\n",
    "classes_x4"
   ]
  },
  {
   "cell_type": "code",
   "execution_count": 19,
   "id": "4c103ffb",
   "metadata": {},
   "outputs": [
    {
     "name": "stdout",
     "output_type": "stream",
     "text": [
      "[[88 17]\n",
      " [ 5 60]]\n",
      "the model performane is:  87.05882352941177 %\n"
     ]
    }
   ],
   "source": [
    "cf4 = confusion_matrix(y_true= true_labels4, y_pred= classes_x4)\n",
    "score4 = accuracy_score(y_true= true_labels4, y_pred=classes_x4)\n",
    "print(cf4)\n",
    "print('the model performane is: ', score4*100, \"%\")"
   ]
  },
  {
   "cell_type": "code",
   "execution_count": 21,
   "id": "dbfc40da",
   "metadata": {},
   "outputs": [
    {
     "name": "stdout",
     "output_type": "stream",
     "text": [
      "Found 505 images belonging to 2 classes.\n"
     ]
    }
   ],
   "source": [
    "test_data_noised = ImageDataGenerator(rescale=1./255)\n",
    "test_dataset_noised = test_data_noised.flow_from_directory('/home/fatmaosama/Desktop/GP/PartA_Splitted_Noised_Gauss/val',\n",
    "                                                       target_size=(224, 224),\n",
    "                                                       batch_size=32,\n",
    "                                                       class_mode='binary',seed=0)"
   ]
  },
  {
   "cell_type": "code",
   "execution_count": 23,
   "id": "69e5defe",
   "metadata": {},
   "outputs": [
    {
     "name": "stdout",
     "output_type": "stream",
     "text": [
      "[[153 159]\n",
      " [ 19 174]]\n",
      "the model performane is:  64.75247524752476 %\n"
     ]
    }
   ],
   "source": [
    "true_labels_noised = np.concatenate([test_dataset_noised.next()[1] for i in range(test_dataset_noised.__len__())])\n",
    "\n",
    "prediction_noised=weight4.predict(test_dataset_noised)\n",
    "classes_x_noised=np.argmax(prediction_noised,axis=1)\n",
    "cf_noised = confusion_matrix(y_true= true_labels_noised, y_pred= classes_x_noised)\n",
    "score_noised = accuracy_score(y_true= true_labels_noised, y_pred=classes_x_noised)\n",
    "print(cf_noised)\n",
    "print('the model performane is: ', score_noised*100, \"%\")"
   ]
  },
  {
   "cell_type": "code",
   "execution_count": 24,
   "id": "5aa4c7ad",
   "metadata": {},
   "outputs": [
    {
     "name": "stdout",
     "output_type": "stream",
     "text": [
      "Found 505 images belonging to 2 classes.\n"
     ]
    }
   ],
   "source": [
    "test_data_noised = ImageDataGenerator(rescale=1./255)\n",
    "test_dataset_noised = test_data_noised.flow_from_directory('/home/fatmaosama/Desktop/GP/PartA_Splitted_Noised_poisson/val',\n",
    "                                                       target_size=(224, 224),\n",
    "                                                       batch_size=32,\n",
    "                                                       class_mode='binary',seed=0)"
   ]
  },
  {
   "cell_type": "code",
   "execution_count": 25,
   "id": "66cfec63",
   "metadata": {},
   "outputs": [
    {
     "name": "stdout",
     "output_type": "stream",
     "text": [
      "[[279  33]\n",
      " [ 38 155]]\n",
      "the model performane is:  85.94059405940594 %\n"
     ]
    }
   ],
   "source": [
    "true_labels_noised2 = np.concatenate([test_dataset_noised.next()[1] for i in range(test_dataset_noised.__len__())])\n",
    "\n",
    "prediction_noised2=weight4.predict(test_dataset_noised)\n",
    "classes_x_noised2=np.argmax(prediction_noised2,axis=1)\n",
    "cf_noised2 = confusion_matrix(y_true= true_labels_noised2, y_pred= classes_x_noised2)\n",
    "score_noised2 = accuracy_score(y_true= true_labels_noised2, y_pred=classes_x_noised2)\n",
    "print(cf_noised2)\n",
    "print('the model performane is: ', score_noised2*100, \"%\")"
   ]
  },
  {
   "cell_type": "code",
   "execution_count": 26,
   "id": "3b3019a6",
   "metadata": {},
   "outputs": [
    {
     "name": "stdout",
     "output_type": "stream",
     "text": [
      "Found 505 images belonging to 2 classes.\n"
     ]
    }
   ],
   "source": [
    "test_data_noised = ImageDataGenerator(rescale=1./255)\n",
    "test_dataset_noised = test_data_noised.flow_from_directory('/home/fatmaosama/Desktop/GP/PartA_Splitted_Noised_s&p/val',\n",
    "                                                       target_size=(224, 224),\n",
    "                                                       batch_size=32,\n",
    "                                                       class_mode='binary',seed=0)"
   ]
  },
  {
   "cell_type": "code",
   "execution_count": 29,
   "id": "c9d51493",
   "metadata": {},
   "outputs": [
    {
     "name": "stdout",
     "output_type": "stream",
     "text": [
      "[[262  50]\n",
      " [ 86 107]]\n",
      "the model performane is:  73.06930693069307 %\n"
     ]
    }
   ],
   "source": [
    "true_labels_noised3 = np.concatenate([test_dataset_noised.next()[1] for i in range(test_dataset_noised.__len__())])\n",
    "prediction_noised3=weight4.predict(test_dataset_noised)\n",
    "classes_x_noised3=np.argmax(prediction_noised3,axis=1)\n",
    "cf_noised3 = confusion_matrix(y_true= true_labels_noised3, y_pred= classes_x_noised3)\n",
    "score_noised3 = accuracy_score(y_true= true_labels_noised3, y_pred=classes_x_noised3)\n",
    "print(cf_noised3)\n",
    "print('the model performane is: ', score_noised3*100, \"%\")"
   ]
  }
 ],
 "metadata": {
  "kernelspec": {
   "display_name": "Python 3",
   "language": "python",
   "name": "python3"
  },
  "language_info": {
   "codemirror_mode": {
    "name": "ipython",
    "version": 3
   },
   "file_extension": ".py",
   "mimetype": "text/x-python",
   "name": "python",
   "nbconvert_exporter": "python",
   "pygments_lexer": "ipython3",
   "version": "3.8.8"
  }
 },
 "nbformat": 4,
 "nbformat_minor": 5
}
