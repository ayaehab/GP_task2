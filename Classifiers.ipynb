{
  "cells": [
    {
      "cell_type": "code",
      "execution_count": 1,
      "metadata": {
        "colab": {
          "base_uri": "https://localhost:8080/"
        },
        "id": "q8SnX6sVNDTa",
        "outputId": "40cda7fb-726d-40b6-a5b3-5cdc0ba73b3f"
      },
      "outputs": [],
      "source": [
        "# from google.colab import drive\n",
        "# drive.mount('/content/drive')"
      ]
    },
    {
      "cell_type": "code",
      "execution_count": 1,
      "metadata": {
        "id": "ySdMxAgqSq03"
      },
      "outputs": [],
      "source": [
        "from pathlib import Path\n",
        "import matplotlib.pyplot as plt\n",
        "import pandas as pd\n",
        "import numpy as np\n",
        "%matplotlib notebook\n",
        "from sklearn import svm, metrics, datasets\n",
        "from sklearn.utils import Bunch\n",
        "from sklearn.model_selection import GridSearchCV, train_test_split\n",
        "from sklearn.metrics import precision_score, recall_score, confusion_matrix, roc_auc_score, classification_report\n",
        "import skimage\n",
        "from skimage.io import imread\n",
        "from skimage.transform import resize"
      ]
    },
    {
      "cell_type": "code",
      "execution_count": 22,
      "metadata": {
        "id": "uTF2uRArXsoa"
      },
      "outputs": [],
      "source": [
        "def load_image_files(path,image_names,labels, dimension=(100, 100)):\n",
        "   \n",
        "    image_dir = Path(path)\n",
        "    #folders = [directory for directory in image_dir.iterdir() if directory.is_dir()]\n",
        "    categories = ['Abnormal','Normal']\n",
        "\n",
        "    \n",
        "    images = []\n",
        "    flat_images = []\n",
        "    #labels = []\n",
        "    #for i, direc in enumerate(folders):\n",
        "    for file in image_names:\n",
        "        img = skimage.io.imread(path+'/'+file)\n",
        "        img_resized = resize(img, dimension, anti_aliasing=True, mode='reflect')\n",
        "        flat_images.append(img_resized.flatten()) \n",
        "        images.append(img_resized)\n",
        "        #labels.append()\n",
        "    flat_images = np.array(flat_images)\n",
        "    labels = np.array(labels)\n",
        "    images = np.array(images)\n",
        "\n",
        "    return Bunch(image_data=flat_images,\n",
        "                 labels=labels,\n",
        "                 label_names=categories,\n",
        "                 images=images)\n",
        "                 "
      ]
    },
    {
      "cell_type": "code",
      "execution_count": 18,
      "metadata": {
        "id": "14dEzKrKSrEq"
      },
      "outputs": [],
      "source": [
        "path = 'PARTA_B'\n",
        "#path = '/content/drive/MyDrive/gp/PARTA&B'\n"
      ]
    },
    {
      "cell_type": "code",
      "execution_count": 20,
      "metadata": {
        "colab": {
          "base_uri": "https://localhost:8080/",
          "height": 206
        },
        "id": "OIk4Z--7WNhi",
        "outputId": "09dd4ec2-7989-4920-a743-a2b7c074aec8"
      },
      "outputs": [
        {
          "data": {
            "text/html": [
              "<div>\n",
              "<style scoped>\n",
              "    .dataframe tbody tr th:only-of-type {\n",
              "        vertical-align: middle;\n",
              "    }\n",
              "\n",
              "    .dataframe tbody tr th {\n",
              "        vertical-align: top;\n",
              "    }\n",
              "\n",
              "    .dataframe thead th {\n",
              "        text-align: right;\n",
              "    }\n",
              "</style>\n",
              "<table border=\"1\" class=\"dataframe\">\n",
              "  <thead>\n",
              "    <tr style=\"text-align: right;\">\n",
              "      <th></th>\n",
              "      <th>Name</th>\n",
              "      <th>Abnormal</th>\n",
              "      <th>Infection</th>\n",
              "      <th>Ischemia</th>\n",
              "    </tr>\n",
              "  </thead>\n",
              "  <tbody>\n",
              "    <tr>\n",
              "      <th>0</th>\n",
              "      <td>000765_10.jpg</td>\n",
              "      <td>0</td>\n",
              "      <td>0</td>\n",
              "      <td>0</td>\n",
              "    </tr>\n",
              "    <tr>\n",
              "      <th>1</th>\n",
              "      <td>001760_21_M.jpg</td>\n",
              "      <td>0</td>\n",
              "      <td>0</td>\n",
              "      <td>0</td>\n",
              "    </tr>\n",
              "    <tr>\n",
              "      <th>2</th>\n",
              "      <td>000813_30.jpg</td>\n",
              "      <td>1</td>\n",
              "      <td>1</td>\n",
              "      <td>0</td>\n",
              "    </tr>\n",
              "    <tr>\n",
              "      <th>3</th>\n",
              "      <td>001224_30.jpg</td>\n",
              "      <td>1</td>\n",
              "      <td>1</td>\n",
              "      <td>0</td>\n",
              "    </tr>\n",
              "    <tr>\n",
              "      <th>4</th>\n",
              "      <td>000676_30.jpg</td>\n",
              "      <td>1</td>\n",
              "      <td>1</td>\n",
              "      <td>0</td>\n",
              "    </tr>\n",
              "  </tbody>\n",
              "</table>\n",
              "</div>"
            ],
            "text/plain": [
              "              Name  Abnormal  Infection  Ischemia\n",
              "0    000765_10.jpg         0          0         0\n",
              "1  001760_21_M.jpg         0          0         0\n",
              "2    000813_30.jpg         1          1         0\n",
              "3    001224_30.jpg         1          1         0\n",
              "4    000676_30.jpg         1          1         0"
            ]
          },
          "execution_count": 20,
          "metadata": {},
          "output_type": "execute_result"
        }
      ],
      "source": [
        "df = pd.read_csv('PA&BLABELD_balanced.csv')\n",
        "df.head()"
      ]
    },
    {
      "cell_type": "code",
      "execution_count": 21,
      "metadata": {
        "id": "cmAb28bYd4py"
      },
      "outputs": [],
      "source": [
        "image_names = df.iloc[:,0]\n",
        "image_labels = df.iloc[:,1]"
      ]
    },
    {
      "cell_type": "code",
      "execution_count": 23,
      "metadata": {
        "colab": {
          "base_uri": "https://localhost:8080/"
        },
        "id": "uyw4taV-fF0O",
        "outputId": "1994bdf9-5769-475f-f8fc-42265d45936c"
      },
      "outputs": [
        {
          "name": "stdout",
          "output_type": "stream",
          "text": [
            "loading is done!\n"
          ]
        }
      ],
      "source": [
        "image_dataset = load_image_files(path,image_names,image_labels)\n",
        "print('loading is done!')"
      ]
    },
    {
      "cell_type": "code",
      "execution_count": 24,
      "metadata": {
        "id": "vE-VOwy6uPHm"
      },
      "outputs": [],
      "source": [
        "X_train, X_test, y_train, y_test = train_test_split(image_dataset.image_data, image_dataset.labels, test_size=0.3,random_state=42)"
      ]
    },
    {
      "cell_type": "code",
      "execution_count": 25,
      "metadata": {
        "id": "NGnbDgtWwIni"
      },
      "outputs": [],
      "source": [
        "param_grid = [\n",
        "  {'C': [1, 10, 100, 1000], 'kernel': ['linear']},\n",
        "  {'C': [1, 10, 100, 1000], 'gamma': [0.001, 0.0001], 'kernel': ['rbf']},\n",
        " ]\n",
        "svc = svm.SVC()\n",
        "svc_model = GridSearchCV(svc, param_grid)\n"
      ]
    },
    {
      "cell_type": "code",
      "execution_count": 26,
      "metadata": {
        "id": "hPtapXeMxAXa"
      },
      "outputs": [
        {
          "data": {
            "text/plain": [
              "GridSearchCV(estimator=SVC(),\n",
              "             param_grid=[{'C': [1, 10, 100, 1000], 'kernel': ['linear']},\n",
              "                         {'C': [1, 10, 100, 1000], 'gamma': [0.001, 0.0001],\n",
              "                          'kernel': ['rbf']}])"
            ]
          },
          "execution_count": 26,
          "metadata": {},
          "output_type": "execute_result"
        }
      ],
      "source": [
        "svc_model.fit(X_train, y_train)"
      ]
    },
    {
      "cell_type": "code",
      "execution_count": 27,
      "metadata": {
        "id": "EojGnqDHySsV"
      },
      "outputs": [],
      "source": [
        "y_pred = svc_model.predict(X_test)"
      ]
    },
    {
      "cell_type": "code",
      "execution_count": 29,
      "metadata": {},
      "outputs": [
        {
          "data": {
            "text/plain": [
              "array([[790, 108],\n",
              "       [191, 711]], dtype=int64)"
            ]
          },
          "execution_count": 29,
          "metadata": {},
          "output_type": "execute_result"
        }
      ],
      "source": [
        "confusion_matrix(y_true= y_test, y_pred=y_pred)"
      ]
    },
    {
      "cell_type": "code",
      "execution_count": 28,
      "metadata": {
        "id": "IC4VmIVkyYZx"
      },
      "outputs": [
        {
          "name": "stdout",
          "output_type": "stream",
          "text": [
            "Classification report for - \n",
            "GridSearchCV(estimator=SVC(),\n",
            "             param_grid=[{'C': [1, 10, 100, 1000], 'kernel': ['linear']},\n",
            "                         {'C': [1, 10, 100, 1000], 'gamma': [0.001, 0.0001],\n",
            "                          'kernel': ['rbf']}]):\n",
            "              precision    recall  f1-score   support\n",
            "\n",
            "           0       0.81      0.88      0.84       898\n",
            "           1       0.87      0.79      0.83       902\n",
            "\n",
            "    accuracy                           0.83      1800\n",
            "   macro avg       0.84      0.83      0.83      1800\n",
            "weighted avg       0.84      0.83      0.83      1800\n",
            "\n",
            "\n"
          ]
        }
      ],
      "source": [
        "print(\"Classification report for - \\n{}:\\n{}\\n\".format(\n",
        "    svc_model, metrics.classification_report(y_test, y_pred)))"
      ]
    },
    {
      "cell_type": "code",
      "execution_count": 30,
      "metadata": {},
      "outputs": [],
      "source": [
        "from sklearn.ensemble import RandomForestClassifier\n",
        "rf_model = RandomForestClassifier(criterion='entropy', n_estimators=277, random_state=0)"
      ]
    },
    {
      "cell_type": "code",
      "execution_count": 31,
      "metadata": {},
      "outputs": [
        {
          "data": {
            "text/plain": [
              "RandomForestClassifier(criterion='entropy', n_estimators=277, random_state=0)"
            ]
          },
          "execution_count": 31,
          "metadata": {},
          "output_type": "execute_result"
        }
      ],
      "source": [
        "rf_model.fit(X_train, y_train)"
      ]
    },
    {
      "cell_type": "code",
      "execution_count": 32,
      "metadata": {},
      "outputs": [],
      "source": [
        "y1_pred = rf_model.predict(X_test)"
      ]
    },
    {
      "cell_type": "code",
      "execution_count": 33,
      "metadata": {},
      "outputs": [
        {
          "data": {
            "text/plain": [
              "array([[788, 110],\n",
              "       [176, 726]], dtype=int64)"
            ]
          },
          "execution_count": 33,
          "metadata": {},
          "output_type": "execute_result"
        }
      ],
      "source": [
        "confusion_matrix(y_true= y_test, y_pred=y1_pred)"
      ]
    },
    {
      "cell_type": "code",
      "execution_count": 34,
      "metadata": {},
      "outputs": [
        {
          "name": "stdout",
          "output_type": "stream",
          "text": [
            "Classification report for - \n",
            "RandomForestClassifier(criterion='entropy', n_estimators=277, random_state=0):\n",
            "              precision    recall  f1-score   support\n",
            "\n",
            "           0       0.82      0.88      0.85       898\n",
            "           1       0.87      0.80      0.84       902\n",
            "\n",
            "    accuracy                           0.84      1800\n",
            "   macro avg       0.84      0.84      0.84      1800\n",
            "weighted avg       0.84      0.84      0.84      1800\n",
            "\n",
            "\n"
          ]
        }
      ],
      "source": [
        "print(\"Classification report for - \\n{}:\\n{}\\n\".format(\n",
        "    rf_model, metrics.classification_report(y_test, y1_pred)))"
      ]
    },
    {
      "cell_type": "code",
      "execution_count": 35,
      "metadata": {},
      "outputs": [
        {
          "data": {
            "text/plain": [
              "DecisionTreeClassifier()"
            ]
          },
          "execution_count": 35,
          "metadata": {},
          "output_type": "execute_result"
        }
      ],
      "source": [
        "from sklearn.tree import DecisionTreeClassifier\n",
        "dt_model = DecisionTreeClassifier()\n",
        "dt_model.fit(X_train, y_train)"
      ]
    },
    {
      "cell_type": "code",
      "execution_count": 36,
      "metadata": {},
      "outputs": [],
      "source": [
        "y3_pred = dt_model.predict(X_test)"
      ]
    },
    {
      "cell_type": "code",
      "execution_count": 40,
      "metadata": {},
      "outputs": [
        {
          "data": {
            "text/plain": [
              "array([[662, 236],\n",
              "       [233, 669]], dtype=int64)"
            ]
          },
          "execution_count": 40,
          "metadata": {},
          "output_type": "execute_result"
        }
      ],
      "source": [
        "confusion_matrix(y_true= y_test, y_pred=y3_pred)"
      ]
    },
    {
      "cell_type": "code",
      "execution_count": 38,
      "metadata": {},
      "outputs": [
        {
          "name": "stdout",
          "output_type": "stream",
          "text": [
            "Classification report for - \n",
            "DecisionTreeClassifier():\n",
            "              precision    recall  f1-score   support\n",
            "\n",
            "           0       0.74      0.74      0.74       898\n",
            "           1       0.74      0.74      0.74       902\n",
            "\n",
            "    accuracy                           0.74      1800\n",
            "   macro avg       0.74      0.74      0.74      1800\n",
            "weighted avg       0.74      0.74      0.74      1800\n",
            "\n",
            "\n"
          ]
        }
      ],
      "source": [
        "print(\"Classification report for - \\n{}:\\n{}\\n\".format(\n",
        "    dt_model, metrics.classification_report(y_test, y3_pred)))"
      ]
    }
  ],
  "metadata": {
    "colab": {
      "name": "SVM.ipynb",
      "provenance": []
    },
    "kernelspec": {
      "display_name": "Python 3",
      "name": "python3"
    },
    "language_info": {
      "codemirror_mode": {
        "name": "ipython",
        "version": 3
      },
      "file_extension": ".py",
      "mimetype": "text/x-python",
      "name": "python",
      "nbconvert_exporter": "python",
      "pygments_lexer": "ipython3",
      "version": "3.8.7"
    }
  },
  "nbformat": 4,
  "nbformat_minor": 0
}
