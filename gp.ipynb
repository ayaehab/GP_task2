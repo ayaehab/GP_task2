{
  "nbformat": 4,
  "nbformat_minor": 0,
  "metadata": {
    "colab": {
      "name": "gp.ipynb",
      "provenance": [],
      "collapsed_sections": [
        "qjcJIxqd7DyA",
        "jt5djaZg62cM",
        "BLFTTvv_68vb"
      ]
    },
    "kernelspec": {
      "name": "python3",
      "display_name": "Python 3"
    },
    "language_info": {
      "name": "python"
    },
    "accelerator": "GPU"
  },
  "cells": [
    {
      "cell_type": "code",
      "execution_count": null,
      "metadata": {
        "id": "wymfhs5SzEUk"
      },
      "outputs": [],
      "source": [
        "import tensorflow as tf\n",
        "from tensorflow import keras\n",
        "import keras.backend as K\n",
        "from keras.models import Sequential, load_model, Model,Input\n",
        "from keras.layers import Dense,GlobalAvgPool2D, Conv2D, MaxPool2D,AvgPool2D, GlobalAveragePooling2D,AveragePooling2D ,Softmax, BatchNormalization, ReLU, Dropout\n",
        "from keras.preprocessing.image import ImageDataGenerator\n",
        "from keras.preprocessing.image import load_img, img_to_array\n",
        "from keras.layers import concatenate,Concatenate\n",
        "import matplotlib.pyplot as plt\n",
        "from matplotlib.image import imread \n",
        "%matplotlib inline\n",
        "import pandas as pd\n",
        "import numpy as np\n",
        "from tensorflow.keras import layers\n",
        "from tensorflow.keras.callbacks import EarlyStopping\n",
        "from sklearn.metrics import confusion_matrix,accuracy_score\n",
        "\n",
        "\n",
        "# import cv"
      ]
    },
    {
      "cell_type": "markdown",
      "source": [
        "#aug_major_minor \n",
        "train data = 896-896\n",
        "max no of images in normal=all raw+ all augmented"
      ],
      "metadata": {
        "id": "X7cDXc0Iax2L"
      }
    },
    {
      "cell_type": "code",
      "source": [
        "train_data_generation = ImageDataGenerator(rescale=1./255)\n",
        "training_set = train_data_generation.flow_from_directory('/content/drive/MyDrive/gp/50:50/AUG_MAJOR-MINOR/train',\n",
        "                                                         target_size=(224, 224),\n",
        "                                                         batch_size=32,\n",
        "                                                         class_mode='binary',seed=0)\n",
        "\n",
        "# preprocessing the testing set\n",
        "test_data_generation = ImageDataGenerator(rescale=1./255)\n",
        "testing_set = test_data_generation.flow_from_directory('/content/drive/MyDrive/gp/50:50/AUG_MAJOR-MINOR/test',\n",
        "                                                       target_size=(224, 224),\n",
        "                                                       batch_size=32,\n",
        "                                                       class_mode='binary',seed=0)\n",
        "\n",
        "val_data_generation = ImageDataGenerator(rescale=1./255)\n",
        "val_set = test_data_generation.flow_from_directory('/content/drive/MyDrive/gp/50:50/AUG_MAJOR-MINOR/val',\n",
        "                                                       target_size=(224, 224),\n",
        "                                                       batch_size=32,\n",
        "                                                       class_mode='binary',seed=0)\n",
        "\n"
      ],
      "metadata": {
        "colab": {
          "base_uri": "https://localhost:8080/"
        },
        "id": "bN7kU425QJYO",
        "outputId": "5e1891ca-4c72-4897-fff8-403c0db7b64d"
      },
      "execution_count": null,
      "outputs": [
        {
          "output_type": "stream",
          "name": "stdout",
          "text": [
            "Found 1792 images belonging to 2 classes.\n",
            "Found 170 images belonging to 2 classes.\n",
            "Found 523 images belonging to 2 classes.\n"
          ]
        }
      ]
    },
    {
      "cell_type": "code",
      "source": [
        "from sklearn.metrics import confusion_matrix,accuracy_score\n",
        "\n",
        "true_labels = np.concatenate([testing_set.next()[1] for i in range(testing_set.__len__())])\n",
        "true_labels"
      ],
      "metadata": {
        "colab": {
          "base_uri": "https://localhost:8080/"
        },
        "id": "ou2L1XMqcKa5",
        "outputId": "7a418264-8c4d-4337-f53f-5023ac9365e4"
      },
      "execution_count": null,
      "outputs": [
        {
          "output_type": "execute_result",
          "data": {
            "text/plain": [
              "array([1., 1., 1., 1., 1., 0., 1., 0., 0., 0., 0., 1., 1., 1., 0., 0., 0.,\n",
              "       1., 0., 0., 0., 1., 0., 0., 1., 0., 1., 1., 0., 1., 1., 0., 1., 1.,\n",
              "       0., 0., 1., 0., 0., 1., 1., 0., 1., 0., 0., 0., 0., 1., 0., 0., 1.,\n",
              "       0., 0., 0., 0., 0., 0., 1., 0., 0., 0., 0., 0., 1., 0., 0., 0., 0.,\n",
              "       0., 0., 0., 1., 1., 1., 1., 0., 0., 0., 1., 0., 1., 0., 1., 1., 1.,\n",
              "       1., 0., 1., 0., 0., 1., 1., 1., 1., 1., 1., 0., 0., 0., 0., 0., 1.,\n",
              "       0., 1., 1., 0., 0., 1., 0., 0., 0., 1., 0., 1., 0., 0., 0., 0., 0.,\n",
              "       0., 0., 0., 1., 1., 0., 1., 1., 0., 0., 0., 0., 0., 1., 1., 1., 0.,\n",
              "       0., 0., 1., 0., 0., 0., 1., 0., 1., 0., 0., 1., 1., 0., 0., 1., 0.,\n",
              "       0., 0., 1., 0., 0., 0., 0., 1., 0., 1., 0., 0., 0., 0., 0., 0., 0.],\n",
              "      dtype=float32)"
            ]
          },
          "metadata": {},
          "execution_count": 74
        }
      ]
    },
    {
      "cell_type": "code",
      "source": [
        "from sklearn.metrics import classification_report\n",
        "\n",
        "label_names =['abnormal','normal']"
      ],
      "metadata": {
        "id": "BMu9CgE3cPjD"
      },
      "execution_count": null,
      "outputs": []
    },
    {
      "cell_type": "code",
      "source": [
        "def densenet(img_shape, n_class,f=32):\n",
        "  repetitions = [6, 12, 24, 16]\n",
        "  \n",
        "  def bn_rl_conv(model, f, k=1, s=1, p='same'):\n",
        "    model = BatchNormalization()(model)\n",
        "    model = ReLU()(model)\n",
        "    model = Conv2D(f, k, strides=s, padding=p)(model)\n",
        "    return model\n",
        "  \n",
        "  \n",
        "  def dense_block(conc, r):\n",
        "    for i in range(r):\n",
        "      model = bn_rl_conv(conc, 4*f)\n",
        "      model = bn_rl_conv(model, f, 3)\n",
        "      conc = Concatenate()([conc, model])\n",
        "    return conc\n",
        "  \n",
        "  \n",
        "  def transition_block(model):\n",
        "    model = bn_rl_conv(model, K.int_shape(model)[-1] // 2)\n",
        "    model = AvgPool2D(2, strides=2, padding='same')(model)\n",
        "    return model\n",
        "  \n",
        "  \n",
        "  input = Input(img_shape)\n",
        "  \n",
        "  model = Conv2D(64, 7, strides=2, padding='same')(input)\n",
        "  model = MaxPool2D(3, strides=2, padding='same')(model)\n",
        "  \n",
        "  for r in repetitions:\n",
        "    d = dense_block(model, r)\n",
        "    model = transition_block(d)\n",
        "  \n",
        "  model = GlobalAvgPool2D()(d)\n",
        "  \n",
        "  output = Dense(n_class, activation='sigmoid')(model)\n",
        "  \n",
        "  model = Model(input, output)\n",
        "  return model\n",
        "\n"
      ],
      "metadata": {
        "id": "ueAVk5RGPtX-"
      },
      "execution_count": null,
      "outputs": []
    },
    {
      "cell_type": "code",
      "source": [
        "_model_major_minor= densenet([224,224,3],2)\n",
        "_model_major_minor.summary()"
      ],
      "metadata": {
        "id": "ETyX1dAObbmM"
      },
      "execution_count": null,
      "outputs": []
    },
    {
      "cell_type": "code",
      "source": [
        "from tensorflow.keras.callbacks import EarlyStopping\n",
        "\n",
        "early_s=EarlyStopping(monitor='val_accuracy',patience=15,mode='max',restore_best_weights=True)\n",
        "\n",
        "_model_major_minor.compile(optimizer='adam', loss = 'sparse_categorical_crossentropy', metrics = ['accuracy'])\n",
        "history_major_minor=_model_major_minor.fit(x=training_set, validation_data=val_set, epochs=150,callbacks=([early_s]))"
      ],
      "metadata": {
        "colab": {
          "base_uri": "https://localhost:8080/"
        },
        "id": "WDv5zXCZbbjo",
        "outputId": "e27e6541-4f98-4de8-b40e-e97b60ff28f4"
      },
      "execution_count": null,
      "outputs": [
        {
          "output_type": "stream",
          "name": "stdout",
          "text": [
            "Epoch 1/150\n",
            "56/56 [==============================] - 402s 7s/step - loss: 0.8199 - accuracy: 0.6864 - val_loss: 0.9567 - val_accuracy: 0.4742\n",
            "Epoch 2/150\n",
            "56/56 [==============================] - 46s 826ms/step - loss: 0.6274 - accuracy: 0.7087 - val_loss: 0.6717 - val_accuracy: 0.6004\n",
            "Epoch 3/150\n",
            "56/56 [==============================] - 46s 821ms/step - loss: 0.6111 - accuracy: 0.7427 - val_loss: 0.7365 - val_accuracy: 0.6654\n",
            "Epoch 4/150\n",
            "56/56 [==============================] - 47s 836ms/step - loss: 0.5003 - accuracy: 0.7662 - val_loss: 0.8361 - val_accuracy: 0.4283\n",
            "Epoch 5/150\n",
            "56/56 [==============================] - 46s 816ms/step - loss: 0.5361 - accuracy: 0.7712 - val_loss: 0.8238 - val_accuracy: 0.4876\n",
            "Epoch 6/150\n",
            "56/56 [==============================] - 46s 819ms/step - loss: 0.4770 - accuracy: 0.7807 - val_loss: 0.6279 - val_accuracy: 0.6329\n",
            "Epoch 7/150\n",
            "56/56 [==============================] - 46s 814ms/step - loss: 0.4623 - accuracy: 0.7879 - val_loss: 0.6972 - val_accuracy: 0.5985\n",
            "Epoch 8/150\n",
            "56/56 [==============================] - 46s 813ms/step - loss: 0.4623 - accuracy: 0.8069 - val_loss: 0.8775 - val_accuracy: 0.7055\n",
            "Epoch 9/150\n",
            "56/56 [==============================] - 46s 813ms/step - loss: 0.4707 - accuracy: 0.7712 - val_loss: 0.4054 - val_accuracy: 0.8203\n",
            "Epoch 10/150\n",
            "56/56 [==============================] - 45s 806ms/step - loss: 0.4438 - accuracy: 0.7997 - val_loss: 0.8359 - val_accuracy: 0.6692\n",
            "Epoch 11/150\n",
            "56/56 [==============================] - 45s 808ms/step - loss: 0.4308 - accuracy: 0.8086 - val_loss: 2.3113 - val_accuracy: 0.6157\n",
            "Epoch 12/150\n",
            "56/56 [==============================] - 45s 806ms/step - loss: 0.4085 - accuracy: 0.8231 - val_loss: 0.5684 - val_accuracy: 0.7247\n",
            "Epoch 13/150\n",
            "56/56 [==============================] - 45s 806ms/step - loss: 0.4025 - accuracy: 0.8253 - val_loss: 0.5420 - val_accuracy: 0.7400\n",
            "Epoch 14/150\n",
            "56/56 [==============================] - 45s 807ms/step - loss: 0.3841 - accuracy: 0.8393 - val_loss: 0.7254 - val_accuracy: 0.6501\n",
            "Epoch 15/150\n",
            "56/56 [==============================] - 45s 806ms/step - loss: 0.3754 - accuracy: 0.8387 - val_loss: 2.1228 - val_accuracy: 0.7094\n",
            "Epoch 16/150\n",
            "56/56 [==============================] - 45s 806ms/step - loss: 0.3722 - accuracy: 0.8382 - val_loss: 0.7186 - val_accuracy: 0.6520\n",
            "Epoch 17/150\n",
            "56/56 [==============================] - 45s 806ms/step - loss: 0.3615 - accuracy: 0.8449 - val_loss: 0.4231 - val_accuracy: 0.8050\n",
            "Epoch 18/150\n",
            "56/56 [==============================] - 45s 806ms/step - loss: 0.3361 - accuracy: 0.8571 - val_loss: 0.5471 - val_accuracy: 0.7954\n",
            "Epoch 19/150\n",
            "56/56 [==============================] - 45s 807ms/step - loss: 0.3281 - accuracy: 0.8733 - val_loss: 0.7148 - val_accuracy: 0.7094\n",
            "Epoch 20/150\n",
            "56/56 [==============================] - 45s 812ms/step - loss: 0.3263 - accuracy: 0.8717 - val_loss: 0.4197 - val_accuracy: 0.8298\n",
            "Epoch 21/150\n",
            "56/56 [==============================] - 45s 811ms/step - loss: 0.3176 - accuracy: 0.8694 - val_loss: 2.1934 - val_accuracy: 0.8375\n",
            "Epoch 22/150\n",
            "56/56 [==============================] - 45s 805ms/step - loss: 0.3161 - accuracy: 0.8683 - val_loss: 4.7008 - val_accuracy: 0.7591\n",
            "Epoch 23/150\n",
            "56/56 [==============================] - 45s 807ms/step - loss: 0.3240 - accuracy: 0.8588 - val_loss: 1.6530 - val_accuracy: 0.4818\n",
            "Epoch 24/150\n",
            "56/56 [==============================] - 45s 806ms/step - loss: 0.3067 - accuracy: 0.8728 - val_loss: 0.8331 - val_accuracy: 0.6769\n",
            "Epoch 25/150\n",
            "56/56 [==============================] - 46s 813ms/step - loss: 0.2931 - accuracy: 0.8778 - val_loss: 0.5279 - val_accuracy: 0.7897\n",
            "Epoch 26/150\n",
            "56/56 [==============================] - 46s 812ms/step - loss: 0.3075 - accuracy: 0.8783 - val_loss: 2.8766 - val_accuracy: 0.6520\n",
            "Epoch 27/150\n",
            "56/56 [==============================] - 46s 816ms/step - loss: 0.3121 - accuracy: 0.8694 - val_loss: 0.3493 - val_accuracy: 0.8853\n",
            "Epoch 28/150\n",
            "56/56 [==============================] - 45s 810ms/step - loss: 0.2797 - accuracy: 0.8817 - val_loss: 0.4330 - val_accuracy: 0.8451\n",
            "Epoch 29/150\n",
            "56/56 [==============================] - 45s 811ms/step - loss: 0.2671 - accuracy: 0.8906 - val_loss: 0.5479 - val_accuracy: 0.8088\n",
            "Epoch 30/150\n",
            "56/56 [==============================] - 45s 810ms/step - loss: 0.2748 - accuracy: 0.8884 - val_loss: 0.4358 - val_accuracy: 0.7935\n",
            "Epoch 31/150\n",
            "56/56 [==============================] - 45s 809ms/step - loss: 0.2570 - accuracy: 0.8973 - val_loss: 0.3057 - val_accuracy: 0.8776\n",
            "Epoch 32/150\n",
            "56/56 [==============================] - 45s 809ms/step - loss: 0.2655 - accuracy: 0.8878 - val_loss: 89.8799 - val_accuracy: 0.4818\n",
            "Epoch 33/150\n",
            "56/56 [==============================] - 45s 810ms/step - loss: 0.2828 - accuracy: 0.8906 - val_loss: 0.4365 - val_accuracy: 0.8298\n",
            "Epoch 34/150\n",
            "56/56 [==============================] - 45s 809ms/step - loss: 0.2855 - accuracy: 0.8862 - val_loss: 0.3020 - val_accuracy: 0.8681\n",
            "Epoch 35/150\n",
            "56/56 [==============================] - 45s 808ms/step - loss: 0.2762 - accuracy: 0.8850 - val_loss: 0.5863 - val_accuracy: 0.7285\n",
            "Epoch 36/150\n",
            "56/56 [==============================] - 45s 810ms/step - loss: 0.2667 - accuracy: 0.8951 - val_loss: 0.5339 - val_accuracy: 0.7476\n",
            "Epoch 37/150\n",
            "56/56 [==============================] - 45s 809ms/step - loss: 0.2393 - accuracy: 0.9079 - val_loss: 0.7622 - val_accuracy: 0.7151\n",
            "Epoch 38/150\n",
            "56/56 [==============================] - 45s 810ms/step - loss: 0.2335 - accuracy: 0.9074 - val_loss: 1.2220 - val_accuracy: 0.6157\n",
            "Epoch 39/150\n",
            "56/56 [==============================] - 45s 809ms/step - loss: 0.2504 - accuracy: 0.8956 - val_loss: 0.3601 - val_accuracy: 0.8719\n",
            "Epoch 40/150\n",
            "56/56 [==============================] - 45s 810ms/step - loss: 0.2309 - accuracy: 0.9051 - val_loss: 0.3757 - val_accuracy: 0.8719\n",
            "Epoch 41/150\n",
            "56/56 [==============================] - 45s 810ms/step - loss: 0.2254 - accuracy: 0.9113 - val_loss: 0.3673 - val_accuracy: 0.8604\n",
            "Epoch 42/150\n",
            "56/56 [==============================] - 46s 811ms/step - loss: 0.2086 - accuracy: 0.9174 - val_loss: 0.4008 - val_accuracy: 0.8642\n"
          ]
        }
      ]
    },
    {
      "cell_type": "code",
      "source": [
        "_model_major_minor.save('/content/drive/MyDrive/gp/Major_Minor.h5')\n"
      ],
      "metadata": {
        "id": "MLh5Zg5td5uA"
      },
      "execution_count": null,
      "outputs": []
    },
    {
      "cell_type": "code",
      "source": [
        "prediction=_model_major_minor.predict(testing_set)\n",
        "classes_x=np.argmax(prediction,axis=1)\n",
        "classes_x"
      ],
      "metadata": {
        "colab": {
          "base_uri": "https://localhost:8080/"
        },
        "id": "KMhnC6pcbbhI",
        "outputId": "70e01167-61f2-41ea-807b-3699d676df57"
      },
      "execution_count": null,
      "outputs": [
        {
          "output_type": "execute_result",
          "data": {
            "text/plain": [
              "array([1, 1, 1, 1, 1, 0, 1, 0, 0, 0, 0, 1, 1, 1, 0, 0, 1, 1, 1, 0, 0, 1,\n",
              "       0, 0, 1, 0, 1, 1, 0, 1, 1, 0, 1, 1, 0, 0, 0, 0, 0, 1, 1, 1, 1, 0,\n",
              "       0, 0, 0, 1, 0, 0, 1, 0, 0, 0, 0, 0, 0, 1, 1, 0, 0, 0, 0, 0, 0, 0,\n",
              "       0, 0, 0, 0, 0, 1, 1, 1, 1, 0, 0, 0, 1, 0, 1, 0, 1, 1, 1, 1, 1, 1,\n",
              "       0, 0, 0, 1, 1, 1, 1, 1, 0, 0, 0, 0, 0, 1, 0, 1, 1, 1, 0, 1, 1, 0,\n",
              "       0, 0, 0, 0, 0, 0, 0, 0, 0, 1, 0, 1, 1, 0, 0, 1, 1, 0, 0, 0, 0, 0,\n",
              "       1, 1, 1, 0, 0, 0, 0, 0, 1, 0, 1, 1, 1, 0, 0, 0, 1, 0, 0, 0, 0, 0,\n",
              "       0, 1, 0, 0, 0, 0, 1, 0, 1, 0, 0, 0, 0, 0, 0, 0])"
            ]
          },
          "metadata": {},
          "execution_count": 75
        }
      ]
    },
    {
      "cell_type": "code",
      "source": [
        "cf = confusion_matrix(y_true= true_labels, y_pred= classes_x)\n",
        "score = accuracy_score(y_true= true_labels, y_pred=classes_x)\n",
        "print(cf)\n",
        "print('the model performane is: ', score*100, \"%\")"
      ],
      "metadata": {
        "colab": {
          "base_uri": "https://localhost:8080/"
        },
        "id": "QfoLNJSZbbd_",
        "outputId": "462b4ea7-152d-4f16-d892-6055a1fb95a5"
      },
      "execution_count": null,
      "outputs": [
        {
          "output_type": "stream",
          "name": "stdout",
          "text": [
            "[[94 11]\n",
            " [ 9 56]]\n",
            "the model performane is:  88.23529411764706 %\n"
          ]
        }
      ]
    },
    {
      "cell_type": "code",
      "source": [
        "print(classification_report(true_labels, classes_x,target_names=label_names))"
      ],
      "metadata": {
        "colab": {
          "base_uri": "https://localhost:8080/"
        },
        "id": "Q56PKpBCcw0z",
        "outputId": "122f65ed-9a74-4066-cca4-0371c66daece"
      },
      "execution_count": null,
      "outputs": [
        {
          "output_type": "stream",
          "name": "stdout",
          "text": [
            "              precision    recall  f1-score   support\n",
            "\n",
            "    abnormal       0.91      0.90      0.90       105\n",
            "      normal       0.84      0.86      0.85        65\n",
            "\n",
            "    accuracy                           0.88       170\n",
            "   macro avg       0.87      0.88      0.88       170\n",
            "weighted avg       0.88      0.88      0.88       170\n",
            "\n"
          ]
        }
      ]
    },
    {
      "cell_type": "code",
      "source": [
        "_model_major_minor.fit(x=training_set, validation_data=val_set, epochs=150,callbacks=([early_s]))"
      ],
      "metadata": {
        "colab": {
          "base_uri": "https://localhost:8080/"
        },
        "id": "TUPSERrXnMz6",
        "outputId": "31665077-cb4c-4509-c3f8-21097811b9bf"
      },
      "execution_count": null,
      "outputs": [
        {
          "output_type": "stream",
          "name": "stdout",
          "text": [
            "Epoch 1/150\n",
            "56/56 [==============================] - 46s 822ms/step - loss: 0.2721 - accuracy: 0.8934 - val_loss: 12.5908 - val_accuracy: 0.7228\n",
            "Epoch 2/150\n",
            "56/56 [==============================] - 46s 815ms/step - loss: 0.3636 - accuracy: 0.8549 - val_loss: 5.5273 - val_accuracy: 0.6444\n",
            "Epoch 3/150\n",
            "56/56 [==============================] - 47s 842ms/step - loss: 0.3137 - accuracy: 0.8750 - val_loss: 1.1546 - val_accuracy: 0.6635\n",
            "Epoch 4/150\n",
            "56/56 [==============================] - 46s 827ms/step - loss: 0.3272 - accuracy: 0.8666 - val_loss: 0.4167 - val_accuracy: 0.8222\n",
            "Epoch 5/150\n",
            "56/56 [==============================] - 46s 828ms/step - loss: 0.3143 - accuracy: 0.8717 - val_loss: 0.4333 - val_accuracy: 0.8164\n",
            "Epoch 6/150\n",
            "56/56 [==============================] - 47s 832ms/step - loss: 0.3032 - accuracy: 0.8772 - val_loss: 0.3479 - val_accuracy: 0.8585\n",
            "Epoch 7/150\n",
            "56/56 [==============================] - 46s 817ms/step - loss: 0.2545 - accuracy: 0.8984 - val_loss: 0.4358 - val_accuracy: 0.8375\n",
            "Epoch 8/150\n",
            "56/56 [==============================] - 46s 817ms/step - loss: 0.2843 - accuracy: 0.8733 - val_loss: 0.4085 - val_accuracy: 0.8356\n",
            "Epoch 9/150\n",
            "56/56 [==============================] - 46s 816ms/step - loss: 0.2511 - accuracy: 0.9001 - val_loss: 0.4709 - val_accuracy: 0.7686\n",
            "Epoch 10/150\n",
            "56/56 [==============================] - 46s 821ms/step - loss: 0.2420 - accuracy: 0.9012 - val_loss: 0.4171 - val_accuracy: 0.8222\n",
            "Epoch 11/150\n",
            "56/56 [==============================] - 46s 814ms/step - loss: 0.2286 - accuracy: 0.9023 - val_loss: 0.6174 - val_accuracy: 0.7553\n",
            "Epoch 12/150\n",
            "56/56 [==============================] - 47s 835ms/step - loss: 0.2814 - accuracy: 0.8890 - val_loss: 0.4498 - val_accuracy: 0.8260\n",
            "Epoch 13/150\n",
            "56/56 [==============================] - 45s 811ms/step - loss: 0.2216 - accuracy: 0.9141 - val_loss: 0.5438 - val_accuracy: 0.7763\n",
            "Epoch 14/150\n",
            "56/56 [==============================] - 45s 811ms/step - loss: 0.2208 - accuracy: 0.9102 - val_loss: 0.3255 - val_accuracy: 0.8509\n",
            "Epoch 15/150\n",
            "56/56 [==============================] - 45s 811ms/step - loss: 0.2011 - accuracy: 0.9196 - val_loss: 0.7078 - val_accuracy: 0.8470\n",
            "Epoch 16/150\n",
            "56/56 [==============================] - 46s 816ms/step - loss: 0.2221 - accuracy: 0.9090 - val_loss: 0.3406 - val_accuracy: 0.8738\n",
            "Epoch 17/150\n",
            "56/56 [==============================] - 45s 811ms/step - loss: 0.2030 - accuracy: 0.9196 - val_loss: 0.4154 - val_accuracy: 0.8623\n",
            "Epoch 18/150\n",
            "56/56 [==============================] - 47s 836ms/step - loss: 0.2086 - accuracy: 0.9174 - val_loss: 0.5959 - val_accuracy: 0.7744\n",
            "Epoch 19/150\n",
            "56/56 [==============================] - 46s 813ms/step - loss: 0.1965 - accuracy: 0.9280 - val_loss: 0.8026 - val_accuracy: 0.7361\n",
            "Epoch 20/150\n",
            "56/56 [==============================] - 45s 812ms/step - loss: 0.1938 - accuracy: 0.9241 - val_loss: 0.3773 - val_accuracy: 0.8528\n",
            "Epoch 21/150\n",
            "56/56 [==============================] - 46s 813ms/step - loss: 0.1970 - accuracy: 0.9208 - val_loss: 5.1334 - val_accuracy: 0.6826\n",
            "Epoch 22/150\n",
            "56/56 [==============================] - 46s 813ms/step - loss: 0.1855 - accuracy: 0.9314 - val_loss: 1.7863 - val_accuracy: 0.5698\n",
            "Epoch 23/150\n",
            "56/56 [==============================] - 46s 812ms/step - loss: 0.1836 - accuracy: 0.9280 - val_loss: 0.4640 - val_accuracy: 0.8222\n",
            "Epoch 24/150\n",
            "56/56 [==============================] - 46s 812ms/step - loss: 0.1839 - accuracy: 0.9263 - val_loss: 0.7112 - val_accuracy: 0.8011\n",
            "Epoch 25/150\n",
            "56/56 [==============================] - 45s 812ms/step - loss: 0.1437 - accuracy: 0.9448 - val_loss: 0.4137 - val_accuracy: 0.8585\n",
            "Epoch 26/150\n",
            "56/56 [==============================] - 46s 812ms/step - loss: 0.1571 - accuracy: 0.9414 - val_loss: 0.4673 - val_accuracy: 0.8432\n",
            "Epoch 27/150\n",
            "56/56 [==============================] - 46s 813ms/step - loss: 0.1736 - accuracy: 0.9319 - val_loss: 0.4113 - val_accuracy: 0.8585\n",
            "Epoch 28/150\n",
            "56/56 [==============================] - 45s 812ms/step - loss: 0.1519 - accuracy: 0.9381 - val_loss: 0.4912 - val_accuracy: 0.8375\n",
            "Epoch 29/150\n",
            "56/56 [==============================] - 47s 835ms/step - loss: 0.1568 - accuracy: 0.9342 - val_loss: 0.4016 - val_accuracy: 0.8566\n",
            "Epoch 30/150\n",
            "56/56 [==============================] - 45s 810ms/step - loss: 0.1494 - accuracy: 0.9431 - val_loss: 0.5067 - val_accuracy: 0.8470\n",
            "Epoch 31/150\n",
            "56/56 [==============================] - 46s 811ms/step - loss: 0.1387 - accuracy: 0.9487 - val_loss: 0.3538 - val_accuracy: 0.8795\n",
            "Epoch 32/150\n",
            "56/56 [==============================] - 45s 810ms/step - loss: 0.1216 - accuracy: 0.9520 - val_loss: 0.3772 - val_accuracy: 0.8776\n",
            "Epoch 33/150\n",
            "56/56 [==============================] - 45s 810ms/step - loss: 0.1386 - accuracy: 0.9492 - val_loss: 0.6469 - val_accuracy: 0.7973\n",
            "Epoch 34/150\n",
            "56/56 [==============================] - 45s 810ms/step - loss: 0.1148 - accuracy: 0.9554 - val_loss: 0.6622 - val_accuracy: 0.8031\n",
            "Epoch 35/150\n",
            "56/56 [==============================] - 45s 811ms/step - loss: 0.1316 - accuracy: 0.9492 - val_loss: 1.3056 - val_accuracy: 0.7476\n",
            "Epoch 36/150\n",
            "56/56 [==============================] - 46s 815ms/step - loss: 0.1174 - accuracy: 0.9548 - val_loss: 0.3815 - val_accuracy: 0.8948\n",
            "Epoch 37/150\n",
            "56/56 [==============================] - 45s 810ms/step - loss: 0.1038 - accuracy: 0.9626 - val_loss: 0.4163 - val_accuracy: 0.8719\n",
            "Epoch 38/150\n",
            "56/56 [==============================] - 46s 816ms/step - loss: 0.0971 - accuracy: 0.9676 - val_loss: 0.2600 - val_accuracy: 0.9044\n",
            "Epoch 39/150\n",
            "56/56 [==============================] - 45s 810ms/step - loss: 0.0997 - accuracy: 0.9665 - val_loss: 0.3542 - val_accuracy: 0.8929\n",
            "Epoch 40/150\n",
            "56/56 [==============================] - 45s 810ms/step - loss: 0.1023 - accuracy: 0.9682 - val_loss: 0.6666 - val_accuracy: 0.8241\n",
            "Epoch 41/150\n",
            "56/56 [==============================] - 45s 811ms/step - loss: 0.1268 - accuracy: 0.9453 - val_loss: 0.3434 - val_accuracy: 0.8910\n",
            "Epoch 42/150\n",
            "56/56 [==============================] - 46s 812ms/step - loss: 0.1305 - accuracy: 0.9542 - val_loss: 0.5412 - val_accuracy: 0.8738\n",
            "Epoch 43/150\n",
            "56/56 [==============================] - 45s 809ms/step - loss: 0.1379 - accuracy: 0.9464 - val_loss: 301.1436 - val_accuracy: 0.6730\n",
            "Epoch 44/150\n",
            "56/56 [==============================] - 45s 810ms/step - loss: 0.2344 - accuracy: 0.9152 - val_loss: 0.8203 - val_accuracy: 0.7094\n",
            "Epoch 45/150\n",
            "56/56 [==============================] - 45s 812ms/step - loss: 0.1306 - accuracy: 0.9537 - val_loss: 0.4043 - val_accuracy: 0.8489\n",
            "Epoch 46/150\n",
            "56/56 [==============================] - 45s 811ms/step - loss: 0.1194 - accuracy: 0.9554 - val_loss: 0.4829 - val_accuracy: 0.8662\n",
            "Epoch 47/150\n",
            "56/56 [==============================] - 45s 811ms/step - loss: 0.1216 - accuracy: 0.9520 - val_loss: 0.2971 - val_accuracy: 0.8987\n",
            "Epoch 48/150\n",
            "56/56 [==============================] - 45s 809ms/step - loss: 0.0951 - accuracy: 0.9626 - val_loss: 0.4212 - val_accuracy: 0.8948\n",
            "Epoch 49/150\n",
            "56/56 [==============================] - 45s 808ms/step - loss: 0.0766 - accuracy: 0.9743 - val_loss: 0.5780 - val_accuracy: 0.8451\n",
            "Epoch 50/150\n",
            "56/56 [==============================] - 45s 810ms/step - loss: 0.0764 - accuracy: 0.9754 - val_loss: 0.9386 - val_accuracy: 0.7897\n",
            "Epoch 51/150\n",
            "56/56 [==============================] - 45s 811ms/step - loss: 0.1096 - accuracy: 0.9581 - val_loss: 0.5087 - val_accuracy: 0.8413\n",
            "Epoch 52/150\n",
            "56/56 [==============================] - 45s 812ms/step - loss: 0.0910 - accuracy: 0.9676 - val_loss: 0.5059 - val_accuracy: 0.8470\n",
            "Epoch 53/150\n",
            "56/56 [==============================] - 46s 816ms/step - loss: 0.0828 - accuracy: 0.9743 - val_loss: 0.3362 - val_accuracy: 0.9159\n",
            "Epoch 54/150\n",
            "56/56 [==============================] - 45s 810ms/step - loss: 0.0532 - accuracy: 0.9838 - val_loss: 0.5379 - val_accuracy: 0.8489\n",
            "Epoch 55/150\n",
            "56/56 [==============================] - 45s 809ms/step - loss: 0.0597 - accuracy: 0.9782 - val_loss: 0.4822 - val_accuracy: 0.8757\n",
            "Epoch 56/150\n",
            "56/56 [==============================] - 45s 810ms/step - loss: 0.0853 - accuracy: 0.9710 - val_loss: 0.6991 - val_accuracy: 0.7763\n",
            "Epoch 57/150\n",
            "56/56 [==============================] - 45s 810ms/step - loss: 0.0816 - accuracy: 0.9704 - val_loss: 0.8695 - val_accuracy: 0.8164\n",
            "Epoch 58/150\n",
            "56/56 [==============================] - 45s 812ms/step - loss: 0.1093 - accuracy: 0.9632 - val_loss: 0.4184 - val_accuracy: 0.8834\n",
            "Epoch 59/150\n",
            "56/56 [==============================] - 45s 810ms/step - loss: 0.0707 - accuracy: 0.9777 - val_loss: 0.5055 - val_accuracy: 0.8834\n",
            "Epoch 60/150\n",
            "56/56 [==============================] - 46s 815ms/step - loss: 0.0363 - accuracy: 0.9877 - val_loss: 0.2804 - val_accuracy: 0.9216\n",
            "Epoch 61/150\n",
            "56/56 [==============================] - 45s 811ms/step - loss: 0.0452 - accuracy: 0.9855 - val_loss: 0.4329 - val_accuracy: 0.9159\n",
            "Epoch 62/150\n",
            "56/56 [==============================] - 45s 810ms/step - loss: 0.0579 - accuracy: 0.9810 - val_loss: 0.3905 - val_accuracy: 0.8815\n",
            "Epoch 63/150\n",
            "56/56 [==============================] - 45s 810ms/step - loss: 0.0661 - accuracy: 0.9743 - val_loss: 0.4277 - val_accuracy: 0.8853\n",
            "Epoch 64/150\n",
            "56/56 [==============================] - 45s 811ms/step - loss: 0.0483 - accuracy: 0.9833 - val_loss: 0.5755 - val_accuracy: 0.8623\n",
            "Epoch 65/150\n",
            "56/56 [==============================] - 45s 812ms/step - loss: 0.0615 - accuracy: 0.9805 - val_loss: 0.5180 - val_accuracy: 0.8184\n",
            "Epoch 66/150\n",
            "56/56 [==============================] - 45s 810ms/step - loss: 0.0524 - accuracy: 0.9844 - val_loss: 0.7437 - val_accuracy: 0.8356\n",
            "Epoch 67/150\n",
            "56/56 [==============================] - 45s 811ms/step - loss: 0.0391 - accuracy: 0.9844 - val_loss: 0.6596 - val_accuracy: 0.8547\n",
            "Epoch 68/150\n",
            "56/56 [==============================] - 45s 811ms/step - loss: 0.0326 - accuracy: 0.9883 - val_loss: 0.4030 - val_accuracy: 0.9082\n",
            "Epoch 69/150\n",
            "56/56 [==============================] - 45s 811ms/step - loss: 0.0184 - accuracy: 0.9939 - val_loss: 0.5677 - val_accuracy: 0.8948\n",
            "Epoch 70/150\n",
            "56/56 [==============================] - 45s 811ms/step - loss: 0.0554 - accuracy: 0.9821 - val_loss: 1.1588 - val_accuracy: 0.8451\n",
            "Epoch 71/150\n",
            "56/56 [==============================] - 45s 811ms/step - loss: 0.1051 - accuracy: 0.9676 - val_loss: 0.6780 - val_accuracy: 0.8260\n",
            "Epoch 72/150\n",
            "56/56 [==============================] - 45s 811ms/step - loss: 0.0908 - accuracy: 0.9665 - val_loss: 0.6722 - val_accuracy: 0.8585\n",
            "Epoch 73/150\n",
            "56/56 [==============================] - 45s 810ms/step - loss: 0.0556 - accuracy: 0.9844 - val_loss: 0.3312 - val_accuracy: 0.9006\n",
            "Epoch 74/150\n",
            "56/56 [==============================] - 45s 811ms/step - loss: 0.0362 - accuracy: 0.9849 - val_loss: 0.5134 - val_accuracy: 0.9120\n",
            "Epoch 75/150\n",
            "56/56 [==============================] - 46s 817ms/step - loss: 0.0420 - accuracy: 0.9860 - val_loss: 0.3668 - val_accuracy: 0.8948\n"
          ]
        },
        {
          "output_type": "execute_result",
          "data": {
            "text/plain": [
              "<keras.callbacks.History at 0x7f5a7db76f90>"
            ]
          },
          "metadata": {},
          "execution_count": 37
        }
      ]
    },
    {
      "cell_type": "code",
      "source": [
        "_model_major_minor.save('/content/drive/MyDrive/gp/Major_Minor_retrain.h5')\n"
      ],
      "metadata": {
        "id": "GeGjd-b1_vz-"
      },
      "execution_count": null,
      "outputs": []
    },
    {
      "cell_type": "code",
      "source": [
        "prediction=_model_major_minor.predict(testing_set)\n",
        "classes_x=np.argmax(prediction,axis=1)\n",
        "\n",
        "classes_x"
      ],
      "metadata": {
        "colab": {
          "base_uri": "https://localhost:8080/"
        },
        "id": "d745q85ucXU0",
        "outputId": "d29b588b-7835-4f68-ab80-88053c2d9746"
      },
      "execution_count": null,
      "outputs": [
        {
          "output_type": "execute_result",
          "data": {
            "text/plain": [
              "array([0, 1, 0, 1, 0, 1, 0, 0, 0, 1, 0, 0, 0, 0, 0, 1, 0, 1, 1, 0, 1, 1,\n",
              "       1, 1, 1, 1, 1, 1, 0, 0, 1, 1, 1, 0, 1, 1, 0, 0, 0, 0, 1, 0, 0, 0,\n",
              "       1, 0, 1, 0, 0, 0, 0, 0, 1, 1, 0, 0, 1, 0, 0, 0, 0, 0, 1, 1, 0, 0,\n",
              "       0, 0, 0, 1, 1, 0, 0, 0, 0, 0, 0, 1, 0, 0, 0, 1, 1, 0, 0, 1, 1, 0,\n",
              "       1, 0, 1, 0, 1, 0, 0, 1, 1, 1, 1, 0, 0, 1, 1, 0, 1, 1, 0, 1, 1, 0,\n",
              "       0, 0, 0, 1, 0, 0, 0, 0, 0, 0, 1, 1, 1, 0, 0, 1, 0, 1, 0, 0, 0, 0,\n",
              "       0, 0, 0, 1, 0, 1, 0, 0, 0, 0, 1, 1, 0, 0, 0, 0, 1, 0, 0, 0, 0, 1,\n",
              "       1, 1, 0, 0, 1, 0, 1, 0, 0, 0, 0, 1, 1, 0, 1, 0])"
            ]
          },
          "metadata": {},
          "execution_count": 82
        }
      ]
    },
    {
      "cell_type": "code",
      "source": [
        "cf = confusion_matrix(y_true= true_labels, y_pred= classes_x)\n",
        "score = accuracy_score(y_true= true_labels, y_pred=classes_x)\n",
        "print(cf)\n",
        "print('the model performane is: ', score*100, \"%\")"
      ],
      "metadata": {
        "colab": {
          "base_uri": "https://localhost:8080/"
        },
        "id": "IGyegfRjnW8A",
        "outputId": "76ea9bee-e675-4436-93b2-d04f55c21c8c"
      },
      "execution_count": null,
      "outputs": [
        {
          "output_type": "stream",
          "name": "stdout",
          "text": [
            "[[64 41]\n",
            " [39 26]]\n",
            "the model performane is:  52.94117647058824 %\n"
          ]
        }
      ]
    },
    {
      "cell_type": "code",
      "source": [
        "print(classification_report(true_labels, classes_x,target_names=label_names))"
      ],
      "metadata": {
        "colab": {
          "base_uri": "https://localhost:8080/"
        },
        "id": "MnEa_Wi1nW5L",
        "outputId": "31f745b3-47ed-45b0-abf0-9c1a408f97a7"
      },
      "execution_count": null,
      "outputs": [
        {
          "output_type": "stream",
          "name": "stdout",
          "text": [
            "              precision    recall  f1-score   support\n",
            "\n",
            "    abnormal       0.62      0.61      0.62       105\n",
            "      normal       0.39      0.40      0.39        65\n",
            "\n",
            "    accuracy                           0.53       170\n",
            "   macro avg       0.50      0.50      0.50       170\n",
            "weighted avg       0.53      0.53      0.53       170\n",
            "\n"
          ]
        }
      ]
    },
    {
      "cell_type": "markdown",
      "source": [
        "#minor_minor\n",
        "448-448\\\n",
        "max no of raw data"
      ],
      "metadata": {
        "id": "RjhwKLkkqhsG"
      }
    },
    {
      "cell_type": "code",
      "source": [
        "train_data_generation = ImageDataGenerator(rescale=1./255)\n",
        "training_set = train_data_generation.flow_from_directory('/content/drive/MyDrive/gp/50:50/MINOR-MINOR/train',\n",
        "                                                         target_size=(224, 224),\n",
        "                                                         batch_size=32,\n",
        "                                                         class_mode='binary',seed=0)\n",
        "\n",
        "\n",
        "\n",
        "val_data_generation = ImageDataGenerator(rescale=1./255)\n",
        "val_set = test_data_generation.flow_from_directory('/content/drive/MyDrive/gp/50:50/MINOR-MINOR/val',\n",
        "                                                       target_size=(224, 224),\n",
        "                                                       batch_size=32,\n",
        "                                                       class_mode='binary',seed=0)\n"
      ],
      "metadata": {
        "colab": {
          "base_uri": "https://localhost:8080/"
        },
        "id": "K5KelK-2nWtg",
        "outputId": "0fcab91b-3eab-4984-b151-fe3826ca45fa"
      },
      "execution_count": null,
      "outputs": [
        {
          "output_type": "stream",
          "name": "stdout",
          "text": [
            "Found 896 images belonging to 2 classes.\n",
            "Found 503 images belonging to 2 classes.\n"
          ]
        }
      ]
    },
    {
      "cell_type": "code",
      "source": [
        "true_labels=[]\n",
        "true_labels = np.concatenate([testing_set.next()[1] for i in range(testing_set.__len__())])\n",
        "true_labels"
      ],
      "metadata": {
        "colab": {
          "base_uri": "https://localhost:8080/"
        },
        "id": "QGXovwURq3ku",
        "outputId": "ee1bc7d9-589c-40e2-fa07-098f074232c7"
      },
      "execution_count": null,
      "outputs": [
        {
          "output_type": "execute_result",
          "data": {
            "text/plain": [
              "array([0., 0., 0., 0., 0., 0., 0., 0., 0., 0., 0., 0., 0., 0., 0., 0., 0.,\n",
              "       1., 0., 0., 0., 0., 0., 0., 0., 0., 0., 0., 0., 0., 0., 0., 0., 1.,\n",
              "       0., 1., 1., 0., 1., 0., 1., 0., 0., 0., 0., 0., 0., 0., 0., 0., 0.,\n",
              "       0., 1., 1., 0., 0., 0., 0., 0., 0., 1., 0., 0., 0., 1., 1., 0., 0.,\n",
              "       0., 1., 0., 0., 0., 0., 0., 0., 0., 0., 0., 0., 1., 0., 0., 0., 0.,\n",
              "       0., 0., 0., 0., 0., 0., 0., 0., 0., 0., 0., 0., 0., 0., 0., 0., 0.,\n",
              "       0., 0., 0., 0., 0., 1., 0., 0., 0., 0., 0., 0., 0., 0., 0., 0., 0.,\n",
              "       0., 0., 0., 0., 0., 0., 0., 0., 0., 0., 0., 0., 0., 0., 0., 0., 1.,\n",
              "       1., 1., 0., 0., 1., 0., 0., 1., 1., 0., 1., 0., 0., 0., 1., 0., 0.,\n",
              "       1., 0., 1., 0., 0., 0., 0., 0., 0., 0., 0., 0., 0., 0., 0., 1., 1.,\n",
              "       0., 0., 0., 1., 1., 0., 0., 0., 0., 0., 0., 0., 0., 1., 0., 0., 0.,\n",
              "       0., 0., 0., 0., 0., 0., 0., 0., 0., 0., 0., 0., 0., 0., 0., 0., 0.,\n",
              "       0., 0., 1., 0., 0., 0., 0., 0., 0., 0., 0., 0., 1., 0., 1., 0., 0.,\n",
              "       0., 0., 0., 0., 1., 0., 0., 0., 0., 1., 0., 0., 0., 0., 0., 1., 0.,\n",
              "       0., 1., 0., 1., 0., 0., 0., 0., 0., 0., 1., 0., 0., 0., 0., 0., 1.,\n",
              "       0., 0., 0., 0., 0., 0., 0., 0., 0., 0., 0., 0., 0., 0., 0., 0., 0.,\n",
              "       0., 0., 0., 0., 0., 0., 0., 0., 0., 1., 0., 0., 0., 1., 1., 0., 0.,\n",
              "       0., 0., 0., 0., 0., 0., 0., 0., 0., 0., 0., 0., 0., 0., 0., 0., 0.,\n",
              "       0., 0., 0., 0., 0., 0., 0., 0., 1., 0., 0., 1., 0., 1., 0., 0., 0.,\n",
              "       0., 0., 0., 0., 0., 1., 0., 0., 0., 0., 0., 0., 0., 0., 0., 0., 0.,\n",
              "       0., 0., 0., 0., 0., 0., 0., 0., 0., 0., 1., 0., 0., 0., 1., 0., 1.,\n",
              "       0., 0., 0., 0., 0., 0., 0., 0., 0., 0., 0., 0., 0., 0., 1., 1., 0.,\n",
              "       0., 0., 0., 0., 1., 1., 0., 0., 0., 0., 0., 0., 0., 0., 0., 0., 1.,\n",
              "       0., 0., 0., 1., 0., 1., 0., 0., 0., 1., 0., 0., 0., 0., 0., 0., 0.,\n",
              "       0., 0., 0., 0., 0., 0., 1., 0., 1., 1., 0., 0., 1., 0., 0., 0., 0.,\n",
              "       0., 0., 0., 1., 0., 0., 0., 0., 0., 0., 1., 0., 1., 0., 0., 0., 1.,\n",
              "       0., 0., 0., 0., 0., 0., 0., 0., 0., 0., 0., 0., 0., 0., 0., 0.],\n",
              "      dtype=float32)"
            ]
          },
          "metadata": {},
          "execution_count": 86
        }
      ]
    },
    {
      "cell_type": "code",
      "source": [
        "_model_minor_minor= densenet([224,224,3],2)\n",
        "# _model_minor_minor.summary()"
      ],
      "metadata": {
        "id": "eB1HacoIq3hb"
      },
      "execution_count": null,
      "outputs": []
    },
    {
      "cell_type": "code",
      "source": [
        "_model_minor_minor.compile(optimizer='adam', loss = 'sparse_categorical_crossentropy', metrics = ['accuracy'])\n",
        "history_minor_minor=_model_minor_minor.fit(x=training_set, validation_data=val_set, epochs=150,callbacks=([early_s]))"
      ],
      "metadata": {
        "colab": {
          "base_uri": "https://localhost:8080/"
        },
        "id": "Fq7ztZrrq3eg",
        "outputId": "ffab99c0-138a-4b62-9c67-99d43c120ffa"
      },
      "execution_count": null,
      "outputs": [
        {
          "output_type": "stream",
          "name": "stdout",
          "text": [
            "Epoch 1/150\n",
            "28/28 [==============================] - 258s 9s/step - loss: 1.0676 - accuracy: 0.7065 - val_loss: 37.9752 - val_accuracy: 0.3936\n",
            "Epoch 2/150\n",
            "28/28 [==============================] - 25s 884ms/step - loss: 0.4705 - accuracy: 0.7991 - val_loss: 2.7190 - val_accuracy: 0.3817\n",
            "Epoch 3/150\n",
            "28/28 [==============================] - 25s 883ms/step - loss: 0.4713 - accuracy: 0.7757 - val_loss: 1.4495 - val_accuracy: 0.3817\n",
            "Epoch 4/150\n",
            "28/28 [==============================] - 25s 882ms/step - loss: 0.4694 - accuracy: 0.7511 - val_loss: 1.0294 - val_accuracy: 0.3817\n",
            "Epoch 5/150\n",
            "28/28 [==============================] - 25s 880ms/step - loss: 0.4438 - accuracy: 0.8002 - val_loss: 0.9154 - val_accuracy: 0.3817\n",
            "Epoch 6/150\n",
            "28/28 [==============================] - 25s 878ms/step - loss: 0.4374 - accuracy: 0.8147 - val_loss: 1.3726 - val_accuracy: 0.3817\n",
            "Epoch 7/150\n",
            "28/28 [==============================] - 25s 880ms/step - loss: 0.3989 - accuracy: 0.8237 - val_loss: 1.5172 - val_accuracy: 0.3837\n",
            "Epoch 8/150\n",
            "28/28 [==============================] - 25s 878ms/step - loss: 0.4493 - accuracy: 0.8058 - val_loss: 1.7537 - val_accuracy: 0.3598\n",
            "Epoch 9/150\n",
            "28/28 [==============================] - 25s 889ms/step - loss: 0.3682 - accuracy: 0.8415 - val_loss: 1.3970 - val_accuracy: 0.4294\n",
            "Epoch 10/150\n",
            "28/28 [==============================] - 25s 891ms/step - loss: 0.3814 - accuracy: 0.8438 - val_loss: 0.9919 - val_accuracy: 0.6243\n",
            "Epoch 11/150\n",
            "28/28 [==============================] - 25s 880ms/step - loss: 0.3574 - accuracy: 0.8560 - val_loss: 1.3428 - val_accuracy: 0.4930\n",
            "Epoch 12/150\n",
            "28/28 [==============================] - 25s 880ms/step - loss: 0.3410 - accuracy: 0.8605 - val_loss: 0.7551 - val_accuracy: 0.6163\n",
            "Epoch 13/150\n",
            "28/28 [==============================] - 25s 892ms/step - loss: 0.3778 - accuracy: 0.8504 - val_loss: 0.7231 - val_accuracy: 0.7376\n",
            "Epoch 14/150\n",
            "28/28 [==============================] - 25s 879ms/step - loss: 0.3741 - accuracy: 0.8605 - val_loss: 9.0543 - val_accuracy: 0.4692\n",
            "Epoch 15/150\n",
            "28/28 [==============================] - 25s 880ms/step - loss: 0.3224 - accuracy: 0.8627 - val_loss: 9.8686 - val_accuracy: 0.6421\n",
            "Epoch 16/150\n",
            "28/28 [==============================] - 25s 880ms/step - loss: 0.3350 - accuracy: 0.8694 - val_loss: 1.7518 - val_accuracy: 0.6978\n",
            "Epoch 17/150\n",
            "28/28 [==============================] - 25s 879ms/step - loss: 0.3206 - accuracy: 0.8795 - val_loss: 0.9266 - val_accuracy: 0.6302\n",
            "Epoch 18/150\n",
            "28/28 [==============================] - 25s 879ms/step - loss: 0.3127 - accuracy: 0.8717 - val_loss: 2.5088 - val_accuracy: 0.6859\n",
            "Epoch 19/150\n",
            "28/28 [==============================] - 25s 879ms/step - loss: 0.2896 - accuracy: 0.8806 - val_loss: 2.2694 - val_accuracy: 0.7058\n",
            "Epoch 20/150\n",
            "28/28 [==============================] - 25s 880ms/step - loss: 0.3124 - accuracy: 0.8728 - val_loss: 1.6279 - val_accuracy: 0.6740\n",
            "Epoch 21/150\n",
            "28/28 [==============================] - 25s 878ms/step - loss: 0.2926 - accuracy: 0.8739 - val_loss: 0.9545 - val_accuracy: 0.7217\n",
            "Epoch 22/150\n",
            "28/28 [==============================] - 25s 889ms/step - loss: 0.2738 - accuracy: 0.8984 - val_loss: 1.1063 - val_accuracy: 0.7515\n",
            "Epoch 23/150\n",
            "28/28 [==============================] - 25s 877ms/step - loss: 0.2913 - accuracy: 0.8761 - val_loss: 1.7669 - val_accuracy: 0.6819\n",
            "Epoch 24/150\n",
            "28/28 [==============================] - 25s 890ms/step - loss: 0.2415 - accuracy: 0.9029 - val_loss: 0.3474 - val_accuracy: 0.8588\n",
            "Epoch 25/150\n",
            "28/28 [==============================] - 25s 884ms/step - loss: 0.2544 - accuracy: 0.8929 - val_loss: 1.6252 - val_accuracy: 0.7435\n",
            "Epoch 26/150\n",
            "28/28 [==============================] - 25s 879ms/step - loss: 0.2836 - accuracy: 0.8962 - val_loss: 0.6654 - val_accuracy: 0.7276\n",
            "Epoch 27/150\n",
            "28/28 [==============================] - 25s 878ms/step - loss: 0.2331 - accuracy: 0.9096 - val_loss: 0.5562 - val_accuracy: 0.8072\n",
            "Epoch 28/150\n",
            "28/28 [==============================] - 25s 878ms/step - loss: 0.2591 - accuracy: 0.8973 - val_loss: 0.3483 - val_accuracy: 0.8410\n",
            "Epoch 29/150\n",
            "28/28 [==============================] - 25s 879ms/step - loss: 0.2542 - accuracy: 0.9062 - val_loss: 0.3793 - val_accuracy: 0.8350\n",
            "Epoch 30/150\n",
            "28/28 [==============================] - 25s 891ms/step - loss: 0.2416 - accuracy: 0.9040 - val_loss: 0.3355 - val_accuracy: 0.8688\n",
            "Epoch 31/150\n",
            "28/28 [==============================] - 25s 880ms/step - loss: 0.2253 - accuracy: 0.9163 - val_loss: 0.4338 - val_accuracy: 0.8091\n",
            "Epoch 32/150\n",
            "28/28 [==============================] - 25s 880ms/step - loss: 0.2352 - accuracy: 0.9107 - val_loss: 0.4089 - val_accuracy: 0.8370\n",
            "Epoch 33/150\n",
            "28/28 [==============================] - 25s 879ms/step - loss: 0.2413 - accuracy: 0.9007 - val_loss: 1.0401 - val_accuracy: 0.6501\n",
            "Epoch 34/150\n",
            "28/28 [==============================] - 25s 879ms/step - loss: 0.2616 - accuracy: 0.9007 - val_loss: 0.3396 - val_accuracy: 0.8509\n",
            "Epoch 35/150\n",
            "28/28 [==============================] - 25s 878ms/step - loss: 0.2382 - accuracy: 0.9051 - val_loss: 0.7706 - val_accuracy: 0.7972\n",
            "Epoch 36/150\n",
            "28/28 [==============================] - 26s 949ms/step - loss: 0.2271 - accuracy: 0.9208 - val_loss: 0.3493 - val_accuracy: 0.8728\n",
            "Epoch 37/150\n",
            "28/28 [==============================] - 25s 879ms/step - loss: 0.2470 - accuracy: 0.9029 - val_loss: 0.4975 - val_accuracy: 0.8529\n",
            "Epoch 38/150\n",
            "28/28 [==============================] - 25s 880ms/step - loss: 0.2460 - accuracy: 0.9029 - val_loss: 1.0260 - val_accuracy: 0.8091\n",
            "Epoch 39/150\n",
            "28/28 [==============================] - 25s 887ms/step - loss: 0.1997 - accuracy: 0.9263 - val_loss: 0.3774 - val_accuracy: 0.8787\n",
            "Epoch 40/150\n",
            "28/28 [==============================] - 25s 892ms/step - loss: 0.2255 - accuracy: 0.9107 - val_loss: 0.4427 - val_accuracy: 0.8728\n",
            "Epoch 41/150\n",
            "28/28 [==============================] - 25s 881ms/step - loss: 0.2143 - accuracy: 0.9141 - val_loss: 1.4414 - val_accuracy: 0.7197\n",
            "Epoch 42/150\n",
            "28/28 [==============================] - 25s 879ms/step - loss: 0.2084 - accuracy: 0.9230 - val_loss: 1.0993 - val_accuracy: 0.7634\n",
            "Epoch 43/150\n",
            "28/28 [==============================] - 25s 887ms/step - loss: 0.2161 - accuracy: 0.9129 - val_loss: 0.2627 - val_accuracy: 0.8966\n",
            "Epoch 44/150\n",
            "28/28 [==============================] - 25s 879ms/step - loss: 0.2123 - accuracy: 0.9141 - val_loss: 0.6176 - val_accuracy: 0.7336\n",
            "Epoch 45/150\n",
            "28/28 [==============================] - 25s 882ms/step - loss: 0.2084 - accuracy: 0.9152 - val_loss: 0.4491 - val_accuracy: 0.7773\n",
            "Epoch 46/150\n",
            "28/28 [==============================] - 25s 880ms/step - loss: 0.1966 - accuracy: 0.9118 - val_loss: 0.3654 - val_accuracy: 0.8628\n",
            "Epoch 47/150\n",
            "28/28 [==============================] - 25s 878ms/step - loss: 0.2113 - accuracy: 0.9152 - val_loss: 0.2887 - val_accuracy: 0.8807\n",
            "Epoch 48/150\n",
            "28/28 [==============================] - 25s 884ms/step - loss: 0.2027 - accuracy: 0.9141 - val_loss: 0.3432 - val_accuracy: 0.8608\n",
            "Epoch 49/150\n",
            "28/28 [==============================] - 25s 878ms/step - loss: 0.1889 - accuracy: 0.9297 - val_loss: 0.3528 - val_accuracy: 0.8708\n",
            "Epoch 50/150\n",
            "28/28 [==============================] - 25s 878ms/step - loss: 0.1743 - accuracy: 0.9230 - val_loss: 0.4668 - val_accuracy: 0.8449\n",
            "Epoch 51/150\n",
            "28/28 [==============================] - 25s 879ms/step - loss: 0.2474 - accuracy: 0.8984 - val_loss: 6.8727 - val_accuracy: 0.3817\n",
            "Epoch 52/150\n",
            "28/28 [==============================] - 25s 879ms/step - loss: 0.2141 - accuracy: 0.9185 - val_loss: 2.4383 - val_accuracy: 0.4513\n",
            "Epoch 53/150\n",
            "28/28 [==============================] - 25s 879ms/step - loss: 0.2106 - accuracy: 0.9208 - val_loss: 1.1826 - val_accuracy: 0.6958\n",
            "Epoch 54/150\n",
            "28/28 [==============================] - 25s 878ms/step - loss: 0.2050 - accuracy: 0.9196 - val_loss: 0.8222 - val_accuracy: 0.7078\n",
            "Epoch 55/150\n",
            "28/28 [==============================] - 25s 883ms/step - loss: 0.2154 - accuracy: 0.9263 - val_loss: 0.6600 - val_accuracy: 0.8052\n",
            "Epoch 56/150\n",
            "28/28 [==============================] - 25s 881ms/step - loss: 0.3960 - accuracy: 0.8772 - val_loss: 361824.7500 - val_accuracy: 0.6183\n",
            "Epoch 57/150\n",
            "28/28 [==============================] - 25s 879ms/step - loss: 0.3531 - accuracy: 0.8694 - val_loss: 45422.0586 - val_accuracy: 0.6183\n",
            "Epoch 58/150\n",
            "28/28 [==============================] - 25s 891ms/step - loss: 0.2801 - accuracy: 0.8906 - val_loss: 24592.6895 - val_accuracy: 0.6183\n"
          ]
        }
      ]
    },
    {
      "cell_type": "code",
      "source": [
        "_model_minor_minor.save('/content/drive/MyDrive/gp/Minor_Minor.h5')\n"
      ],
      "metadata": {
        "id": "GsjGK1gwq3cj"
      },
      "execution_count": null,
      "outputs": []
    },
    {
      "cell_type": "code",
      "source": [
        "prediction=_model_minor_minor.predict(testing_set)\n",
        "classes_x=np.argmax(prediction,axis=1)\n",
        "classes_x"
      ],
      "metadata": {
        "colab": {
          "base_uri": "https://localhost:8080/"
        },
        "id": "p7ZHJSXcq3Zr",
        "outputId": "cddb9c5f-b34d-4606-a302-124e90ced6df"
      },
      "execution_count": null,
      "outputs": [
        {
          "output_type": "execute_result",
          "data": {
            "text/plain": [
              "array([0, 0, 0, 0, 1, 1, 0, 0, 1, 0, 0, 1, 0, 0, 1, 0, 0, 0, 0, 1, 1, 0,\n",
              "       0, 1, 0, 1, 0, 0, 0, 1, 0, 1, 0, 1, 1, 0, 0, 0, 0, 0, 0, 0, 0, 0,\n",
              "       0, 0, 1, 0, 1, 0, 0, 1, 0, 0, 0, 1, 1, 0, 0, 0, 1, 0, 0, 0, 0, 0,\n",
              "       0, 0, 0, 0, 0, 1, 1, 1, 0, 0, 0, 0, 1, 0, 0, 1, 1, 1, 1, 0, 0, 1,\n",
              "       1, 0, 1, 1, 0, 1, 1, 0, 1, 0, 1, 0, 0, 1, 1, 0, 0, 0, 1, 1, 1, 0,\n",
              "       0, 0, 1, 0, 0, 1, 0, 0, 0, 1, 0, 0, 0, 0, 1, 1, 1, 0, 1, 1, 0, 0,\n",
              "       1, 0, 1, 0, 1, 0, 0, 0, 0, 0, 0, 0, 0, 1, 1, 1, 0, 0, 0, 0, 1, 1,\n",
              "       1, 0, 0, 1, 0, 0, 0, 0, 0, 0, 0, 1, 0, 1, 1, 1])"
            ]
          },
          "metadata": {},
          "execution_count": 93
        }
      ]
    },
    {
      "cell_type": "code",
      "source": [
        "cf = confusion_matrix(y_true= true_labels, y_pred= classes_x)\n",
        "score = accuracy_score(y_true= true_labels, y_pred=classes_x)\n",
        "print(cf)\n",
        "print('the model performane is: ', score*100, \"%\")"
      ],
      "metadata": {
        "colab": {
          "base_uri": "https://localhost:8080/"
        },
        "id": "iyIg59NoqFbT",
        "outputId": "04dbeeb4-b7b3-41c5-e2a6-b0cd398aa888"
      },
      "execution_count": null,
      "outputs": [
        {
          "output_type": "stream",
          "name": "stdout",
          "text": [
            "[[96  9]\n",
            " [12 53]]\n",
            "the model performane is:  87.6470588235294 %\n"
          ]
        }
      ]
    },
    {
      "cell_type": "code",
      "source": [
        "print(classification_report(true_labels, classes_x,target_names=label_names))"
      ],
      "metadata": {
        "colab": {
          "base_uri": "https://localhost:8080/"
        },
        "id": "_N11EsRUqJxL",
        "outputId": "4e1eb4a9-8d4d-4044-9328-5598fd0953b2"
      },
      "execution_count": null,
      "outputs": [
        {
          "output_type": "stream",
          "name": "stdout",
          "text": [
            "              precision    recall  f1-score   support\n",
            "\n",
            "    abnormal       0.89      0.91      0.90       105\n",
            "      normal       0.85      0.82      0.83        65\n",
            "\n",
            "    accuracy                           0.88       170\n",
            "   macro avg       0.87      0.86      0.87       170\n",
            "weighted avg       0.88      0.88      0.88       170\n",
            "\n"
          ]
        }
      ]
    },
    {
      "cell_type": "code",
      "source": [
        "print(classification_report(true_labels, classes_x,target_names=label_names))"
      ],
      "metadata": {
        "colab": {
          "base_uri": "https://localhost:8080/"
        },
        "id": "IgVwiqZ_q3TN",
        "outputId": "c0d4ec41-3745-4d46-d2d2-9812c0424865"
      },
      "execution_count": null,
      "outputs": [
        {
          "output_type": "stream",
          "name": "stdout",
          "text": [
            "              precision    recall  f1-score   support\n",
            "\n",
            "    abnormal       0.97      0.88      0.92       393\n",
            "      normal       0.52      0.82      0.64        65\n",
            "\n",
            "    accuracy                           0.87       458\n",
            "   macro avg       0.75      0.85      0.78       458\n",
            "weighted avg       0.90      0.87      0.88       458\n",
            "\n"
          ]
        }
      ]
    },
    {
      "cell_type": "markdown",
      "source": [
        "# major-major\n",
        "726-726\\\n",
        "max no of row abnormal data"
      ],
      "metadata": {
        "id": "cuj5sZu6o4Tj"
      }
    },
    {
      "cell_type": "code",
      "source": [
        "train_data_generation = ImageDataGenerator(rescale=1./255)\n",
        "training_set = train_data_generation.flow_from_directory('/content/drive/MyDrive/gp/50:50/MAJOR-MAJOR/train',\n",
        "                                                         target_size=(224, 224),\n",
        "                                                         batch_size=32,\n",
        "                                                         class_mode='binary',seed=0)\n",
        "\n",
        "# preprocessing the testing set\n",
        "test_data_generation = ImageDataGenerator(rescale=1./255)\n",
        "testing_set = test_data_generation.flow_from_directory('/content/drive/MyDrive/gp/50:50/MAJOR-MAJOR/test',\n",
        "                                                       target_size=(224, 224),\n",
        "                                                       batch_size=32,\n",
        "                                                       class_mode='binary',seed=0)\n",
        "\n",
        "val_data_generation = ImageDataGenerator(rescale=1./255)\n",
        "val_set = test_data_generation.flow_from_directory('/content/drive/MyDrive/gp/50:50/MAJOR-MAJOR/val',\n",
        "                                                       target_size=(224, 224),\n",
        "                                                       batch_size=32,\n",
        "                                                       class_mode='binary',seed=0)\n"
      ],
      "metadata": {
        "colab": {
          "base_uri": "https://localhost:8080/"
        },
        "outputId": "a88aec4a-9948-49ec-fa4b-5a008a6765f0",
        "id": "Jk80iPEZo3Db"
      },
      "execution_count": null,
      "outputs": [
        {
          "output_type": "stream",
          "name": "stdout",
          "text": [
            "Found 1452 images belonging to 2 classes.\n",
            "Found 170 images belonging to 2 classes.\n",
            "Found 503 images belonging to 2 classes.\n"
          ]
        }
      ]
    },
    {
      "cell_type": "code",
      "source": [
        "true_labels=[]\n",
        "true_labels = np.concatenate([testing_set.next()[1] for i in range(testing_set.__len__())])\n",
        "true_labels"
      ],
      "metadata": {
        "colab": {
          "base_uri": "https://localhost:8080/"
        },
        "outputId": "19e408d0-8d77-405a-c785-c614ef749075",
        "id": "IMBZTqe8p5BJ"
      },
      "execution_count": null,
      "outputs": [
        {
          "output_type": "execute_result",
          "data": {
            "text/plain": [
              "array([0., 0., 0., 0., 1., 1., 0., 0., 0., 0., 0., 1., 0., 0., 1., 0., 1.,\n",
              "       0., 0., 0., 1., 0., 1., 1., 0., 1., 1., 0., 0., 1., 0., 1., 0., 1.,\n",
              "       1., 0., 1., 0., 0., 0., 0., 0., 0., 0., 0., 0., 1., 0., 0., 0., 0.,\n",
              "       0., 0., 0., 0., 1., 1., 0., 0., 0., 1., 0., 0., 0., 0., 0., 0., 0.,\n",
              "       0., 0., 0., 1., 1., 1., 0., 0., 0., 0., 1., 0., 1., 1., 1., 0., 1.,\n",
              "       0., 0., 1., 1., 0., 1., 1., 1., 1., 0., 0., 1., 1., 1., 1., 0., 1.,\n",
              "       1., 0., 0., 0., 1., 1., 1., 0., 0., 0., 1., 0., 0., 1., 0., 0., 0.,\n",
              "       1., 0., 0., 0., 0., 1., 0., 1., 0., 0., 1., 0., 0., 1., 0., 1., 0.,\n",
              "       1., 0., 0., 0., 1., 0., 0., 0., 1., 1., 1., 1., 1., 0., 0., 1., 1.,\n",
              "       0., 1., 0., 0., 1., 0., 0., 0., 0., 0., 0., 0., 1., 0., 1., 1., 1.],\n",
              "      dtype=float32)"
            ]
          },
          "metadata": {},
          "execution_count": 92
        }
      ]
    },
    {
      "cell_type": "code",
      "source": [
        "_model_major_major= densenet([224,224,3],2)\n",
        "\n",
        "_model_major_major.compile(optimizer='adam', loss = 'sparse_categorical_crossentropy', metrics = ['accuracy'])\n",
        "history_major_major=_model_major_major.fit(x=training_set, validation_data=val_set, epochs=150,callbacks=([early_s]))"
      ],
      "metadata": {
        "colab": {
          "base_uri": "https://localhost:8080/"
        },
        "outputId": "09107133-25b6-491d-f985-12215badc007",
        "id": "j6BGaqnYqiY6"
      },
      "execution_count": null,
      "outputs": [
        {
          "output_type": "stream",
          "name": "stdout",
          "text": [
            "Epoch 1/150\n",
            "46/46 [==============================] - 63s 895ms/step - loss: 1.0009 - accuracy: 0.6405 - val_loss: 57.5779 - val_accuracy: 0.4831\n",
            "Epoch 2/150\n",
            "46/46 [==============================] - 38s 817ms/step - loss: 0.5717 - accuracy: 0.7300 - val_loss: 17.0171 - val_accuracy: 0.3817\n",
            "Epoch 3/150\n",
            "46/46 [==============================] - 38s 816ms/step - loss: 0.5883 - accuracy: 0.7273 - val_loss: 28.9122 - val_accuracy: 0.3917\n",
            "Epoch 4/150\n",
            "46/46 [==============================] - 38s 820ms/step - loss: 0.6183 - accuracy: 0.7211 - val_loss: 83.6447 - val_accuracy: 0.5189\n",
            "Epoch 5/150\n",
            "46/46 [==============================] - 38s 820ms/step - loss: 0.5643 - accuracy: 0.7541 - val_loss: 9.4629 - val_accuracy: 0.6083\n",
            "Epoch 6/150\n",
            "46/46 [==============================] - 38s 821ms/step - loss: 0.5713 - accuracy: 0.7459 - val_loss: 2.3617 - val_accuracy: 0.6123\n",
            "Epoch 7/150\n",
            "46/46 [==============================] - 37s 813ms/step - loss: 0.4920 - accuracy: 0.7734 - val_loss: 0.7460 - val_accuracy: 0.5765\n",
            "Epoch 8/150\n",
            "46/46 [==============================] - 38s 820ms/step - loss: 0.5109 - accuracy: 0.7707 - val_loss: 0.6251 - val_accuracy: 0.6620\n",
            "Epoch 9/150\n",
            "46/46 [==============================] - 38s 819ms/step - loss: 0.4970 - accuracy: 0.7762 - val_loss: 1.6691 - val_accuracy: 0.6660\n",
            "Epoch 10/150\n",
            "46/46 [==============================] - 38s 819ms/step - loss: 0.4893 - accuracy: 0.7789 - val_loss: 0.8833 - val_accuracy: 0.6859\n",
            "Epoch 11/150\n",
            "46/46 [==============================] - 38s 820ms/step - loss: 0.4531 - accuracy: 0.8037 - val_loss: 0.7210 - val_accuracy: 0.7157\n",
            "Epoch 12/150\n",
            "46/46 [==============================] - 38s 821ms/step - loss: 0.4578 - accuracy: 0.8030 - val_loss: 0.4825 - val_accuracy: 0.8250\n",
            "Epoch 13/150\n",
            "46/46 [==============================] - 38s 816ms/step - loss: 0.4433 - accuracy: 0.8140 - val_loss: 0.6893 - val_accuracy: 0.7237\n",
            "Epoch 14/150\n",
            "46/46 [==============================] - 38s 815ms/step - loss: 0.4353 - accuracy: 0.8168 - val_loss: 0.5610 - val_accuracy: 0.7455\n",
            "Epoch 15/150\n",
            "46/46 [==============================] - 38s 815ms/step - loss: 0.4270 - accuracy: 0.8134 - val_loss: 0.6413 - val_accuracy: 0.6083\n",
            "Epoch 16/150\n",
            "46/46 [==============================] - 38s 815ms/step - loss: 0.3978 - accuracy: 0.8340 - val_loss: 0.7585 - val_accuracy: 0.7256\n",
            "Epoch 17/150\n",
            "46/46 [==============================] - 38s 816ms/step - loss: 0.4300 - accuracy: 0.8140 - val_loss: 0.9255 - val_accuracy: 0.6322\n",
            "Epoch 18/150\n",
            "46/46 [==============================] - 38s 815ms/step - loss: 0.4023 - accuracy: 0.8202 - val_loss: 0.7575 - val_accuracy: 0.5626\n",
            "Epoch 19/150\n",
            "46/46 [==============================] - 38s 816ms/step - loss: 0.4207 - accuracy: 0.8223 - val_loss: 1.1363 - val_accuracy: 0.6382\n",
            "Epoch 20/150\n",
            "46/46 [==============================] - 38s 816ms/step - loss: 0.4051 - accuracy: 0.8306 - val_loss: 1.5146 - val_accuracy: 0.6879\n",
            "Epoch 21/150\n",
            "46/46 [==============================] - 38s 817ms/step - loss: 0.4067 - accuracy: 0.8251 - val_loss: 1.4807 - val_accuracy: 0.4771\n",
            "Epoch 22/150\n",
            "46/46 [==============================] - 37s 814ms/step - loss: 0.4127 - accuracy: 0.8271 - val_loss: 0.9382 - val_accuracy: 0.6163\n",
            "Epoch 23/150\n",
            "46/46 [==============================] - 37s 814ms/step - loss: 0.3843 - accuracy: 0.8306 - val_loss: 0.6613 - val_accuracy: 0.8111\n",
            "Epoch 24/150\n",
            "46/46 [==============================] - 37s 814ms/step - loss: 0.3815 - accuracy: 0.8320 - val_loss: 0.4685 - val_accuracy: 0.7833\n",
            "Epoch 25/150\n",
            "46/46 [==============================] - 38s 820ms/step - loss: 0.3889 - accuracy: 0.8402 - val_loss: 0.3878 - val_accuracy: 0.8370\n",
            "Epoch 26/150\n",
            "46/46 [==============================] - 38s 815ms/step - loss: 0.3960 - accuracy: 0.8182 - val_loss: 0.5155 - val_accuracy: 0.7773\n",
            "Epoch 27/150\n",
            "46/46 [==============================] - 38s 816ms/step - loss: 0.3733 - accuracy: 0.8485 - val_loss: 0.3713 - val_accuracy: 0.8330\n",
            "Epoch 28/150\n",
            "46/46 [==============================] - 38s 816ms/step - loss: 0.3822 - accuracy: 0.8368 - val_loss: 0.3665 - val_accuracy: 0.8310\n",
            "Epoch 29/150\n",
            "46/46 [==============================] - 38s 830ms/step - loss: 0.3483 - accuracy: 0.8512 - val_loss: 0.4239 - val_accuracy: 0.8509\n",
            "Epoch 30/150\n",
            "46/46 [==============================] - 38s 816ms/step - loss: 0.3559 - accuracy: 0.8609 - val_loss: 0.5540 - val_accuracy: 0.7356\n",
            "Epoch 31/150\n",
            "46/46 [==============================] - 37s 814ms/step - loss: 0.3762 - accuracy: 0.8368 - val_loss: 0.9403 - val_accuracy: 0.7237\n",
            "Epoch 32/150\n",
            "46/46 [==============================] - 38s 816ms/step - loss: 0.3570 - accuracy: 0.8471 - val_loss: 0.4870 - val_accuracy: 0.7177\n",
            "Epoch 33/150\n",
            "46/46 [==============================] - 38s 821ms/step - loss: 0.3501 - accuracy: 0.8526 - val_loss: 0.4854 - val_accuracy: 0.8529\n",
            "Epoch 34/150\n",
            "46/46 [==============================] - 38s 815ms/step - loss: 0.3559 - accuracy: 0.8595 - val_loss: 0.5273 - val_accuracy: 0.7634\n",
            "Epoch 35/150\n",
            "46/46 [==============================] - 38s 815ms/step - loss: 0.3416 - accuracy: 0.8588 - val_loss: 0.3860 - val_accuracy: 0.8310\n",
            "Epoch 36/150\n",
            "46/46 [==============================] - 38s 816ms/step - loss: 0.3500 - accuracy: 0.8526 - val_loss: 0.4610 - val_accuracy: 0.8429\n",
            "Epoch 37/150\n",
            "46/46 [==============================] - 37s 815ms/step - loss: 0.3102 - accuracy: 0.8643 - val_loss: 0.8811 - val_accuracy: 0.7177\n",
            "Epoch 38/150\n",
            "46/46 [==============================] - 38s 817ms/step - loss: 0.3149 - accuracy: 0.8664 - val_loss: 1.3980 - val_accuracy: 0.5089\n",
            "Epoch 39/150\n",
            "46/46 [==============================] - 38s 815ms/step - loss: 0.3194 - accuracy: 0.8691 - val_loss: 0.8504 - val_accuracy: 0.6799\n",
            "Epoch 40/150\n",
            "46/46 [==============================] - 38s 820ms/step - loss: 0.3186 - accuracy: 0.8588 - val_loss: 0.2948 - val_accuracy: 0.8966\n",
            "Epoch 41/150\n",
            "46/46 [==============================] - 38s 816ms/step - loss: 0.3219 - accuracy: 0.8595 - val_loss: 0.6702 - val_accuracy: 0.7575\n",
            "Epoch 42/150\n",
            "46/46 [==============================] - 38s 815ms/step - loss: 0.3120 - accuracy: 0.8712 - val_loss: 0.6995 - val_accuracy: 0.7455\n",
            "Epoch 43/150\n",
            "46/46 [==============================] - 38s 816ms/step - loss: 0.3215 - accuracy: 0.8650 - val_loss: 0.3578 - val_accuracy: 0.8310\n",
            "Epoch 44/150\n",
            "46/46 [==============================] - 38s 817ms/step - loss: 0.3164 - accuracy: 0.8588 - val_loss: 0.3853 - val_accuracy: 0.8509\n",
            "Epoch 45/150\n",
            "46/46 [==============================] - 38s 815ms/step - loss: 0.3057 - accuracy: 0.8747 - val_loss: 0.5748 - val_accuracy: 0.7654\n",
            "Epoch 46/150\n",
            "46/46 [==============================] - 38s 816ms/step - loss: 0.3031 - accuracy: 0.8705 - val_loss: 0.4422 - val_accuracy: 0.7734\n",
            "Epoch 47/150\n",
            "46/46 [==============================] - 37s 815ms/step - loss: 0.2619 - accuracy: 0.8815 - val_loss: 0.6585 - val_accuracy: 0.6958\n",
            "Epoch 48/150\n",
            "46/46 [==============================] - 38s 816ms/step - loss: 0.3021 - accuracy: 0.8726 - val_loss: 1.8536 - val_accuracy: 0.4394\n",
            "Epoch 49/150\n",
            "46/46 [==============================] - 38s 815ms/step - loss: 0.2970 - accuracy: 0.8774 - val_loss: 1.1255 - val_accuracy: 0.5447\n",
            "Epoch 50/150\n",
            "46/46 [==============================] - 38s 815ms/step - loss: 0.2713 - accuracy: 0.8850 - val_loss: 0.6214 - val_accuracy: 0.7356\n",
            "Epoch 51/150\n",
            "46/46 [==============================] - 38s 815ms/step - loss: 0.2888 - accuracy: 0.8636 - val_loss: 2.3232 - val_accuracy: 0.4573\n",
            "Epoch 52/150\n",
            "46/46 [==============================] - 38s 816ms/step - loss: 0.2929 - accuracy: 0.8747 - val_loss: 0.7202 - val_accuracy: 0.6481\n",
            "Epoch 53/150\n",
            "46/46 [==============================] - 38s 816ms/step - loss: 0.2605 - accuracy: 0.8953 - val_loss: 0.5811 - val_accuracy: 0.7197\n",
            "Epoch 54/150\n",
            "46/46 [==============================] - 38s 816ms/step - loss: 0.2855 - accuracy: 0.8822 - val_loss: 1.0125 - val_accuracy: 0.6740\n",
            "Epoch 55/150\n",
            "46/46 [==============================] - 38s 822ms/step - loss: 0.2649 - accuracy: 0.8891 - val_loss: 0.6562 - val_accuracy: 0.7038\n"
          ]
        }
      ]
    },
    {
      "cell_type": "code",
      "source": [
        "_model_major_major.save('/content/drive/MyDrive/gp/Major_Major.h5')\n"
      ],
      "metadata": {
        "id": "pPfSVz7vpC1Y"
      },
      "execution_count": null,
      "outputs": []
    },
    {
      "cell_type": "code",
      "source": [
        "_model_major_major.save('/content/drive/MyDrive/gp/Major_Major2.h5')\n"
      ],
      "metadata": {
        "id": "IaWrAzsS6Rp3"
      },
      "execution_count": null,
      "outputs": []
    },
    {
      "cell_type": "code",
      "source": [
        "prediction=_model_major_major.predict(testing_set)\n",
        "classes_x=np.argmax(prediction,axis=1)\n",
        "classes_x"
      ],
      "metadata": {
        "colab": {
          "base_uri": "https://localhost:8080/"
        },
        "outputId": "6e4d7800-f165-4160-a630-95cd06336194",
        "id": "6m84nbRUrt9Y"
      },
      "execution_count": null,
      "outputs": [
        {
          "output_type": "execute_result",
          "data": {
            "text/plain": [
              "array([0, 1, 1, 0, 0, 1, 1, 1, 1, 0, 0, 0, 1, 0, 0, 0, 0, 1, 1, 0, 1, 0,\n",
              "       0, 1, 0, 1, 1, 0, 0, 0, 1, 0, 0, 0, 1, 1, 1, 0, 0, 1, 1, 0, 0, 0,\n",
              "       0, 0, 0, 0, 0, 1, 0, 1, 1, 0, 0, 0, 1, 0, 0, 1, 0, 1, 1, 0, 0, 1,\n",
              "       0, 0, 1, 0, 1, 0, 1, 0, 0, 1, 0, 1, 0, 0, 0, 0, 1, 0, 0, 0, 0, 0,\n",
              "       0, 0, 0, 1, 0, 1, 0, 1, 0, 0, 1, 0, 1, 0, 0, 0, 1, 1, 0, 0, 0, 0,\n",
              "       1, 1, 1, 0, 1, 0, 0, 1, 1, 1, 0, 1, 1, 1, 0, 0, 0, 0, 1, 0, 0, 1,\n",
              "       0, 1, 1, 0, 0, 1, 0, 1, 0, 0, 1, 0, 0, 1, 0, 0, 0, 0, 1, 0, 0, 1,\n",
              "       1, 1, 0, 1, 1, 0, 1, 1, 0, 0, 0, 0, 1, 1, 0, 0])"
            ]
          },
          "metadata": {},
          "execution_count": 113
        }
      ]
    },
    {
      "cell_type": "code",
      "source": [
        "cf = confusion_matrix(y_true= true_labels, y_pred= classes_x)\n",
        "score = accuracy_score(y_true= true_labels, y_pred=classes_x)\n",
        "print(cf)\n",
        "print('the model performane is: ', score*100, \"%\")"
      ],
      "metadata": {
        "colab": {
          "base_uri": "https://localhost:8080/"
        },
        "outputId": "3d786a0d-eed4-4231-8475-3bd76d6bc003",
        "id": "YW1ETIMbr2I8"
      },
      "execution_count": null,
      "outputs": [
        {
          "output_type": "stream",
          "name": "stdout",
          "text": [
            "[[57 48]\n",
            " [45 20]]\n",
            "the model performane is:  45.294117647058826 %\n"
          ]
        }
      ]
    },
    {
      "cell_type": "code",
      "source": [
        "print(classification_report(true_labels, classes_x,target_names=label_names))"
      ],
      "metadata": {
        "colab": {
          "base_uri": "https://localhost:8080/"
        },
        "id": "ZXxGO7vCoiHV",
        "outputId": "7b238719-1eea-48c0-c35d-ddf29a9edfdf"
      },
      "execution_count": null,
      "outputs": [
        {
          "output_type": "stream",
          "name": "stdout",
          "text": [
            "              precision    recall  f1-score   support\n",
            "\n",
            "    abnormal       0.56      0.54      0.55       105\n",
            "      normal       0.29      0.31      0.30        65\n",
            "\n",
            "    accuracy                           0.45       170\n",
            "   macro avg       0.43      0.43      0.43       170\n",
            "weighted avg       0.46      0.45      0.46       170\n",
            "\n"
          ]
        }
      ]
    },
    {
      "cell_type": "code",
      "source": [
        ""
      ],
      "metadata": {
        "id": "hstjEp87o0hb"
      },
      "execution_count": null,
      "outputs": []
    },
    {
      "cell_type": "markdown",
      "source": [
        "#pretrained"
      ],
      "metadata": {
        "id": "G2GRrLtbbV6J"
      }
    },
    {
      "cell_type": "code",
      "source": [
        "# preprocessing the training set\n",
        "train_data_generation = ImageDataGenerator(rescale=1./255)\n",
        "training_set = train_data_generation.flow_from_directory('/content/drive/MyDrive/gp/Splitted/train',\n",
        "                                                         target_size=(224, 224),\n",
        "                                                         batch_size=32,\n",
        "                                                         class_mode='binary',seed=0)\n",
        "\n",
        "# preprocessing the valid set\n",
        "valid_data_generation = ImageDataGenerator(rescale=1./255)\n",
        "validing_set = valid_data_generation.flow_from_directory('/content/drive/MyDrive/gp/Splitted/val',\n",
        "                                                       target_size=(224, 224),\n",
        "                                                       batch_size=32,\n",
        "                                                       class_mode='binary',seed=0)"
      ],
      "metadata": {
        "colab": {
          "base_uri": "https://localhost:8080/"
        },
        "id": "5bsICeHR0Xo_",
        "outputId": "d3a88e49-f2cc-4baf-eb12-48ef7cad7704"
      },
      "execution_count": null,
      "outputs": [
        {
          "output_type": "stream",
          "name": "stdout",
          "text": [
            "Found 1174 images belonging to 2 classes.\n",
            "Found 503 images belonging to 2 classes.\n"
          ]
        }
      ]
    },
    {
      "cell_type": "code",
      "source": [
        "test_data_generation = ImageDataGenerator(rescale=1./255)\n",
        "testing_set = test_data_generation.flow_from_directory('/content/drive/MyDrive/gp/Splitted/test',\n",
        "                                                       target_size=(224, 224),\n",
        "                                                       batch_size=32,\n",
        "                                                       class_mode='binary',seed=0)"
      ],
      "metadata": {
        "colab": {
          "base_uri": "https://localhost:8080/"
        },
        "id": "duoyNGAs5_Ur",
        "outputId": "f0004289-79b9-4700-f426-4ad6b9caf32e"
      },
      "execution_count": null,
      "outputs": [
        {
          "output_type": "stream",
          "name": "stdout",
          "text": [
            "Found 170 images belonging to 2 classes.\n"
          ]
        }
      ]
    },
    {
      "cell_type": "code",
      "source": [
        "batch_size =32\n",
        "X_test, y_test = next(testing_set)\n",
        "for i in range(int(len(testing_set)/batch_size)-1): #1st batch is already fetched before the for loop.\n",
        "    img , label = next(testing_set)\n",
        "    X_test = np.append(X_test, img, axis=0 )\n",
        "    y_test = np.append(y_test, label, axis=0)\n",
        "\n",
        "print(X_test.shape, y_test.shape)"
      ],
      "metadata": {
        "colab": {
          "base_uri": "https://localhost:8080/"
        },
        "id": "2maU78L3UG0w",
        "outputId": "bf52abc1-4f22-4708-cd15-c7502f051df5"
      },
      "execution_count": null,
      "outputs": [
        {
          "output_type": "stream",
          "name": "stdout",
          "text": [
            "(32, 224, 224, 3) (32,)\n"
          ]
        }
      ]
    },
    {
      "cell_type": "code",
      "source": [
        "from matplotlib.image import imread\n",
        "print(y_test[2])\n",
        "plt.imshow(X_test[2])"
      ],
      "metadata": {
        "colab": {
          "base_uri": "https://localhost:8080/",
          "height": 304
        },
        "id": "njv2EdRsUWKM",
        "outputId": "4e9c4b4b-91fa-43e2-e7de-de97b84c7c4b"
      },
      "execution_count": null,
      "outputs": [
        {
          "output_type": "stream",
          "name": "stdout",
          "text": [
            "1.0\n"
          ]
        },
        {
          "output_type": "execute_result",
          "data": {
            "text/plain": [
              "<matplotlib.image.AxesImage at 0x7f6895658b50>"
            ]
          },
          "metadata": {},
          "execution_count": 5
        },
        {
          "output_type": "display_data",
          "data": {
            "image/png": "[encoded data removed]",
            "text/plain": [
              "<Figure size 432x288 with 1 Axes>"
            ]
          },
          "metadata": {
            "needs_background": "light"
          }
        }
      ]
    },
    {
      "cell_type": "code",
      "source": [
        "from sklearn.metrics import classification_report\n",
        "\n",
        "label_names =['abnormal','normal']"
      ],
      "metadata": {
        "id": "WSukDH34Ujse"
      },
      "execution_count": null,
      "outputs": []
    },
    {
      "cell_type": "code",
      "source": [
        "true_labels = np.concatenate([testing_set.next()[1] for i in range(testing_set.__len__())])\n",
        "true_labels"
      ],
      "metadata": {
        "colab": {
          "base_uri": "https://localhost:8080/"
        },
        "id": "5U3DMztg5_Rh",
        "outputId": "2440a84d-28f9-4d0c-bb54-5461362c7c27"
      },
      "execution_count": null,
      "outputs": [
        {
          "output_type": "execute_result",
          "data": {
            "text/plain": [
              "array([0., 0., 1., 0., 0., 1., 1., 0., 0., 1., 0., 1., 0., 1., 0., 1., 0.,\n",
              "       1., 1., 0., 0., 0., 1., 0., 1., 0., 1., 0., 1., 1., 0., 1., 1., 0.,\n",
              "       0., 0., 0., 0., 0., 0., 0., 1., 0., 1., 1., 0., 0., 1., 1., 0., 1.,\n",
              "       1., 0., 1., 1., 0., 0., 0., 0., 0., 1., 0., 1., 0., 0., 0., 0., 0.,\n",
              "       0., 1., 0., 0., 0., 0., 0., 1., 0., 1., 1., 0., 0., 0., 1., 0., 0.,\n",
              "       0., 0., 0., 0., 1., 0., 0., 1., 1., 1., 0., 1., 1., 0., 0., 0., 1.,\n",
              "       1., 0., 0., 1., 0., 1., 1., 1., 0., 1., 0., 0., 0., 0., 1., 1., 1.,\n",
              "       0., 0., 0., 0., 1., 1., 0., 0., 1., 0., 0., 0., 0., 0., 0., 0., 0.,\n",
              "       1., 0., 0., 0., 0., 0., 1., 1., 0., 0., 0., 0., 0., 1., 0., 0., 1.,\n",
              "       0., 1., 0., 0., 0., 1., 0., 1., 1., 0., 1., 1., 0., 0., 1., 0., 1.],\n",
              "      dtype=float32)"
            ]
          },
          "metadata": {},
          "execution_count": 7
        }
      ]
    },
    {
      "cell_type": "markdown",
      "source": [
        "# keras with last layer replaced"
      ],
      "metadata": {
        "id": "qjcJIxqd7DyA"
      }
    },
    {
      "cell_type": "code",
      "source": [
        "model=tf.keras.applications.DenseNet121(include_top=True,\n",
        "    weights=None,\n",
        "    input_tensor=None,\n",
        "    input_shape=(224, 224, 3),\n",
        "    pooling='max',\n",
        "    classes=2)\n",
        "base_inputs = model.layers[0].input\n",
        "base_output = model.layers[-2].output\n",
        "output = layers.Dense(2,activation='sigmoid')(base_output)\n",
        "model = keras.Model(base_inputs, output)\n",
        "print(\"densenet\",model.summary())"
      ],
      "metadata": {
        "colab": {
          "base_uri": "https://localhost:8080/"
        },
        "id": "OqWZTGHl1d7_",
        "outputId": "642919a3-6b28-4557-c0d7-3a89a4958e91"
      },
      "execution_count": null,
      "outputs": [
        {
          "output_type": "stream",
          "name": "stdout",
          "text": [
            "Model: \"model\"\n",
            "__________________________________________________________________________________________________\n",
            " Layer (type)                   Output Shape         Param #     Connected to                     \n",
            "==================================================================================================\n",
            " input_1 (InputLayer)           [(None, 224, 224, 3  0           []                               \n",
            "                                )]                                                                \n",
            "                                                                                                  \n",
            " zero_padding2d (ZeroPadding2D)  (None, 230, 230, 3)  0          ['input_1[0][0]']                \n",
            "                                                                                                  \n",
            " conv1/conv (Conv2D)            (None, 112, 112, 64  9408        ['zero_padding2d[0][0]']         \n",
            "                                )                                                                 \n",
            "                                                                                                  \n",
            " conv1/bn (BatchNormalization)  (None, 112, 112, 64  256         ['conv1/conv[0][0]']             \n",
            "                                )                                                                 \n",
            "                                                                                                  \n",
            " conv1/relu (Activation)        (None, 112, 112, 64  0           ['conv1/bn[0][0]']               \n",
            "                                )                                                                 \n",
            "                                                                                                  \n",
            " zero_padding2d_1 (ZeroPadding2  (None, 114, 114, 64  0          ['conv1/relu[0][0]']             \n",
            " D)                             )                                                                 \n",
            "                                                                                                  \n",
            " pool1 (MaxPooling2D)           (None, 56, 56, 64)   0           ['zero_padding2d_1[0][0]']       \n",
            "                                                                                                  \n",
            " conv2_block1_0_bn (BatchNormal  (None, 56, 56, 64)  256         ['pool1[0][0]']                  \n",
            " ization)                                                                                         \n",
            "                                                                                                  \n",
            " conv2_block1_0_relu (Activatio  (None, 56, 56, 64)  0           ['conv2_block1_0_bn[0][0]']      \n",
            " n)                                                                                               \n",
            "                                                                                                  \n",
            " conv2_block1_1_conv (Conv2D)   (None, 56, 56, 128)  8192        ['conv2_block1_0_relu[0][0]']    \n",
            "                                                                                                  \n",
            " conv2_block1_1_bn (BatchNormal  (None, 56, 56, 128)  512        ['conv2_block1_1_conv[0][0]']    \n",
            " ization)                                                                                         \n",
            "                                                                                                  \n",
            " conv2_block1_1_relu (Activatio  (None, 56, 56, 128)  0          ['conv2_block1_1_bn[0][0]']      \n",
            " n)                                                                                               \n",
            "                                                                                                  \n",
            " conv2_block1_2_conv (Conv2D)   (None, 56, 56, 32)   36864       ['conv2_block1_1_relu[0][0]']    \n",
            "                                                                                                  \n",
            " conv2_block1_concat (Concatena  (None, 56, 56, 96)  0           ['pool1[0][0]',                  \n",
            " te)                                                              'conv2_block1_2_conv[0][0]']    \n",
            "                                                                                                  \n",
            " conv2_block2_0_bn (BatchNormal  (None, 56, 56, 96)  384         ['conv2_block1_concat[0][0]']    \n",
            " ization)                                                                                         \n",
            "                                                                                                  \n",
            " conv2_block2_0_relu (Activatio  (None, 56, 56, 96)  0           ['conv2_block2_0_bn[0][0]']      \n",
            " n)                                                                                               \n",
            "                                                                                                  \n",
            " conv2_block2_1_conv (Conv2D)   (None, 56, 56, 128)  12288       ['conv2_block2_0_relu[0][0]']    \n",
            "                                                                                                  \n",
            " conv2_block2_1_bn (BatchNormal  (None, 56, 56, 128)  512        ['conv2_block2_1_conv[0][0]']    \n",
            " ization)                                                                                         \n",
            "                                                                                                  \n",
            " conv2_block2_1_relu (Activatio  (None, 56, 56, 128)  0          ['conv2_block2_1_bn[0][0]']      \n",
            " n)                                                                                               \n",
            "                                                                                                  \n",
            " conv2_block2_2_conv (Conv2D)   (None, 56, 56, 32)   36864       ['conv2_block2_1_relu[0][0]']    \n",
            "                                                                                                  \n",
            " conv2_block2_concat (Concatena  (None, 56, 56, 128)  0          ['conv2_block1_concat[0][0]',    \n",
            " te)                                                              'conv2_block2_2_conv[0][0]']    \n",
            "                                                                                                  \n",
            " conv2_block3_0_bn (BatchNormal  (None, 56, 56, 128)  512        ['conv2_block2_concat[0][0]']    \n",
            " ization)                                                                                         \n",
            "                                                                                                  \n",
            " conv2_block3_0_relu (Activatio  (None, 56, 56, 128)  0          ['conv2_block3_0_bn[0][0]']      \n",
            " n)                                                                                               \n",
            "                                                                                                  \n",
            " conv2_block3_1_conv (Conv2D)   (None, 56, 56, 128)  16384       ['conv2_block3_0_relu[0][0]']    \n",
            "                                                                                                  \n",
            " conv2_block3_1_bn (BatchNormal  (None, 56, 56, 128)  512        ['conv2_block3_1_conv[0][0]']    \n",
            " ization)                                                                                         \n",
            "                                                                                                  \n",
            " conv2_block3_1_relu (Activatio  (None, 56, 56, 128)  0          ['conv2_block3_1_bn[0][0]']      \n",
            " n)                                                                                               \n",
            "                                                                                                  \n",
            " conv2_block3_2_conv (Conv2D)   (None, 56, 56, 32)   36864       ['conv2_block3_1_relu[0][0]']    \n",
            "                                                                                                  \n",
            " conv2_block3_concat (Concatena  (None, 56, 56, 160)  0          ['conv2_block2_concat[0][0]',    \n",
            " te)                                                              'conv2_block3_2_conv[0][0]']    \n",
            "                                                                                                  \n",
            " conv2_block4_0_bn (BatchNormal  (None, 56, 56, 160)  640        ['conv2_block3_concat[0][0]']    \n",
            " ization)                                                                                         \n",
            "                                                                                                  \n",
            " conv2_block4_0_relu (Activatio  (None, 56, 56, 160)  0          ['conv2_block4_0_bn[0][0]']      \n",
            " n)                                                                                               \n",
            "                                                                                                  \n",
            " conv2_block4_1_conv (Conv2D)   (None, 56, 56, 128)  20480       ['conv2_block4_0_relu[0][0]']    \n",
            "                                                                                                  \n",
            " conv2_block4_1_bn (BatchNormal  (None, 56, 56, 128)  512        ['conv2_block4_1_conv[0][0]']    \n",
            " ization)                                                                                         \n",
            "                                                                                                  \n",
            " conv2_block4_1_relu (Activatio  (None, 56, 56, 128)  0          ['conv2_block4_1_bn[0][0]']      \n",
            " n)                                                                                               \n",
            "                                                                                                  \n",
            " conv2_block4_2_conv (Conv2D)   (None, 56, 56, 32)   36864       ['conv2_block4_1_relu[0][0]']    \n",
            "                                                                                                  \n",
            " conv2_block4_concat (Concatena  (None, 56, 56, 192)  0          ['conv2_block3_concat[0][0]',    \n",
            " te)                                                              'conv2_block4_2_conv[0][0]']    \n",
            "                                                                                                  \n",
            " conv2_block5_0_bn (BatchNormal  (None, 56, 56, 192)  768        ['conv2_block4_concat[0][0]']    \n",
            " ization)                                                                                         \n",
            "                                                                                                  \n",
            " conv2_block5_0_relu (Activatio  (None, 56, 56, 192)  0          ['conv2_block5_0_bn[0][0]']      \n",
            " n)                                                                                               \n",
            "                                                                                                  \n",
            " conv2_block5_1_conv (Conv2D)   (None, 56, 56, 128)  24576       ['conv2_block5_0_relu[0][0]']    \n",
            "                                                                                                  \n",
            " conv2_block5_1_bn (BatchNormal  (None, 56, 56, 128)  512        ['conv2_block5_1_conv[0][0]']    \n",
            " ization)                                                                                         \n",
            "                                                                                                  \n",
            " conv2_block5_1_relu (Activatio  (None, 56, 56, 128)  0          ['conv2_block5_1_bn[0][0]']      \n",
            " n)                                                                                               \n",
            "                                                                                                  \n",
            " conv2_block5_2_conv (Conv2D)   (None, 56, 56, 32)   36864       ['conv2_block5_1_relu[0][0]']    \n",
            "                                                                                                  \n",
            " conv2_block5_concat (Concatena  (None, 56, 56, 224)  0          ['conv2_block4_concat[0][0]',    \n",
            " te)                                                              'conv2_block5_2_conv[0][0]']    \n",
            "                                                                                                  \n",
            " conv2_block6_0_bn (BatchNormal  (None, 56, 56, 224)  896        ['conv2_block5_concat[0][0]']    \n",
            " ization)                                                                                         \n",
            "                                                                                                  \n",
            " conv2_block6_0_relu (Activatio  (None, 56, 56, 224)  0          ['conv2_block6_0_bn[0][0]']      \n",
            " n)                                                                                               \n",
            "                                                                                                  \n",
            " conv2_block6_1_conv (Conv2D)   (None, 56, 56, 128)  28672       ['conv2_block6_0_relu[0][0]']    \n",
            "                                                                                                  \n",
            " conv2_block6_1_bn (BatchNormal  (None, 56, 56, 128)  512        ['conv2_block6_1_conv[0][0]']    \n",
            " ization)                                                                                         \n",
            "                                                                                                  \n",
            " conv2_block6_1_relu (Activatio  (None, 56, 56, 128)  0          ['conv2_block6_1_bn[0][0]']      \n",
            " n)                                                                                               \n",
            "                                                                                                  \n",
            " conv2_block6_2_conv (Conv2D)   (None, 56, 56, 32)   36864       ['conv2_block6_1_relu[0][0]']    \n",
            "                                                                                                  \n",
            " conv2_block6_concat (Concatena  (None, 56, 56, 256)  0          ['conv2_block5_concat[0][0]',    \n",
            " te)                                                              'conv2_block6_2_conv[0][0]']    \n",
            "                                                                                                  \n",
            " pool2_bn (BatchNormalization)  (None, 56, 56, 256)  1024        ['conv2_block6_concat[0][0]']    \n",
            "                                                                                                  \n",
            " pool2_relu (Activation)        (None, 56, 56, 256)  0           ['pool2_bn[0][0]']               \n",
            "                                                                                                  \n",
            " pool2_conv (Conv2D)            (None, 56, 56, 128)  32768       ['pool2_relu[0][0]']             \n",
            "                                                                                                  \n",
            " pool2_pool (AveragePooling2D)  (None, 28, 28, 128)  0           ['pool2_conv[0][0]']             \n",
            "                                                                                                  \n",
            " conv3_block1_0_bn (BatchNormal  (None, 28, 28, 128)  512        ['pool2_pool[0][0]']             \n",
            " ization)                                                                                         \n",
            "                                                                                                  \n",
            " conv3_block1_0_relu (Activatio  (None, 28, 28, 128)  0          ['conv3_block1_0_bn[0][0]']      \n",
            " n)                                                                                               \n",
            "                                                                                                  \n",
            " conv3_block1_1_conv (Conv2D)   (None, 28, 28, 128)  16384       ['conv3_block1_0_relu[0][0]']    \n",
            "                                                                                                  \n",
            " conv3_block1_1_bn (BatchNormal  (None, 28, 28, 128)  512        ['conv3_block1_1_conv[0][0]']    \n",
            " ization)                                                                                         \n",
            "                                                                                                  \n",
            " conv3_block1_1_relu (Activatio  (None, 28, 28, 128)  0          ['conv3_block1_1_bn[0][0]']      \n",
            " n)                                                                                               \n",
            "                                                                                                  \n",
            " conv3_block1_2_conv (Conv2D)   (None, 28, 28, 32)   36864       ['conv3_block1_1_relu[0][0]']    \n",
            "                                                                                                  \n",
            " conv3_block1_concat (Concatena  (None, 28, 28, 160)  0          ['pool2_pool[0][0]',             \n",
            " te)                                                              'conv3_block1_2_conv[0][0]']    \n",
            "                                                                                                  \n",
            " conv3_block2_0_bn (BatchNormal  (None, 28, 28, 160)  640        ['conv3_block1_concat[0][0]']    \n",
            " ization)                                                                                         \n",
            "                                                                                                  \n",
            " conv3_block2_0_relu (Activatio  (None, 28, 28, 160)  0          ['conv3_block2_0_bn[0][0]']      \n",
            " n)                                                                                               \n",
            "                                                                                                  \n",
            " conv3_block2_1_conv (Conv2D)   (None, 28, 28, 128)  20480       ['conv3_block2_0_relu[0][0]']    \n",
            "                                                                                                  \n",
            " conv3_block2_1_bn (BatchNormal  (None, 28, 28, 128)  512        ['conv3_block2_1_conv[0][0]']    \n",
            " ization)                                                                                         \n",
            "                                                                                                  \n",
            " conv3_block2_1_relu (Activatio  (None, 28, 28, 128)  0          ['conv3_block2_1_bn[0][0]']      \n",
            " n)                                                                                               \n",
            "                                                                                                  \n",
            " conv3_block2_2_conv (Conv2D)   (None, 28, 28, 32)   36864       ['conv3_block2_1_relu[0][0]']    \n",
            "                                                                                                  \n",
            " conv3_block2_concat (Concatena  (None, 28, 28, 192)  0          ['conv3_block1_concat[0][0]',    \n",
            " te)                                                              'conv3_block2_2_conv[0][0]']    \n",
            "                                                                                                  \n",
            " conv3_block3_0_bn (BatchNormal  (None, 28, 28, 192)  768        ['conv3_block2_concat[0][0]']    \n",
            " ization)                                                                                         \n",
            "                                                                                                  \n",
            " conv3_block3_0_relu (Activatio  (None, 28, 28, 192)  0          ['conv3_block3_0_bn[0][0]']      \n",
            " n)                                                                                               \n",
            "                                                                                                  \n",
            " conv3_block3_1_conv (Conv2D)   (None, 28, 28, 128)  24576       ['conv3_block3_0_relu[0][0]']    \n",
            "                                                                                                  \n",
            " conv3_block3_1_bn (BatchNormal  (None, 28, 28, 128)  512        ['conv3_block3_1_conv[0][0]']    \n",
            " ization)                                                                                         \n",
            "                                                                                                  \n",
            " conv3_block3_1_relu (Activatio  (None, 28, 28, 128)  0          ['conv3_block3_1_bn[0][0]']      \n",
            " n)                                                                                               \n",
            "                                                                                                  \n",
            " conv3_block3_2_conv (Conv2D)   (None, 28, 28, 32)   36864       ['conv3_block3_1_relu[0][0]']    \n",
            "                                                                                                  \n",
            " conv3_block3_concat (Concatena  (None, 28, 28, 224)  0          ['conv3_block2_concat[0][0]',    \n",
            " te)                                                              'conv3_block3_2_conv[0][0]']    \n",
            "                                                                                                  \n",
            " conv3_block4_0_bn (BatchNormal  (None, 28, 28, 224)  896        ['conv3_block3_concat[0][0]']    \n",
            " ization)                                                                                         \n",
            "                                                                                                  \n",
            " conv3_block4_0_relu (Activatio  (None, 28, 28, 224)  0          ['conv3_block4_0_bn[0][0]']      \n",
            " n)                                                                                               \n",
            "                                                                                                  \n",
            " conv3_block4_1_conv (Conv2D)   (None, 28, 28, 128)  28672       ['conv3_block4_0_relu[0][0]']    \n",
            "                                                                                                  \n",
            " conv3_block4_1_bn (BatchNormal  (None, 28, 28, 128)  512        ['conv3_block4_1_conv[0][0]']    \n",
            " ization)                                                                                         \n",
            "                                                                                                  \n",
            " conv3_block4_1_relu (Activatio  (None, 28, 28, 128)  0          ['conv3_block4_1_bn[0][0]']      \n",
            " n)                                                                                               \n",
            "                                                                                                  \n",
            " conv3_block4_2_conv (Conv2D)   (None, 28, 28, 32)   36864       ['conv3_block4_1_relu[0][0]']    \n",
            "                                                                                                  \n",
            " conv3_block4_concat (Concatena  (None, 28, 28, 256)  0          ['conv3_block3_concat[0][0]',    \n",
            " te)                                                              'conv3_block4_2_conv[0][0]']    \n",
            "                                                                                                  \n",
            " conv3_block5_0_bn (BatchNormal  (None, 28, 28, 256)  1024       ['conv3_block4_concat[0][0]']    \n",
            " ization)                                                                                         \n",
            "                                                                                                  \n",
            " conv3_block5_0_relu (Activatio  (None, 28, 28, 256)  0          ['conv3_block5_0_bn[0][0]']      \n",
            " n)                                                                                               \n",
            "                                                                                                  \n",
            " conv3_block5_1_conv (Conv2D)   (None, 28, 28, 128)  32768       ['conv3_block5_0_relu[0][0]']    \n",
            "                                                                                                  \n",
            " conv3_block5_1_bn (BatchNormal  (None, 28, 28, 128)  512        ['conv3_block5_1_conv[0][0]']    \n",
            " ization)                                                                                         \n",
            "                                                                                                  \n",
            " conv3_block5_1_relu (Activatio  (None, 28, 28, 128)  0          ['conv3_block5_1_bn[0][0]']      \n",
            " n)                                                                                               \n",
            "                                                                                                  \n",
            " conv3_block5_2_conv (Conv2D)   (None, 28, 28, 32)   36864       ['conv3_block5_1_relu[0][0]']    \n",
            "                                                                                                  \n",
            " conv3_block5_concat (Concatena  (None, 28, 28, 288)  0          ['conv3_block4_concat[0][0]',    \n",
            " te)                                                              'conv3_block5_2_conv[0][0]']    \n",
            "                                                                                                  \n",
            " conv3_block6_0_bn (BatchNormal  (None, 28, 28, 288)  1152       ['conv3_block5_concat[0][0]']    \n",
            " ization)                                                                                         \n",
            "                                                                                                  \n",
            " conv3_block6_0_relu (Activatio  (None, 28, 28, 288)  0          ['conv3_block6_0_bn[0][0]']      \n",
            " n)                                                                                               \n",
            "                                                                                                  \n",
            " conv3_block6_1_conv (Conv2D)   (None, 28, 28, 128)  36864       ['conv3_block6_0_relu[0][0]']    \n",
            "                                                                                                  \n",
            " conv3_block6_1_bn (BatchNormal  (None, 28, 28, 128)  512        ['conv3_block6_1_conv[0][0]']    \n",
            " ization)                                                                                         \n",
            "                                                                                                  \n",
            " conv3_block6_1_relu (Activatio  (None, 28, 28, 128)  0          ['conv3_block6_1_bn[0][0]']      \n",
            " n)                                                                                               \n",
            "                                                                                                  \n",
            " conv3_block6_2_conv (Conv2D)   (None, 28, 28, 32)   36864       ['conv3_block6_1_relu[0][0]']    \n",
            "                                                                                                  \n",
            " conv3_block6_concat (Concatena  (None, 28, 28, 320)  0          ['conv3_block5_concat[0][0]',    \n",
            " te)                                                              'conv3_block6_2_conv[0][0]']    \n",
            "                                                                                                  \n",
            " conv3_block7_0_bn (BatchNormal  (None, 28, 28, 320)  1280       ['conv3_block6_concat[0][0]']    \n",
            " ization)                                                                                         \n",
            "                                                                                                  \n",
            " conv3_block7_0_relu (Activatio  (None, 28, 28, 320)  0          ['conv3_block7_0_bn[0][0]']      \n",
            " n)                                                                                               \n",
            "                                                                                                  \n",
            " conv3_block7_1_conv (Conv2D)   (None, 28, 28, 128)  40960       ['conv3_block7_0_relu[0][0]']    \n",
            "                                                                                                  \n",
            " conv3_block7_1_bn (BatchNormal  (None, 28, 28, 128)  512        ['conv3_block7_1_conv[0][0]']    \n",
            " ization)                                                                                         \n",
            "                                                                                                  \n",
            " conv3_block7_1_relu (Activatio  (None, 28, 28, 128)  0          ['conv3_block7_1_bn[0][0]']      \n",
            " n)                                                                                               \n",
            "                                                                                                  \n",
            " conv3_block7_2_conv (Conv2D)   (None, 28, 28, 32)   36864       ['conv3_block7_1_relu[0][0]']    \n",
            "                                                                                                  \n",
            " conv3_block7_concat (Concatena  (None, 28, 28, 352)  0          ['conv3_block6_concat[0][0]',    \n",
            " te)                                                              'conv3_block7_2_conv[0][0]']    \n",
            "                                                                                                  \n",
            " conv3_block8_0_bn (BatchNormal  (None, 28, 28, 352)  1408       ['conv3_block7_concat[0][0]']    \n",
            " ization)                                                                                         \n",
            "                                                                                                  \n",
            " conv3_block8_0_relu (Activatio  (None, 28, 28, 352)  0          ['conv3_block8_0_bn[0][0]']      \n",
            " n)                                                                                               \n",
            "                                                                                                  \n",
            " conv3_block8_1_conv (Conv2D)   (None, 28, 28, 128)  45056       ['conv3_block8_0_relu[0][0]']    \n",
            "                                                                                                  \n",
            " conv3_block8_1_bn (BatchNormal  (None, 28, 28, 128)  512        ['conv3_block8_1_conv[0][0]']    \n",
            " ization)                                                                                         \n",
            "                                                                                                  \n",
            " conv3_block8_1_relu (Activatio  (None, 28, 28, 128)  0          ['conv3_block8_1_bn[0][0]']      \n",
            " n)                                                                                               \n",
            "                                                                                                  \n",
            " conv3_block8_2_conv (Conv2D)   (None, 28, 28, 32)   36864       ['conv3_block8_1_relu[0][0]']    \n",
            "                                                                                                  \n",
            " conv3_block8_concat (Concatena  (None, 28, 28, 384)  0          ['conv3_block7_concat[0][0]',    \n",
            " te)                                                              'conv3_block8_2_conv[0][0]']    \n",
            "                                                                                                  \n",
            " conv3_block9_0_bn (BatchNormal  (None, 28, 28, 384)  1536       ['conv3_block8_concat[0][0]']    \n",
            " ization)                                                                                         \n",
            "                                                                                                  \n",
            " conv3_block9_0_relu (Activatio  (None, 28, 28, 384)  0          ['conv3_block9_0_bn[0][0]']      \n",
            " n)                                                                                               \n",
            "                                                                                                  \n",
            " conv3_block9_1_conv (Conv2D)   (None, 28, 28, 128)  49152       ['conv3_block9_0_relu[0][0]']    \n",
            "                                                                                                  \n",
            " conv3_block9_1_bn (BatchNormal  (None, 28, 28, 128)  512        ['conv3_block9_1_conv[0][0]']    \n",
            " ization)                                                                                         \n",
            "                                                                                                  \n",
            " conv3_block9_1_relu (Activatio  (None, 28, 28, 128)  0          ['conv3_block9_1_bn[0][0]']      \n",
            " n)                                                                                               \n",
            "                                                                                                  \n",
            " conv3_block9_2_conv (Conv2D)   (None, 28, 28, 32)   36864       ['conv3_block9_1_relu[0][0]']    \n",
            "                                                                                                  \n",
            " conv3_block9_concat (Concatena  (None, 28, 28, 416)  0          ['conv3_block8_concat[0][0]',    \n",
            " te)                                                              'conv3_block9_2_conv[0][0]']    \n",
            "                                                                                                  \n",
            " conv3_block10_0_bn (BatchNorma  (None, 28, 28, 416)  1664       ['conv3_block9_concat[0][0]']    \n",
            " lization)                                                                                        \n",
            "                                                                                                  \n",
            " conv3_block10_0_relu (Activati  (None, 28, 28, 416)  0          ['conv3_block10_0_bn[0][0]']     \n",
            " on)                                                                                              \n",
            "                                                                                                  \n",
            " conv3_block10_1_conv (Conv2D)  (None, 28, 28, 128)  53248       ['conv3_block10_0_relu[0][0]']   \n",
            "                                                                                                  \n",
            " conv3_block10_1_bn (BatchNorma  (None, 28, 28, 128)  512        ['conv3_block10_1_conv[0][0]']   \n",
            " lization)                                                                                        \n",
            "                                                                                                  \n",
            " conv3_block10_1_relu (Activati  (None, 28, 28, 128)  0          ['conv3_block10_1_bn[0][0]']     \n",
            " on)                                                                                              \n",
            "                                                                                                  \n",
            " conv3_block10_2_conv (Conv2D)  (None, 28, 28, 32)   36864       ['conv3_block10_1_relu[0][0]']   \n",
            "                                                                                                  \n",
            " conv3_block10_concat (Concaten  (None, 28, 28, 448)  0          ['conv3_block9_concat[0][0]',    \n",
            " ate)                                                             'conv3_block10_2_conv[0][0]']   \n",
            "                                                                                                  \n",
            " conv3_block11_0_bn (BatchNorma  (None, 28, 28, 448)  1792       ['conv3_block10_concat[0][0]']   \n",
            " lization)                                                                                        \n",
            "                                                                                                  \n",
            " conv3_block11_0_relu (Activati  (None, 28, 28, 448)  0          ['conv3_block11_0_bn[0][0]']     \n",
            " on)                                                                                              \n",
            "                                                                                                  \n",
            " conv3_block11_1_conv (Conv2D)  (None, 28, 28, 128)  57344       ['conv3_block11_0_relu[0][0]']   \n",
            "                                                                                                  \n",
            " conv3_block11_1_bn (BatchNorma  (None, 28, 28, 128)  512        ['conv3_block11_1_conv[0][0]']   \n",
            " lization)                                                                                        \n",
            "                                                                                                  \n",
            " conv3_block11_1_relu (Activati  (None, 28, 28, 128)  0          ['conv3_block11_1_bn[0][0]']     \n",
            " on)                                                                                              \n",
            "                                                                                                  \n",
            " conv3_block11_2_conv (Conv2D)  (None, 28, 28, 32)   36864       ['conv3_block11_1_relu[0][0]']   \n",
            "                                                                                                  \n",
            " conv3_block11_concat (Concaten  (None, 28, 28, 480)  0          ['conv3_block10_concat[0][0]',   \n",
            " ate)                                                             'conv3_block11_2_conv[0][0]']   \n",
            "                                                                                                  \n",
            " conv3_block12_0_bn (BatchNorma  (None, 28, 28, 480)  1920       ['conv3_block11_concat[0][0]']   \n",
            " lization)                                                                                        \n",
            "                                                                                                  \n",
            " conv3_block12_0_relu (Activati  (None, 28, 28, 480)  0          ['conv3_block12_0_bn[0][0]']     \n",
            " on)                                                                                              \n",
            "                                                                                                  \n",
            " conv3_block12_1_conv (Conv2D)  (None, 28, 28, 128)  61440       ['conv3_block12_0_relu[0][0]']   \n",
            "                                                                                                  \n",
            " conv3_block12_1_bn (BatchNorma  (None, 28, 28, 128)  512        ['conv3_block12_1_conv[0][0]']   \n",
            " lization)                                                                                        \n",
            "                                                                                                  \n",
            " conv3_block12_1_relu (Activati  (None, 28, 28, 128)  0          ['conv3_block12_1_bn[0][0]']     \n",
            " on)                                                                                              \n",
            "                                                                                                  \n",
            " conv3_block12_2_conv (Conv2D)  (None, 28, 28, 32)   36864       ['conv3_block12_1_relu[0][0]']   \n",
            "                                                                                                  \n",
            " conv3_block12_concat (Concaten  (None, 28, 28, 512)  0          ['conv3_block11_concat[0][0]',   \n",
            " ate)                                                             'conv3_block12_2_conv[0][0]']   \n",
            "                                                                                                  \n",
            " pool3_bn (BatchNormalization)  (None, 28, 28, 512)  2048        ['conv3_block12_concat[0][0]']   \n",
            "                                                                                                  \n",
            " pool3_relu (Activation)        (None, 28, 28, 512)  0           ['pool3_bn[0][0]']               \n",
            "                                                                                                  \n",
            " pool3_conv (Conv2D)            (None, 28, 28, 256)  131072      ['pool3_relu[0][0]']             \n",
            "                                                                                                  \n",
            " pool3_pool (AveragePooling2D)  (None, 14, 14, 256)  0           ['pool3_conv[0][0]']             \n",
            "                                                                                                  \n",
            " conv4_block1_0_bn (BatchNormal  (None, 14, 14, 256)  1024       ['pool3_pool[0][0]']             \n",
            " ization)                                                                                         \n",
            "                                                                                                  \n",
            " conv4_block1_0_relu (Activatio  (None, 14, 14, 256)  0          ['conv4_block1_0_bn[0][0]']      \n",
            " n)                                                                                               \n",
            "                                                                                                  \n",
            " conv4_block1_1_conv (Conv2D)   (None, 14, 14, 128)  32768       ['conv4_block1_0_relu[0][0]']    \n",
            "                                                                                                  \n",
            " conv4_block1_1_bn (BatchNormal  (None, 14, 14, 128)  512        ['conv4_block1_1_conv[0][0]']    \n",
            " ization)                                                                                         \n",
            "                                                                                                  \n",
            " conv4_block1_1_relu (Activatio  (None, 14, 14, 128)  0          ['conv4_block1_1_bn[0][0]']      \n",
            " n)                                                                                               \n",
            "                                                                                                  \n",
            " conv4_block1_2_conv (Conv2D)   (None, 14, 14, 32)   36864       ['conv4_block1_1_relu[0][0]']    \n",
            "                                                                                                  \n",
            " conv4_block1_concat (Concatena  (None, 14, 14, 288)  0          ['pool3_pool[0][0]',             \n",
            " te)                                                              'conv4_block1_2_conv[0][0]']    \n",
            "                                                                                                  \n",
            " conv4_block2_0_bn (BatchNormal  (None, 14, 14, 288)  1152       ['conv4_block1_concat[0][0]']    \n",
            " ization)                                                                                         \n",
            "                                                                                                  \n",
            " conv4_block2_0_relu (Activatio  (None, 14, 14, 288)  0          ['conv4_block2_0_bn[0][0]']      \n",
            " n)                                                                                               \n",
            "                                                                                                  \n",
            " conv4_block2_1_conv (Conv2D)   (None, 14, 14, 128)  36864       ['conv4_block2_0_relu[0][0]']    \n",
            "                                                                                                  \n",
            " conv4_block2_1_bn (BatchNormal  (None, 14, 14, 128)  512        ['conv4_block2_1_conv[0][0]']    \n",
            " ization)                                                                                         \n",
            "                                                                                                  \n",
            " conv4_block2_1_relu (Activatio  (None, 14, 14, 128)  0          ['conv4_block2_1_bn[0][0]']      \n",
            " n)                                                                                               \n",
            "                                                                                                  \n",
            " conv4_block2_2_conv (Conv2D)   (None, 14, 14, 32)   36864       ['conv4_block2_1_relu[0][0]']    \n",
            "                                                                                                  \n",
            " conv4_block2_concat (Concatena  (None, 14, 14, 320)  0          ['conv4_block1_concat[0][0]',    \n",
            " te)                                                              'conv4_block2_2_conv[0][0]']    \n",
            "                                                                                                  \n",
            " conv4_block3_0_bn (BatchNormal  (None, 14, 14, 320)  1280       ['conv4_block2_concat[0][0]']    \n",
            " ization)                                                                                         \n",
            "                                                                                                  \n",
            " conv4_block3_0_relu (Activatio  (None, 14, 14, 320)  0          ['conv4_block3_0_bn[0][0]']      \n",
            " n)                                                                                               \n",
            "                                                                                                  \n",
            " conv4_block3_1_conv (Conv2D)   (None, 14, 14, 128)  40960       ['conv4_block3_0_relu[0][0]']    \n",
            "                                                                                                  \n",
            " conv4_block3_1_bn (BatchNormal  (None, 14, 14, 128)  512        ['conv4_block3_1_conv[0][0]']    \n",
            " ization)                                                                                         \n",
            "                                                                                                  \n",
            " conv4_block3_1_relu (Activatio  (None, 14, 14, 128)  0          ['conv4_block3_1_bn[0][0]']      \n",
            " n)                                                                                               \n",
            "                                                                                                  \n",
            " conv4_block3_2_conv (Conv2D)   (None, 14, 14, 32)   36864       ['conv4_block3_1_relu[0][0]']    \n",
            "                                                                                                  \n",
            " conv4_block3_concat (Concatena  (None, 14, 14, 352)  0          ['conv4_block2_concat[0][0]',    \n",
            " te)                                                              'conv4_block3_2_conv[0][0]']    \n",
            "                                                                                                  \n",
            " conv4_block4_0_bn (BatchNormal  (None, 14, 14, 352)  1408       ['conv4_block3_concat[0][0]']    \n",
            " ization)                                                                                         \n",
            "                                                                                                  \n",
            " conv4_block4_0_relu (Activatio  (None, 14, 14, 352)  0          ['conv4_block4_0_bn[0][0]']      \n",
            " n)                                                                                               \n",
            "                                                                                                  \n",
            " conv4_block4_1_conv (Conv2D)   (None, 14, 14, 128)  45056       ['conv4_block4_0_relu[0][0]']    \n",
            "                                                                                                  \n",
            " conv4_block4_1_bn (BatchNormal  (None, 14, 14, 128)  512        ['conv4_block4_1_conv[0][0]']    \n",
            " ization)                                                                                         \n",
            "                                                                                                  \n",
            " conv4_block4_1_relu (Activatio  (None, 14, 14, 128)  0          ['conv4_block4_1_bn[0][0]']      \n",
            " n)                                                                                               \n",
            "                                                                                                  \n",
            " conv4_block4_2_conv (Conv2D)   (None, 14, 14, 32)   36864       ['conv4_block4_1_relu[0][0]']    \n",
            "                                                                                                  \n",
            " conv4_block4_concat (Concatena  (None, 14, 14, 384)  0          ['conv4_block3_concat[0][0]',    \n",
            " te)                                                              'conv4_block4_2_conv[0][0]']    \n",
            "                                                                                                  \n",
            " conv4_block5_0_bn (BatchNormal  (None, 14, 14, 384)  1536       ['conv4_block4_concat[0][0]']    \n",
            " ization)                                                                                         \n",
            "                                                                                                  \n",
            " conv4_block5_0_relu (Activatio  (None, 14, 14, 384)  0          ['conv4_block5_0_bn[0][0]']      \n",
            " n)                                                                                               \n",
            "                                                                                                  \n",
            " conv4_block5_1_conv (Conv2D)   (None, 14, 14, 128)  49152       ['conv4_block5_0_relu[0][0]']    \n",
            "                                                                                                  \n",
            " conv4_block5_1_bn (BatchNormal  (None, 14, 14, 128)  512        ['conv4_block5_1_conv[0][0]']    \n",
            " ization)                                                                                         \n",
            "                                                                                                  \n",
            " conv4_block5_1_relu (Activatio  (None, 14, 14, 128)  0          ['conv4_block5_1_bn[0][0]']      \n",
            " n)                                                                                               \n",
            "                                                                                                  \n",
            " conv4_block5_2_conv (Conv2D)   (None, 14, 14, 32)   36864       ['conv4_block5_1_relu[0][0]']    \n",
            "                                                                                                  \n",
            " conv4_block5_concat (Concatena  (None, 14, 14, 416)  0          ['conv4_block4_concat[0][0]',    \n",
            " te)                                                              'conv4_block5_2_conv[0][0]']    \n",
            "                                                                                                  \n",
            " conv4_block6_0_bn (BatchNormal  (None, 14, 14, 416)  1664       ['conv4_block5_concat[0][0]']    \n",
            " ization)                                                                                         \n",
            "                                                                                                  \n",
            " conv4_block6_0_relu (Activatio  (None, 14, 14, 416)  0          ['conv4_block6_0_bn[0][0]']      \n",
            " n)                                                                                               \n",
            "                                                                                                  \n",
            " conv4_block6_1_conv (Conv2D)   (None, 14, 14, 128)  53248       ['conv4_block6_0_relu[0][0]']    \n",
            "                                                                                                  \n",
            " conv4_block6_1_bn (BatchNormal  (None, 14, 14, 128)  512        ['conv4_block6_1_conv[0][0]']    \n",
            " ization)                                                                                         \n",
            "                                                                                                  \n",
            " conv4_block6_1_relu (Activatio  (None, 14, 14, 128)  0          ['conv4_block6_1_bn[0][0]']      \n",
            " n)                                                                                               \n",
            "                                                                                                  \n",
            " conv4_block6_2_conv (Conv2D)   (None, 14, 14, 32)   36864       ['conv4_block6_1_relu[0][0]']    \n",
            "                                                                                                  \n",
            " conv4_block6_concat (Concatena  (None, 14, 14, 448)  0          ['conv4_block5_concat[0][0]',    \n",
            " te)                                                              'conv4_block6_2_conv[0][0]']    \n",
            "                                                                                                  \n",
            " conv4_block7_0_bn (BatchNormal  (None, 14, 14, 448)  1792       ['conv4_block6_concat[0][0]']    \n",
            " ization)                                                                                         \n",
            "                                                                                                  \n",
            " conv4_block7_0_relu (Activatio  (None, 14, 14, 448)  0          ['conv4_block7_0_bn[0][0]']      \n",
            " n)                                                                                               \n",
            "                                                                                                  \n",
            " conv4_block7_1_conv (Conv2D)   (None, 14, 14, 128)  57344       ['conv4_block7_0_relu[0][0]']    \n",
            "                                                                                                  \n",
            " conv4_block7_1_bn (BatchNormal  (None, 14, 14, 128)  512        ['conv4_block7_1_conv[0][0]']    \n",
            " ization)                                                                                         \n",
            "                                                                                                  \n",
            " conv4_block7_1_relu (Activatio  (None, 14, 14, 128)  0          ['conv4_block7_1_bn[0][0]']      \n",
            " n)                                                                                               \n",
            "                                                                                                  \n",
            " conv4_block7_2_conv (Conv2D)   (None, 14, 14, 32)   36864       ['conv4_block7_1_relu[0][0]']    \n",
            "                                                                                                  \n",
            " conv4_block7_concat (Concatena  (None, 14, 14, 480)  0          ['conv4_block6_concat[0][0]',    \n",
            " te)                                                              'conv4_block7_2_conv[0][0]']    \n",
            "                                                                                                  \n",
            " conv4_block8_0_bn (BatchNormal  (None, 14, 14, 480)  1920       ['conv4_block7_concat[0][0]']    \n",
            " ization)                                                                                         \n",
            "                                                                                                  \n",
            " conv4_block8_0_relu (Activatio  (None, 14, 14, 480)  0          ['conv4_block8_0_bn[0][0]']      \n",
            " n)                                                                                               \n",
            "                                                                                                  \n",
            " conv4_block8_1_conv (Conv2D)   (None, 14, 14, 128)  61440       ['conv4_block8_0_relu[0][0]']    \n",
            "                                                                                                  \n",
            " conv4_block8_1_bn (BatchNormal  (None, 14, 14, 128)  512        ['conv4_block8_1_conv[0][0]']    \n",
            " ization)                                                                                         \n",
            "                                                                                                  \n",
            " conv4_block8_1_relu (Activatio  (None, 14, 14, 128)  0          ['conv4_block8_1_bn[0][0]']      \n",
            " n)                                                                                               \n",
            "                                                                                                  \n",
            " conv4_block8_2_conv (Conv2D)   (None, 14, 14, 32)   36864       ['conv4_block8_1_relu[0][0]']    \n",
            "                                                                                                  \n",
            " conv4_block8_concat (Concatena  (None, 14, 14, 512)  0          ['conv4_block7_concat[0][0]',    \n",
            " te)                                                              'conv4_block8_2_conv[0][0]']    \n",
            "                                                                                                  \n",
            " conv4_block9_0_bn (BatchNormal  (None, 14, 14, 512)  2048       ['conv4_block8_concat[0][0]']    \n",
            " ization)                                                                                         \n",
            "                                                                                                  \n",
            " conv4_block9_0_relu (Activatio  (None, 14, 14, 512)  0          ['conv4_block9_0_bn[0][0]']      \n",
            " n)                                                                                               \n",
            "                                                                                                  \n",
            " conv4_block9_1_conv (Conv2D)   (None, 14, 14, 128)  65536       ['conv4_block9_0_relu[0][0]']    \n",
            "                                                                                                  \n",
            " conv4_block9_1_bn (BatchNormal  (None, 14, 14, 128)  512        ['conv4_block9_1_conv[0][0]']    \n",
            " ization)                                                                                         \n",
            "                                                                                                  \n",
            " conv4_block9_1_relu (Activatio  (None, 14, 14, 128)  0          ['conv4_block9_1_bn[0][0]']      \n",
            " n)                                                                                               \n",
            "                                                                                                  \n",
            " conv4_block9_2_conv (Conv2D)   (None, 14, 14, 32)   36864       ['conv4_block9_1_relu[0][0]']    \n",
            "                                                                                                  \n",
            " conv4_block9_concat (Concatena  (None, 14, 14, 544)  0          ['conv4_block8_concat[0][0]',    \n",
            " te)                                                              'conv4_block9_2_conv[0][0]']    \n",
            "                                                                                                  \n",
            " conv4_block10_0_bn (BatchNorma  (None, 14, 14, 544)  2176       ['conv4_block9_concat[0][0]']    \n",
            " lization)                                                                                        \n",
            "                                                                                                  \n",
            " conv4_block10_0_relu (Activati  (None, 14, 14, 544)  0          ['conv4_block10_0_bn[0][0]']     \n",
            " on)                                                                                              \n",
            "                                                                                                  \n",
            " conv4_block10_1_conv (Conv2D)  (None, 14, 14, 128)  69632       ['conv4_block10_0_relu[0][0]']   \n",
            "                                                                                                  \n",
            " conv4_block10_1_bn (BatchNorma  (None, 14, 14, 128)  512        ['conv4_block10_1_conv[0][0]']   \n",
            " lization)                                                                                        \n",
            "                                                                                                  \n",
            " conv4_block10_1_relu (Activati  (None, 14, 14, 128)  0          ['conv4_block10_1_bn[0][0]']     \n",
            " on)                                                                                              \n",
            "                                                                                                  \n",
            " conv4_block10_2_conv (Conv2D)  (None, 14, 14, 32)   36864       ['conv4_block10_1_relu[0][0]']   \n",
            "                                                                                                  \n",
            " conv4_block10_concat (Concaten  (None, 14, 14, 576)  0          ['conv4_block9_concat[0][0]',    \n",
            " ate)                                                             'conv4_block10_2_conv[0][0]']   \n",
            "                                                                                                  \n",
            " conv4_block11_0_bn (BatchNorma  (None, 14, 14, 576)  2304       ['conv4_block10_concat[0][0]']   \n",
            " lization)                                                                                        \n",
            "                                                                                                  \n",
            " conv4_block11_0_relu (Activati  (None, 14, 14, 576)  0          ['conv4_block11_0_bn[0][0]']     \n",
            " on)                                                                                              \n",
            "                                                                                                  \n",
            " conv4_block11_1_conv (Conv2D)  (None, 14, 14, 128)  73728       ['conv4_block11_0_relu[0][0]']   \n",
            "                                                                                                  \n",
            " conv4_block11_1_bn (BatchNorma  (None, 14, 14, 128)  512        ['conv4_block11_1_conv[0][0]']   \n",
            " lization)                                                                                        \n",
            "                                                                                                  \n",
            " conv4_block11_1_relu (Activati  (None, 14, 14, 128)  0          ['conv4_block11_1_bn[0][0]']     \n",
            " on)                                                                                              \n",
            "                                                                                                  \n",
            " conv4_block11_2_conv (Conv2D)  (None, 14, 14, 32)   36864       ['conv4_block11_1_relu[0][0]']   \n",
            "                                                                                                  \n",
            " conv4_block11_concat (Concaten  (None, 14, 14, 608)  0          ['conv4_block10_concat[0][0]',   \n",
            " ate)                                                             'conv4_block11_2_conv[0][0]']   \n",
            "                                                                                                  \n",
            " conv4_block12_0_bn (BatchNorma  (None, 14, 14, 608)  2432       ['conv4_block11_concat[0][0]']   \n",
            " lization)                                                                                        \n",
            "                                                                                                  \n",
            " conv4_block12_0_relu (Activati  (None, 14, 14, 608)  0          ['conv4_block12_0_bn[0][0]']     \n",
            " on)                                                                                              \n",
            "                                                                                                  \n",
            " conv4_block12_1_conv (Conv2D)  (None, 14, 14, 128)  77824       ['conv4_block12_0_relu[0][0]']   \n",
            "                                                                                                  \n",
            " conv4_block12_1_bn (BatchNorma  (None, 14, 14, 128)  512        ['conv4_block12_1_conv[0][0]']   \n",
            " lization)                                                                                        \n",
            "                                                                                                  \n",
            " conv4_block12_1_relu (Activati  (None, 14, 14, 128)  0          ['conv4_block12_1_bn[0][0]']     \n",
            " on)                                                                                              \n",
            "                                                                                                  \n",
            " conv4_block12_2_conv (Conv2D)  (None, 14, 14, 32)   36864       ['conv4_block12_1_relu[0][0]']   \n",
            "                                                                                                  \n",
            " conv4_block12_concat (Concaten  (None, 14, 14, 640)  0          ['conv4_block11_concat[0][0]',   \n",
            " ate)                                                             'conv4_block12_2_conv[0][0]']   \n",
            "                                                                                                  \n",
            " conv4_block13_0_bn (BatchNorma  (None, 14, 14, 640)  2560       ['conv4_block12_concat[0][0]']   \n",
            " lization)                                                                                        \n",
            "                                                                                                  \n",
            " conv4_block13_0_relu (Activati  (None, 14, 14, 640)  0          ['conv4_block13_0_bn[0][0]']     \n",
            " on)                                                                                              \n",
            "                                                                                                  \n",
            " conv4_block13_1_conv (Conv2D)  (None, 14, 14, 128)  81920       ['conv4_block13_0_relu[0][0]']   \n",
            "                                                                                                  \n",
            " conv4_block13_1_bn (BatchNorma  (None, 14, 14, 128)  512        ['conv4_block13_1_conv[0][0]']   \n",
            " lization)                                                                                        \n",
            "                                                                                                  \n",
            " conv4_block13_1_relu (Activati  (None, 14, 14, 128)  0          ['conv4_block13_1_bn[0][0]']     \n",
            " on)                                                                                              \n",
            "                                                                                                  \n",
            " conv4_block13_2_conv (Conv2D)  (None, 14, 14, 32)   36864       ['conv4_block13_1_relu[0][0]']   \n",
            "                                                                                                  \n",
            " conv4_block13_concat (Concaten  (None, 14, 14, 672)  0          ['conv4_block12_concat[0][0]',   \n",
            " ate)                                                             'conv4_block13_2_conv[0][0]']   \n",
            "                                                                                                  \n",
            " conv4_block14_0_bn (BatchNorma  (None, 14, 14, 672)  2688       ['conv4_block13_concat[0][0]']   \n",
            " lization)                                                                                        \n",
            "                                                                                                  \n",
            " conv4_block14_0_relu (Activati  (None, 14, 14, 672)  0          ['conv4_block14_0_bn[0][0]']     \n",
            " on)                                                                                              \n",
            "                                                                                                  \n",
            " conv4_block14_1_conv (Conv2D)  (None, 14, 14, 128)  86016       ['conv4_block14_0_relu[0][0]']   \n",
            "                                                                                                  \n",
            " conv4_block14_1_bn (BatchNorma  (None, 14, 14, 128)  512        ['conv4_block14_1_conv[0][0]']   \n",
            " lization)                                                                                        \n",
            "                                                                                                  \n",
            " conv4_block14_1_relu (Activati  (None, 14, 14, 128)  0          ['conv4_block14_1_bn[0][0]']     \n",
            " on)                                                                                              \n",
            "                                                                                                  \n",
            " conv4_block14_2_conv (Conv2D)  (None, 14, 14, 32)   36864       ['conv4_block14_1_relu[0][0]']   \n",
            "                                                                                                  \n",
            " conv4_block14_concat (Concaten  (None, 14, 14, 704)  0          ['conv4_block13_concat[0][0]',   \n",
            " ate)                                                             'conv4_block14_2_conv[0][0]']   \n",
            "                                                                                                  \n",
            " conv4_block15_0_bn (BatchNorma  (None, 14, 14, 704)  2816       ['conv4_block14_concat[0][0]']   \n",
            " lization)                                                                                        \n",
            "                                                                                                  \n",
            " conv4_block15_0_relu (Activati  (None, 14, 14, 704)  0          ['conv4_block15_0_bn[0][0]']     \n",
            " on)                                                                                              \n",
            "                                                                                                  \n",
            " conv4_block15_1_conv (Conv2D)  (None, 14, 14, 128)  90112       ['conv4_block15_0_relu[0][0]']   \n",
            "                                                                                                  \n",
            " conv4_block15_1_bn (BatchNorma  (None, 14, 14, 128)  512        ['conv4_block15_1_conv[0][0]']   \n",
            " lization)                                                                                        \n",
            "                                                                                                  \n",
            " conv4_block15_1_relu (Activati  (None, 14, 14, 128)  0          ['conv4_block15_1_bn[0][0]']     \n",
            " on)                                                                                              \n",
            "                                                                                                  \n",
            " conv4_block15_2_conv (Conv2D)  (None, 14, 14, 32)   36864       ['conv4_block15_1_relu[0][0]']   \n",
            "                                                                                                  \n",
            " conv4_block15_concat (Concaten  (None, 14, 14, 736)  0          ['conv4_block14_concat[0][0]',   \n",
            " ate)                                                             'conv4_block15_2_conv[0][0]']   \n",
            "                                                                                                  \n",
            " conv4_block16_0_bn (BatchNorma  (None, 14, 14, 736)  2944       ['conv4_block15_concat[0][0]']   \n",
            " lization)                                                                                        \n",
            "                                                                                                  \n",
            " conv4_block16_0_relu (Activati  (None, 14, 14, 736)  0          ['conv4_block16_0_bn[0][0]']     \n",
            " on)                                                                                              \n",
            "                                                                                                  \n",
            " conv4_block16_1_conv (Conv2D)  (None, 14, 14, 128)  94208       ['conv4_block16_0_relu[0][0]']   \n",
            "                                                                                                  \n",
            " conv4_block16_1_bn (BatchNorma  (None, 14, 14, 128)  512        ['conv4_block16_1_conv[0][0]']   \n",
            " lization)                                                                                        \n",
            "                                                                                                  \n",
            " conv4_block16_1_relu (Activati  (None, 14, 14, 128)  0          ['conv4_block16_1_bn[0][0]']     \n",
            " on)                                                                                              \n",
            "                                                                                                  \n",
            " conv4_block16_2_conv (Conv2D)  (None, 14, 14, 32)   36864       ['conv4_block16_1_relu[0][0]']   \n",
            "                                                                                                  \n",
            " conv4_block16_concat (Concaten  (None, 14, 14, 768)  0          ['conv4_block15_concat[0][0]',   \n",
            " ate)                                                             'conv4_block16_2_conv[0][0]']   \n",
            "                                                                                                  \n",
            " conv4_block17_0_bn (BatchNorma  (None, 14, 14, 768)  3072       ['conv4_block16_concat[0][0]']   \n",
            " lization)                                                                                        \n",
            "                                                                                                  \n",
            " conv4_block17_0_relu (Activati  (None, 14, 14, 768)  0          ['conv4_block17_0_bn[0][0]']     \n",
            " on)                                                                                              \n",
            "                                                                                                  \n",
            " conv4_block17_1_conv (Conv2D)  (None, 14, 14, 128)  98304       ['conv4_block17_0_relu[0][0]']   \n",
            "                                                                                                  \n",
            " conv4_block17_1_bn (BatchNorma  (None, 14, 14, 128)  512        ['conv4_block17_1_conv[0][0]']   \n",
            " lization)                                                                                        \n",
            "                                                                                                  \n",
            " conv4_block17_1_relu (Activati  (None, 14, 14, 128)  0          ['conv4_block17_1_bn[0][0]']     \n",
            " on)                                                                                              \n",
            "                                                                                                  \n",
            " conv4_block17_2_conv (Conv2D)  (None, 14, 14, 32)   36864       ['conv4_block17_1_relu[0][0]']   \n",
            "                                                                                                  \n",
            " conv4_block17_concat (Concaten  (None, 14, 14, 800)  0          ['conv4_block16_concat[0][0]',   \n",
            " ate)                                                             'conv4_block17_2_conv[0][0]']   \n",
            "                                                                                                  \n",
            " conv4_block18_0_bn (BatchNorma  (None, 14, 14, 800)  3200       ['conv4_block17_concat[0][0]']   \n",
            " lization)                                                                                        \n",
            "                                                                                                  \n",
            " conv4_block18_0_relu (Activati  (None, 14, 14, 800)  0          ['conv4_block18_0_bn[0][0]']     \n",
            " on)                                                                                              \n",
            "                                                                                                  \n",
            " conv4_block18_1_conv (Conv2D)  (None, 14, 14, 128)  102400      ['conv4_block18_0_relu[0][0]']   \n",
            "                                                                                                  \n",
            " conv4_block18_1_bn (BatchNorma  (None, 14, 14, 128)  512        ['conv4_block18_1_conv[0][0]']   \n",
            " lization)                                                                                        \n",
            "                                                                                                  \n",
            " conv4_block18_1_relu (Activati  (None, 14, 14, 128)  0          ['conv4_block18_1_bn[0][0]']     \n",
            " on)                                                                                              \n",
            "                                                                                                  \n",
            " conv4_block18_2_conv (Conv2D)  (None, 14, 14, 32)   36864       ['conv4_block18_1_relu[0][0]']   \n",
            "                                                                                                  \n",
            " conv4_block18_concat (Concaten  (None, 14, 14, 832)  0          ['conv4_block17_concat[0][0]',   \n",
            " ate)                                                             'conv4_block18_2_conv[0][0]']   \n",
            "                                                                                                  \n",
            " conv4_block19_0_bn (BatchNorma  (None, 14, 14, 832)  3328       ['conv4_block18_concat[0][0]']   \n",
            " lization)                                                                                        \n",
            "                                                                                                  \n",
            " conv4_block19_0_relu (Activati  (None, 14, 14, 832)  0          ['conv4_block19_0_bn[0][0]']     \n",
            " on)                                                                                              \n",
            "                                                                                                  \n",
            " conv4_block19_1_conv (Conv2D)  (None, 14, 14, 128)  106496      ['conv4_block19_0_relu[0][0]']   \n",
            "                                                                                                  \n",
            " conv4_block19_1_bn (BatchNorma  (None, 14, 14, 128)  512        ['conv4_block19_1_conv[0][0]']   \n",
            " lization)                                                                                        \n",
            "                                                                                                  \n",
            " conv4_block19_1_relu (Activati  (None, 14, 14, 128)  0          ['conv4_block19_1_bn[0][0]']     \n",
            " on)                                                                                              \n",
            "                                                                                                  \n",
            " conv4_block19_2_conv (Conv2D)  (None, 14, 14, 32)   36864       ['conv4_block19_1_relu[0][0]']   \n",
            "                                                                                                  \n",
            " conv4_block19_concat (Concaten  (None, 14, 14, 864)  0          ['conv4_block18_concat[0][0]',   \n",
            " ate)                                                             'conv4_block19_2_conv[0][0]']   \n",
            "                                                                                                  \n",
            " conv4_block20_0_bn (BatchNorma  (None, 14, 14, 864)  3456       ['conv4_block19_concat[0][0]']   \n",
            " lization)                                                                                        \n",
            "                                                                                                  \n",
            " conv4_block20_0_relu (Activati  (None, 14, 14, 864)  0          ['conv4_block20_0_bn[0][0]']     \n",
            " on)                                                                                              \n",
            "                                                                                                  \n",
            " conv4_block20_1_conv (Conv2D)  (None, 14, 14, 128)  110592      ['conv4_block20_0_relu[0][0]']   \n",
            "                                                                                                  \n",
            " conv4_block20_1_bn (BatchNorma  (None, 14, 14, 128)  512        ['conv4_block20_1_conv[0][0]']   \n",
            " lization)                                                                                        \n",
            "                                                                                                  \n",
            " conv4_block20_1_relu (Activati  (None, 14, 14, 128)  0          ['conv4_block20_1_bn[0][0]']     \n",
            " on)                                                                                              \n",
            "                                                                                                  \n",
            " conv4_block20_2_conv (Conv2D)  (None, 14, 14, 32)   36864       ['conv4_block20_1_relu[0][0]']   \n",
            "                                                                                                  \n",
            " conv4_block20_concat (Concaten  (None, 14, 14, 896)  0          ['conv4_block19_concat[0][0]',   \n",
            " ate)                                                             'conv4_block20_2_conv[0][0]']   \n",
            "                                                                                                  \n",
            " conv4_block21_0_bn (BatchNorma  (None, 14, 14, 896)  3584       ['conv4_block20_concat[0][0]']   \n",
            " lization)                                                                                        \n",
            "                                                                                                  \n",
            " conv4_block21_0_relu (Activati  (None, 14, 14, 896)  0          ['conv4_block21_0_bn[0][0]']     \n",
            " on)                                                                                              \n",
            "                                                                                                  \n",
            " conv4_block21_1_conv (Conv2D)  (None, 14, 14, 128)  114688      ['conv4_block21_0_relu[0][0]']   \n",
            "                                                                                                  \n",
            " conv4_block21_1_bn (BatchNorma  (None, 14, 14, 128)  512        ['conv4_block21_1_conv[0][0]']   \n",
            " lization)                                                                                        \n",
            "                                                                                                  \n",
            " conv4_block21_1_relu (Activati  (None, 14, 14, 128)  0          ['conv4_block21_1_bn[0][0]']     \n",
            " on)                                                                                              \n",
            "                                                                                                  \n",
            " conv4_block21_2_conv (Conv2D)  (None, 14, 14, 32)   36864       ['conv4_block21_1_relu[0][0]']   \n",
            "                                                                                                  \n",
            " conv4_block21_concat (Concaten  (None, 14, 14, 928)  0          ['conv4_block20_concat[0][0]',   \n",
            " ate)                                                             'conv4_block21_2_conv[0][0]']   \n",
            "                                                                                                  \n",
            " conv4_block22_0_bn (BatchNorma  (None, 14, 14, 928)  3712       ['conv4_block21_concat[0][0]']   \n",
            " lization)                                                                                        \n",
            "                                                                                                  \n",
            " conv4_block22_0_relu (Activati  (None, 14, 14, 928)  0          ['conv4_block22_0_bn[0][0]']     \n",
            " on)                                                                                              \n",
            "                                                                                                  \n",
            " conv4_block22_1_conv (Conv2D)  (None, 14, 14, 128)  118784      ['conv4_block22_0_relu[0][0]']   \n",
            "                                                                                                  \n",
            " conv4_block22_1_bn (BatchNorma  (None, 14, 14, 128)  512        ['conv4_block22_1_conv[0][0]']   \n",
            " lization)                                                                                        \n",
            "                                                                                                  \n",
            " conv4_block22_1_relu (Activati  (None, 14, 14, 128)  0          ['conv4_block22_1_bn[0][0]']     \n",
            " on)                                                                                              \n",
            "                                                                                                  \n",
            " conv4_block22_2_conv (Conv2D)  (None, 14, 14, 32)   36864       ['conv4_block22_1_relu[0][0]']   \n",
            "                                                                                                  \n",
            " conv4_block22_concat (Concaten  (None, 14, 14, 960)  0          ['conv4_block21_concat[0][0]',   \n",
            " ate)                                                             'conv4_block22_2_conv[0][0]']   \n",
            "                                                                                                  \n",
            " conv4_block23_0_bn (BatchNorma  (None, 14, 14, 960)  3840       ['conv4_block22_concat[0][0]']   \n",
            " lization)                                                                                        \n",
            "                                                                                                  \n",
            " conv4_block23_0_relu (Activati  (None, 14, 14, 960)  0          ['conv4_block23_0_bn[0][0]']     \n",
            " on)                                                                                              \n",
            "                                                                                                  \n",
            " conv4_block23_1_conv (Conv2D)  (None, 14, 14, 128)  122880      ['conv4_block23_0_relu[0][0]']   \n",
            "                                                                                                  \n",
            " conv4_block23_1_bn (BatchNorma  (None, 14, 14, 128)  512        ['conv4_block23_1_conv[0][0]']   \n",
            " lization)                                                                                        \n",
            "                                                                                                  \n",
            " conv4_block23_1_relu (Activati  (None, 14, 14, 128)  0          ['conv4_block23_1_bn[0][0]']     \n",
            " on)                                                                                              \n",
            "                                                                                                  \n",
            " conv4_block23_2_conv (Conv2D)  (None, 14, 14, 32)   36864       ['conv4_block23_1_relu[0][0]']   \n",
            "                                                                                                  \n",
            " conv4_block23_concat (Concaten  (None, 14, 14, 992)  0          ['conv4_block22_concat[0][0]',   \n",
            " ate)                                                             'conv4_block23_2_conv[0][0]']   \n",
            "                                                                                                  \n",
            " conv4_block24_0_bn (BatchNorma  (None, 14, 14, 992)  3968       ['conv4_block23_concat[0][0]']   \n",
            " lization)                                                                                        \n",
            "                                                                                                  \n",
            " conv4_block24_0_relu (Activati  (None, 14, 14, 992)  0          ['conv4_block24_0_bn[0][0]']     \n",
            " on)                                                                                              \n",
            "                                                                                                  \n",
            " conv4_block24_1_conv (Conv2D)  (None, 14, 14, 128)  126976      ['conv4_block24_0_relu[0][0]']   \n",
            "                                                                                                  \n",
            " conv4_block24_1_bn (BatchNorma  (None, 14, 14, 128)  512        ['conv4_block24_1_conv[0][0]']   \n",
            " lization)                                                                                        \n",
            "                                                                                                  \n",
            " conv4_block24_1_relu (Activati  (None, 14, 14, 128)  0          ['conv4_block24_1_bn[0][0]']     \n",
            " on)                                                                                              \n",
            "                                                                                                  \n",
            " conv4_block24_2_conv (Conv2D)  (None, 14, 14, 32)   36864       ['conv4_block24_1_relu[0][0]']   \n",
            "                                                                                                  \n",
            " conv4_block24_concat (Concaten  (None, 14, 14, 1024  0          ['conv4_block23_concat[0][0]',   \n",
            " ate)                           )                                 'conv4_block24_2_conv[0][0]']   \n",
            "                                                                                                  \n",
            " pool4_bn (BatchNormalization)  (None, 14, 14, 1024  4096        ['conv4_block24_concat[0][0]']   \n",
            "                                )                                                                 \n",
            "                                                                                                  \n",
            " pool4_relu (Activation)        (None, 14, 14, 1024  0           ['pool4_bn[0][0]']               \n",
            "                                )                                                                 \n",
            "                                                                                                  \n",
            " pool4_conv (Conv2D)            (None, 14, 14, 512)  524288      ['pool4_relu[0][0]']             \n",
            "                                                                                                  \n",
            " pool4_pool (AveragePooling2D)  (None, 7, 7, 512)    0           ['pool4_conv[0][0]']             \n",
            "                                                                                                  \n",
            " conv5_block1_0_bn (BatchNormal  (None, 7, 7, 512)   2048        ['pool4_pool[0][0]']             \n",
            " ization)                                                                                         \n",
            "                                                                                                  \n",
            " conv5_block1_0_relu (Activatio  (None, 7, 7, 512)   0           ['conv5_block1_0_bn[0][0]']      \n",
            " n)                                                                                               \n",
            "                                                                                                  \n",
            " conv5_block1_1_conv (Conv2D)   (None, 7, 7, 128)    65536       ['conv5_block1_0_relu[0][0]']    \n",
            "                                                                                                  \n",
            " conv5_block1_1_bn (BatchNormal  (None, 7, 7, 128)   512         ['conv5_block1_1_conv[0][0]']    \n",
            " ization)                                                                                         \n",
            "                                                                                                  \n",
            " conv5_block1_1_relu (Activatio  (None, 7, 7, 128)   0           ['conv5_block1_1_bn[0][0]']      \n",
            " n)                                                                                               \n",
            "                                                                                                  \n",
            " conv5_block1_2_conv (Conv2D)   (None, 7, 7, 32)     36864       ['conv5_block1_1_relu[0][0]']    \n",
            "                                                                                                  \n",
            " conv5_block1_concat (Concatena  (None, 7, 7, 544)   0           ['pool4_pool[0][0]',             \n",
            " te)                                                              'conv5_block1_2_conv[0][0]']    \n",
            "                                                                                                  \n",
            " conv5_block2_0_bn (BatchNormal  (None, 7, 7, 544)   2176        ['conv5_block1_concat[0][0]']    \n",
            " ization)                                                                                         \n",
            "                                                                                                  \n",
            " conv5_block2_0_relu (Activatio  (None, 7, 7, 544)   0           ['conv5_block2_0_bn[0][0]']      \n",
            " n)                                                                                               \n",
            "                                                                                                  \n",
            " conv5_block2_1_conv (Conv2D)   (None, 7, 7, 128)    69632       ['conv5_block2_0_relu[0][0]']    \n",
            "                                                                                                  \n",
            " conv5_block2_1_bn (BatchNormal  (None, 7, 7, 128)   512         ['conv5_block2_1_conv[0][0]']    \n",
            " ization)                                                                                         \n",
            "                                                                                                  \n",
            " conv5_block2_1_relu (Activatio  (None, 7, 7, 128)   0           ['conv5_block2_1_bn[0][0]']      \n",
            " n)                                                                                               \n",
            "                                                                                                  \n",
            " conv5_block2_2_conv (Conv2D)   (None, 7, 7, 32)     36864       ['conv5_block2_1_relu[0][0]']    \n",
            "                                                                                                  \n",
            " conv5_block2_concat (Concatena  (None, 7, 7, 576)   0           ['conv5_block1_concat[0][0]',    \n",
            " te)                                                              'conv5_block2_2_conv[0][0]']    \n",
            "                                                                                                  \n",
            " conv5_block3_0_bn (BatchNormal  (None, 7, 7, 576)   2304        ['conv5_block2_concat[0][0]']    \n",
            " ization)                                                                                         \n",
            "                                                                                                  \n",
            " conv5_block3_0_relu (Activatio  (None, 7, 7, 576)   0           ['conv5_block3_0_bn[0][0]']      \n",
            " n)                                                                                               \n",
            "                                                                                                  \n",
            " conv5_block3_1_conv (Conv2D)   (None, 7, 7, 128)    73728       ['conv5_block3_0_relu[0][0]']    \n",
            "                                                                                                  \n",
            " conv5_block3_1_bn (BatchNormal  (None, 7, 7, 128)   512         ['conv5_block3_1_conv[0][0]']    \n",
            " ization)                                                                                         \n",
            "                                                                                                  \n",
            " conv5_block3_1_relu (Activatio  (None, 7, 7, 128)   0           ['conv5_block3_1_bn[0][0]']      \n",
            " n)                                                                                               \n",
            "                                                                                                  \n",
            " conv5_block3_2_conv (Conv2D)   (None, 7, 7, 32)     36864       ['conv5_block3_1_relu[0][0]']    \n",
            "                                                                                                  \n",
            " conv5_block3_concat (Concatena  (None, 7, 7, 608)   0           ['conv5_block2_concat[0][0]',    \n",
            " te)                                                              'conv5_block3_2_conv[0][0]']    \n",
            "                                                                                                  \n",
            " conv5_block4_0_bn (BatchNormal  (None, 7, 7, 608)   2432        ['conv5_block3_concat[0][0]']    \n",
            " ization)                                                                                         \n",
            "                                                                                                  \n",
            " conv5_block4_0_relu (Activatio  (None, 7, 7, 608)   0           ['conv5_block4_0_bn[0][0]']      \n",
            " n)                                                                                               \n",
            "                                                                                                  \n",
            " conv5_block4_1_conv (Conv2D)   (None, 7, 7, 128)    77824       ['conv5_block4_0_relu[0][0]']    \n",
            "                                                                                                  \n",
            " conv5_block4_1_bn (BatchNormal  (None, 7, 7, 128)   512         ['conv5_block4_1_conv[0][0]']    \n",
            " ization)                                                                                         \n",
            "                                                                                                  \n",
            " conv5_block4_1_relu (Activatio  (None, 7, 7, 128)   0           ['conv5_block4_1_bn[0][0]']      \n",
            " n)                                                                                               \n",
            "                                                                                                  \n",
            " conv5_block4_2_conv (Conv2D)   (None, 7, 7, 32)     36864       ['conv5_block4_1_relu[0][0]']    \n",
            "                                                                                                  \n",
            " conv5_block4_concat (Concatena  (None, 7, 7, 640)   0           ['conv5_block3_concat[0][0]',    \n",
            " te)                                                              'conv5_block4_2_conv[0][0]']    \n",
            "                                                                                                  \n",
            " conv5_block5_0_bn (BatchNormal  (None, 7, 7, 640)   2560        ['conv5_block4_concat[0][0]']    \n",
            " ization)                                                                                         \n",
            "                                                                                                  \n",
            " conv5_block5_0_relu (Activatio  (None, 7, 7, 640)   0           ['conv5_block5_0_bn[0][0]']      \n",
            " n)                                                                                               \n",
            "                                                                                                  \n",
            " conv5_block5_1_conv (Conv2D)   (None, 7, 7, 128)    81920       ['conv5_block5_0_relu[0][0]']    \n",
            "                                                                                                  \n",
            " conv5_block5_1_bn (BatchNormal  (None, 7, 7, 128)   512         ['conv5_block5_1_conv[0][0]']    \n",
            " ization)                                                                                         \n",
            "                                                                                                  \n",
            " conv5_block5_1_relu (Activatio  (None, 7, 7, 128)   0           ['conv5_block5_1_bn[0][0]']      \n",
            " n)                                                                                               \n",
            "                                                                                                  \n",
            " conv5_block5_2_conv (Conv2D)   (None, 7, 7, 32)     36864       ['conv5_block5_1_relu[0][0]']    \n",
            "                                                                                                  \n",
            " conv5_block5_concat (Concatena  (None, 7, 7, 672)   0           ['conv5_block4_concat[0][0]',    \n",
            " te)                                                              'conv5_block5_2_conv[0][0]']    \n",
            "                                                                                                  \n",
            " conv5_block6_0_bn (BatchNormal  (None, 7, 7, 672)   2688        ['conv5_block5_concat[0][0]']    \n",
            " ization)                                                                                         \n",
            "                                                                                                  \n",
            " conv5_block6_0_relu (Activatio  (None, 7, 7, 672)   0           ['conv5_block6_0_bn[0][0]']      \n",
            " n)                                                                                               \n",
            "                                                                                                  \n",
            " conv5_block6_1_conv (Conv2D)   (None, 7, 7, 128)    86016       ['conv5_block6_0_relu[0][0]']    \n",
            "                                                                                                  \n",
            " conv5_block6_1_bn (BatchNormal  (None, 7, 7, 128)   512         ['conv5_block6_1_conv[0][0]']    \n",
            " ization)                                                                                         \n",
            "                                                                                                  \n",
            " conv5_block6_1_relu (Activatio  (None, 7, 7, 128)   0           ['conv5_block6_1_bn[0][0]']      \n",
            " n)                                                                                               \n",
            "                                                                                                  \n",
            " conv5_block6_2_conv (Conv2D)   (None, 7, 7, 32)     36864       ['conv5_block6_1_relu[0][0]']    \n",
            "                                                                                                  \n",
            " conv5_block6_concat (Concatena  (None, 7, 7, 704)   0           ['conv5_block5_concat[0][0]',    \n",
            " te)                                                              'conv5_block6_2_conv[0][0]']    \n",
            "                                                                                                  \n",
            " conv5_block7_0_bn (BatchNormal  (None, 7, 7, 704)   2816        ['conv5_block6_concat[0][0]']    \n",
            " ization)                                                                                         \n",
            "                                                                                                  \n",
            " conv5_block7_0_relu (Activatio  (None, 7, 7, 704)   0           ['conv5_block7_0_bn[0][0]']      \n",
            " n)                                                                                               \n",
            "                                                                                                  \n",
            " conv5_block7_1_conv (Conv2D)   (None, 7, 7, 128)    90112       ['conv5_block7_0_relu[0][0]']    \n",
            "                                                                                                  \n",
            " conv5_block7_1_bn (BatchNormal  (None, 7, 7, 128)   512         ['conv5_block7_1_conv[0][0]']    \n",
            " ization)                                                                                         \n",
            "                                                                                                  \n",
            " conv5_block7_1_relu (Activatio  (None, 7, 7, 128)   0           ['conv5_block7_1_bn[0][0]']      \n",
            " n)                                                                                               \n",
            "                                                                                                  \n",
            " conv5_block7_2_conv (Conv2D)   (None, 7, 7, 32)     36864       ['conv5_block7_1_relu[0][0]']    \n",
            "                                                                                                  \n",
            " conv5_block7_concat (Concatena  (None, 7, 7, 736)   0           ['conv5_block6_concat[0][0]',    \n",
            " te)                                                              'conv5_block7_2_conv[0][0]']    \n",
            "                                                                                                  \n",
            " conv5_block8_0_bn (BatchNormal  (None, 7, 7, 736)   2944        ['conv5_block7_concat[0][0]']    \n",
            " ization)                                                                                         \n",
            "                                                                                                  \n",
            " conv5_block8_0_relu (Activatio  (None, 7, 7, 736)   0           ['conv5_block8_0_bn[0][0]']      \n",
            " n)                                                                                               \n",
            "                                                                                                  \n",
            " conv5_block8_1_conv (Conv2D)   (None, 7, 7, 128)    94208       ['conv5_block8_0_relu[0][0]']    \n",
            "                                                                                                  \n",
            " conv5_block8_1_bn (BatchNormal  (None, 7, 7, 128)   512         ['conv5_block8_1_conv[0][0]']    \n",
            " ization)                                                                                         \n",
            "                                                                                                  \n",
            " conv5_block8_1_relu (Activatio  (None, 7, 7, 128)   0           ['conv5_block8_1_bn[0][0]']      \n",
            " n)                                                                                               \n",
            "                                                                                                  \n",
            " conv5_block8_2_conv (Conv2D)   (None, 7, 7, 32)     36864       ['conv5_block8_1_relu[0][0]']    \n",
            "                                                                                                  \n",
            " conv5_block8_concat (Concatena  (None, 7, 7, 768)   0           ['conv5_block7_concat[0][0]',    \n",
            " te)                                                              'conv5_block8_2_conv[0][0]']    \n",
            "                                                                                                  \n",
            " conv5_block9_0_bn (BatchNormal  (None, 7, 7, 768)   3072        ['conv5_block8_concat[0][0]']    \n",
            " ization)                                                                                         \n",
            "                                                                                                  \n",
            " conv5_block9_0_relu (Activatio  (None, 7, 7, 768)   0           ['conv5_block9_0_bn[0][0]']      \n",
            " n)                                                                                               \n",
            "                                                                                                  \n",
            " conv5_block9_1_conv (Conv2D)   (None, 7, 7, 128)    98304       ['conv5_block9_0_relu[0][0]']    \n",
            "                                                                                                  \n",
            " conv5_block9_1_bn (BatchNormal  (None, 7, 7, 128)   512         ['conv5_block9_1_conv[0][0]']    \n",
            " ization)                                                                                         \n",
            "                                                                                                  \n",
            " conv5_block9_1_relu (Activatio  (None, 7, 7, 128)   0           ['conv5_block9_1_bn[0][0]']      \n",
            " n)                                                                                               \n",
            "                                                                                                  \n",
            " conv5_block9_2_conv (Conv2D)   (None, 7, 7, 32)     36864       ['conv5_block9_1_relu[0][0]']    \n",
            "                                                                                                  \n",
            " conv5_block9_concat (Concatena  (None, 7, 7, 800)   0           ['conv5_block8_concat[0][0]',    \n",
            " te)                                                              'conv5_block9_2_conv[0][0]']    \n",
            "                                                                                                  \n",
            " conv5_block10_0_bn (BatchNorma  (None, 7, 7, 800)   3200        ['conv5_block9_concat[0][0]']    \n",
            " lization)                                                                                        \n",
            "                                                                                                  \n",
            " conv5_block10_0_relu (Activati  (None, 7, 7, 800)   0           ['conv5_block10_0_bn[0][0]']     \n",
            " on)                                                                                              \n",
            "                                                                                                  \n",
            " conv5_block10_1_conv (Conv2D)  (None, 7, 7, 128)    102400      ['conv5_block10_0_relu[0][0]']   \n",
            "                                                                                                  \n",
            " conv5_block10_1_bn (BatchNorma  (None, 7, 7, 128)   512         ['conv5_block10_1_conv[0][0]']   \n",
            " lization)                                                                                        \n",
            "                                                                                                  \n",
            " conv5_block10_1_relu (Activati  (None, 7, 7, 128)   0           ['conv5_block10_1_bn[0][0]']     \n",
            " on)                                                                                              \n",
            "                                                                                                  \n",
            " conv5_block10_2_conv (Conv2D)  (None, 7, 7, 32)     36864       ['conv5_block10_1_relu[0][0]']   \n",
            "                                                                                                  \n",
            " conv5_block10_concat (Concaten  (None, 7, 7, 832)   0           ['conv5_block9_concat[0][0]',    \n",
            " ate)                                                             'conv5_block10_2_conv[0][0]']   \n",
            "                                                                                                  \n",
            " conv5_block11_0_bn (BatchNorma  (None, 7, 7, 832)   3328        ['conv5_block10_concat[0][0]']   \n",
            " lization)                                                                                        \n",
            "                                                                                                  \n",
            " conv5_block11_0_relu (Activati  (None, 7, 7, 832)   0           ['conv5_block11_0_bn[0][0]']     \n",
            " on)                                                                                              \n",
            "                                                                                                  \n",
            " conv5_block11_1_conv (Conv2D)  (None, 7, 7, 128)    106496      ['conv5_block11_0_relu[0][0]']   \n",
            "                                                                                                  \n",
            " conv5_block11_1_bn (BatchNorma  (None, 7, 7, 128)   512         ['conv5_block11_1_conv[0][0]']   \n",
            " lization)                                                                                        \n",
            "                                                                                                  \n",
            " conv5_block11_1_relu (Activati  (None, 7, 7, 128)   0           ['conv5_block11_1_bn[0][0]']     \n",
            " on)                                                                                              \n",
            "                                                                                                  \n",
            " conv5_block11_2_conv (Conv2D)  (None, 7, 7, 32)     36864       ['conv5_block11_1_relu[0][0]']   \n",
            "                                                                                                  \n",
            " conv5_block11_concat (Concaten  (None, 7, 7, 864)   0           ['conv5_block10_concat[0][0]',   \n",
            " ate)                                                             'conv5_block11_2_conv[0][0]']   \n",
            "                                                                                                  \n",
            " conv5_block12_0_bn (BatchNorma  (None, 7, 7, 864)   3456        ['conv5_block11_concat[0][0]']   \n",
            " lization)                                                                                        \n",
            "                                                                                                  \n",
            " conv5_block12_0_relu (Activati  (None, 7, 7, 864)   0           ['conv5_block12_0_bn[0][0]']     \n",
            " on)                                                                                              \n",
            "                                                                                                  \n",
            " conv5_block12_1_conv (Conv2D)  (None, 7, 7, 128)    110592      ['conv5_block12_0_relu[0][0]']   \n",
            "                                                                                                  \n",
            " conv5_block12_1_bn (BatchNorma  (None, 7, 7, 128)   512         ['conv5_block12_1_conv[0][0]']   \n",
            " lization)                                                                                        \n",
            "                                                                                                  \n",
            " conv5_block12_1_relu (Activati  (None, 7, 7, 128)   0           ['conv5_block12_1_bn[0][0]']     \n",
            " on)                                                                                              \n",
            "                                                                                                  \n",
            " conv5_block12_2_conv (Conv2D)  (None, 7, 7, 32)     36864       ['conv5_block12_1_relu[0][0]']   \n",
            "                                                                                                  \n",
            " conv5_block12_concat (Concaten  (None, 7, 7, 896)   0           ['conv5_block11_concat[0][0]',   \n",
            " ate)                                                             'conv5_block12_2_conv[0][0]']   \n",
            "                                                                                                  \n",
            " conv5_block13_0_bn (BatchNorma  (None, 7, 7, 896)   3584        ['conv5_block12_concat[0][0]']   \n",
            " lization)                                                                                        \n",
            "                                                                                                  \n",
            " conv5_block13_0_relu (Activati  (None, 7, 7, 896)   0           ['conv5_block13_0_bn[0][0]']     \n",
            " on)                                                                                              \n",
            "                                                                                                  \n",
            " conv5_block13_1_conv (Conv2D)  (None, 7, 7, 128)    114688      ['conv5_block13_0_relu[0][0]']   \n",
            "                                                                                                  \n",
            " conv5_block13_1_bn (BatchNorma  (None, 7, 7, 128)   512         ['conv5_block13_1_conv[0][0]']   \n",
            " lization)                                                                                        \n",
            "                                                                                                  \n",
            " conv5_block13_1_relu (Activati  (None, 7, 7, 128)   0           ['conv5_block13_1_bn[0][0]']     \n",
            " on)                                                                                              \n",
            "                                                                                                  \n",
            " conv5_block13_2_conv (Conv2D)  (None, 7, 7, 32)     36864       ['conv5_block13_1_relu[0][0]']   \n",
            "                                                                                                  \n",
            " conv5_block13_concat (Concaten  (None, 7, 7, 928)   0           ['conv5_block12_concat[0][0]',   \n",
            " ate)                                                             'conv5_block13_2_conv[0][0]']   \n",
            "                                                                                                  \n",
            " conv5_block14_0_bn (BatchNorma  (None, 7, 7, 928)   3712        ['conv5_block13_concat[0][0]']   \n",
            " lization)                                                                                        \n",
            "                                                                                                  \n",
            " conv5_block14_0_relu (Activati  (None, 7, 7, 928)   0           ['conv5_block14_0_bn[0][0]']     \n",
            " on)                                                                                              \n",
            "                                                                                                  \n",
            " conv5_block14_1_conv (Conv2D)  (None, 7, 7, 128)    118784      ['conv5_block14_0_relu[0][0]']   \n",
            "                                                                                                  \n",
            " conv5_block14_1_bn (BatchNorma  (None, 7, 7, 128)   512         ['conv5_block14_1_conv[0][0]']   \n",
            " lization)                                                                                        \n",
            "                                                                                                  \n",
            " conv5_block14_1_relu (Activati  (None, 7, 7, 128)   0           ['conv5_block14_1_bn[0][0]']     \n",
            " on)                                                                                              \n",
            "                                                                                                  \n",
            " conv5_block14_2_conv (Conv2D)  (None, 7, 7, 32)     36864       ['conv5_block14_1_relu[0][0]']   \n",
            "                                                                                                  \n",
            " conv5_block14_concat (Concaten  (None, 7, 7, 960)   0           ['conv5_block13_concat[0][0]',   \n",
            " ate)                                                             'conv5_block14_2_conv[0][0]']   \n",
            "                                                                                                  \n",
            " conv5_block15_0_bn (BatchNorma  (None, 7, 7, 960)   3840        ['conv5_block14_concat[0][0]']   \n",
            " lization)                                                                                        \n",
            "                                                                                                  \n",
            " conv5_block15_0_relu (Activati  (None, 7, 7, 960)   0           ['conv5_block15_0_bn[0][0]']     \n",
            " on)                                                                                              \n",
            "                                                                                                  \n",
            " conv5_block15_1_conv (Conv2D)  (None, 7, 7, 128)    122880      ['conv5_block15_0_relu[0][0]']   \n",
            "                                                                                                  \n",
            " conv5_block15_1_bn (BatchNorma  (None, 7, 7, 128)   512         ['conv5_block15_1_conv[0][0]']   \n",
            " lization)                                                                                        \n",
            "                                                                                                  \n",
            " conv5_block15_1_relu (Activati  (None, 7, 7, 128)   0           ['conv5_block15_1_bn[0][0]']     \n",
            " on)                                                                                              \n",
            "                                                                                                  \n",
            " conv5_block15_2_conv (Conv2D)  (None, 7, 7, 32)     36864       ['conv5_block15_1_relu[0][0]']   \n",
            "                                                                                                  \n",
            " conv5_block15_concat (Concaten  (None, 7, 7, 992)   0           ['conv5_block14_concat[0][0]',   \n",
            " ate)                                                             'conv5_block15_2_conv[0][0]']   \n",
            "                                                                                                  \n",
            " conv5_block16_0_bn (BatchNorma  (None, 7, 7, 992)   3968        ['conv5_block15_concat[0][0]']   \n",
            " lization)                                                                                        \n",
            "                                                                                                  \n",
            " conv5_block16_0_relu (Activati  (None, 7, 7, 992)   0           ['conv5_block16_0_bn[0][0]']     \n",
            " on)                                                                                              \n",
            "                                                                                                  \n",
            " conv5_block16_1_conv (Conv2D)  (None, 7, 7, 128)    126976      ['conv5_block16_0_relu[0][0]']   \n",
            "                                                                                                  \n",
            " conv5_block16_1_bn (BatchNorma  (None, 7, 7, 128)   512         ['conv5_block16_1_conv[0][0]']   \n",
            " lization)                                                                                        \n",
            "                                                                                                  \n",
            " conv5_block16_1_relu (Activati  (None, 7, 7, 128)   0           ['conv5_block16_1_bn[0][0]']     \n",
            " on)                                                                                              \n",
            "                                                                                                  \n",
            " conv5_block16_2_conv (Conv2D)  (None, 7, 7, 32)     36864       ['conv5_block16_1_relu[0][0]']   \n",
            "                                                                                                  \n",
            " conv5_block16_concat (Concaten  (None, 7, 7, 1024)  0           ['conv5_block15_concat[0][0]',   \n",
            " ate)                                                             'conv5_block16_2_conv[0][0]']   \n",
            "                                                                                                  \n",
            " bn (BatchNormalization)        (None, 7, 7, 1024)   4096        ['conv5_block16_concat[0][0]']   \n",
            "                                                                                                  \n",
            " relu (Activation)              (None, 7, 7, 1024)   0           ['bn[0][0]']                     \n",
            "                                                                                                  \n",
            " avg_pool (GlobalAveragePooling  (None, 1024)        0           ['relu[0][0]']                   \n",
            " 2D)                                                                                              \n",
            "                                                                                                  \n",
            " dense (Dense)                  (None, 2)            2050        ['avg_pool[0][0]']               \n",
            "                                                                                                  \n",
            "==================================================================================================\n",
            "Total params: 7,039,554\n",
            "Trainable params: 6,955,906\n",
            "Non-trainable params: 83,648\n",
            "__________________________________________________________________________________________________\n",
            "densenet None\n"
          ]
        }
      ]
    },
    {
      "cell_type": "code",
      "source": [
        "from tensorflow.keras.callbacks import EarlyStopping\n",
        "early_s=EarlyStopping(monitor='val_accuracy',patience=10,mode='max',restore_best_weights=True)"
      ],
      "metadata": {
        "id": "7U76REjHGao_"
      },
      "execution_count": null,
      "outputs": []
    },
    {
      "cell_type": "code",
      "source": [
        "model.compile(optimizer='adam', loss = 'sparse_categorical_crossentropy', metrics = ['accuracy'])\n",
        "model.fit(x=training_set, validation_data=validing_set, epochs=150,callbacks=([early_s]))"
      ],
      "metadata": {
        "colab": {
          "base_uri": "https://localhost:8080/"
        },
        "id": "DFRoibWLtTMw",
        "outputId": "64afd15b-465b-48d5-a088-1e0743c7c468"
      },
      "execution_count": null,
      "outputs": [
        {
          "output_type": "stream",
          "name": "stdout",
          "text": [
            "Epoch 1/150\n",
            "37/37 [==============================] - 408s 10s/step - loss: 0.5615 - accuracy: 0.7308 - val_loss: 3.3031 - val_accuracy: 0.3897\n",
            "Epoch 2/150\n",
            "37/37 [==============================] - 30s 818ms/step - loss: 0.4335 - accuracy: 0.7947 - val_loss: 1.3005 - val_accuracy: 0.3757\n",
            "Epoch 3/150\n",
            "37/37 [==============================] - 30s 819ms/step - loss: 0.3952 - accuracy: 0.8373 - val_loss: 1.4355 - val_accuracy: 0.3817\n",
            "Epoch 4/150\n",
            "37/37 [==============================] - 30s 822ms/step - loss: 0.3868 - accuracy: 0.8237 - val_loss: 1.0712 - val_accuracy: 0.4851\n",
            "Epoch 5/150\n",
            "37/37 [==============================] - 30s 818ms/step - loss: 0.3748 - accuracy: 0.8365 - val_loss: 1.9943 - val_accuracy: 0.4294\n",
            "Epoch 6/150\n",
            "37/37 [==============================] - 30s 816ms/step - loss: 0.3353 - accuracy: 0.8671 - val_loss: 2.0727 - val_accuracy: 0.4095\n",
            "Epoch 7/150\n",
            "37/37 [==============================] - 30s 822ms/step - loss: 0.3298 - accuracy: 0.8646 - val_loss: 1.2533 - val_accuracy: 0.5586\n",
            "Epoch 8/150\n",
            "37/37 [==============================] - 30s 821ms/step - loss: 0.3186 - accuracy: 0.8646 - val_loss: 0.5898 - val_accuracy: 0.6859\n",
            "Epoch 9/150\n",
            "37/37 [==============================] - 30s 822ms/step - loss: 0.3108 - accuracy: 0.8688 - val_loss: 0.6569 - val_accuracy: 0.7416\n",
            "Epoch 10/150\n",
            "37/37 [==============================] - 30s 818ms/step - loss: 0.3211 - accuracy: 0.8620 - val_loss: 2.3203 - val_accuracy: 0.6640\n",
            "Epoch 11/150\n",
            "37/37 [==============================] - 30s 816ms/step - loss: 0.2943 - accuracy: 0.8782 - val_loss: 3.2537 - val_accuracy: 0.6203\n",
            "Epoch 12/150\n",
            "37/37 [==============================] - 30s 818ms/step - loss: 0.2756 - accuracy: 0.8893 - val_loss: 1.6517 - val_accuracy: 0.6779\n",
            "Epoch 13/150\n",
            "37/37 [==============================] - 31s 830ms/step - loss: 0.2873 - accuracy: 0.8850 - val_loss: 0.8985 - val_accuracy: 0.7276\n",
            "Epoch 14/150\n",
            "37/37 [==============================] - 30s 817ms/step - loss: 0.2746 - accuracy: 0.8918 - val_loss: 1.3758 - val_accuracy: 0.6978\n",
            "Epoch 15/150\n",
            "37/37 [==============================] - 30s 817ms/step - loss: 0.2843 - accuracy: 0.8816 - val_loss: 2.2069 - val_accuracy: 0.6859\n",
            "Epoch 16/150\n",
            "37/37 [==============================] - 30s 817ms/step - loss: 0.2554 - accuracy: 0.9046 - val_loss: 1.6119 - val_accuracy: 0.6203\n",
            "Epoch 17/150\n",
            "37/37 [==============================] - 30s 823ms/step - loss: 0.2690 - accuracy: 0.8961 - val_loss: 0.5136 - val_accuracy: 0.7654\n",
            "Epoch 18/150\n",
            "37/37 [==============================] - 30s 822ms/step - loss: 0.2693 - accuracy: 0.8927 - val_loss: 0.3025 - val_accuracy: 0.8728\n",
            "Epoch 19/150\n",
            "37/37 [==============================] - 31s 851ms/step - loss: 0.2447 - accuracy: 0.9037 - val_loss: 0.3062 - val_accuracy: 0.8767\n",
            "Epoch 20/150\n",
            "37/37 [==============================] - 30s 817ms/step - loss: 0.2653 - accuracy: 0.8952 - val_loss: 0.5155 - val_accuracy: 0.8052\n",
            "Epoch 21/150\n",
            "37/37 [==============================] - 30s 816ms/step - loss: 0.2399 - accuracy: 0.8995 - val_loss: 0.7366 - val_accuracy: 0.7018\n",
            "Epoch 22/150\n",
            "37/37 [==============================] - 30s 823ms/step - loss: 0.2494 - accuracy: 0.9037 - val_loss: 0.3125 - val_accuracy: 0.8827\n",
            "Epoch 23/150\n",
            "37/37 [==============================] - 30s 817ms/step - loss: 0.2372 - accuracy: 0.8961 - val_loss: 0.4483 - val_accuracy: 0.7594\n",
            "Epoch 24/150\n",
            "37/37 [==============================] - 30s 819ms/step - loss: 0.2301 - accuracy: 0.9029 - val_loss: 0.5883 - val_accuracy: 0.7913\n",
            "Epoch 25/150\n",
            "37/37 [==============================] - 30s 817ms/step - loss: 0.2347 - accuracy: 0.9003 - val_loss: 0.3354 - val_accuracy: 0.8549\n",
            "Epoch 26/150\n",
            "37/37 [==============================] - 30s 822ms/step - loss: 0.2221 - accuracy: 0.9131 - val_loss: 0.2755 - val_accuracy: 0.9046\n",
            "Epoch 27/150\n",
            "37/37 [==============================] - 30s 815ms/step - loss: 0.2221 - accuracy: 0.9080 - val_loss: 0.4210 - val_accuracy: 0.8151\n",
            "Epoch 28/150\n",
            "37/37 [==============================] - 30s 822ms/step - loss: 0.2456 - accuracy: 0.9003 - val_loss: 0.5180 - val_accuracy: 0.7813\n",
            "Epoch 29/150\n",
            "37/37 [==============================] - 30s 822ms/step - loss: 0.2225 - accuracy: 0.9080 - val_loss: 0.3687 - val_accuracy: 0.8330\n",
            "Epoch 30/150\n",
            "37/37 [==============================] - 30s 817ms/step - loss: 0.2411 - accuracy: 0.9072 - val_loss: 0.6763 - val_accuracy: 0.8091\n",
            "Epoch 31/150\n",
            "37/37 [==============================] - 30s 818ms/step - loss: 0.2087 - accuracy: 0.9208 - val_loss: 0.4693 - val_accuracy: 0.8330\n",
            "Epoch 32/150\n",
            "37/37 [==============================] - 30s 816ms/step - loss: 0.2072 - accuracy: 0.9191 - val_loss: 0.2986 - val_accuracy: 0.8907\n",
            "Epoch 33/150\n",
            "37/37 [==============================] - 30s 815ms/step - loss: 0.2400 - accuracy: 0.9089 - val_loss: 0.6666 - val_accuracy: 0.7177\n",
            "Epoch 34/150\n",
            "37/37 [==============================] - 30s 817ms/step - loss: 0.2145 - accuracy: 0.9182 - val_loss: 0.2749 - val_accuracy: 0.9026\n",
            "Epoch 35/150\n",
            "37/37 [==============================] - 30s 818ms/step - loss: 0.2413 - accuracy: 0.9080 - val_loss: 0.8341 - val_accuracy: 0.7555\n",
            "Epoch 36/150\n",
            "37/37 [==============================] - 30s 825ms/step - loss: 0.2110 - accuracy: 0.9199 - val_loss: 0.4093 - val_accuracy: 0.8091\n"
          ]
        },
        {
          "output_type": "execute_result",
          "data": {
            "text/plain": [
              "<keras.callbacks.History at 0x7f689007c710>"
            ]
          },
          "metadata": {},
          "execution_count": 10
        }
      ]
    },
    {
      "cell_type": "code",
      "source": [
        "prediction=model.predict(testing_set)\n",
        "classes_x=np.argmax(prediction,axis=1)\n",
        "classes_x"
      ],
      "metadata": {
        "colab": {
          "base_uri": "https://localhost:8080/"
        },
        "id": "lZOYy7N85_YO",
        "outputId": "4a057699-518f-410f-c535-5be02d692ab2"
      },
      "execution_count": null,
      "outputs": [
        {
          "output_type": "execute_result",
          "data": {
            "text/plain": [
              "array([0, 0, 0, 1, 1, 0, 1, 0, 0, 0, 1, 0, 0, 0, 0, 0, 0, 1, 0, 0, 0, 0,\n",
              "       1, 0, 0, 0, 1, 1, 0, 0, 0, 0, 0, 1, 1, 0, 0, 0, 1, 1, 1, 1, 0, 0,\n",
              "       1, 1, 0, 1, 0, 1, 1, 1, 0, 0, 0, 0, 1, 1, 0, 1, 0, 0, 0, 0, 0, 1,\n",
              "       0, 0, 1, 0, 0, 1, 0, 0, 1, 1, 0, 0, 0, 0, 1, 0, 0, 1, 0, 0, 0, 0,\n",
              "       1, 0, 0, 1, 1, 0, 1, 0, 0, 0, 1, 0, 0, 1, 0, 0, 0, 0, 1, 1, 0, 1,\n",
              "       1, 1, 0, 1, 0, 1, 0, 1, 1, 0, 0, 1, 0, 0, 0, 0, 0, 0, 0, 0, 0, 1,\n",
              "       1, 1, 0, 1, 0, 0, 0, 0, 1, 0, 0, 0, 0, 0, 1, 0, 0, 0, 1, 0, 1, 0,\n",
              "       1, 0, 0, 0, 1, 0, 1, 1, 0, 0, 0, 0, 0, 0, 0, 0])"
            ]
          },
          "metadata": {},
          "execution_count": 18
        }
      ]
    },
    {
      "cell_type": "code",
      "source": [
        "cf = confusion_matrix(y_true= true_labels, y_pred= classes_x)\n",
        "score = accuracy_score(y_true= true_labels, y_pred=classes_x)\n",
        "print(cf)\n",
        "print('the model performane is: ', score*100, \"%\")"
      ],
      "metadata": {
        "colab": {
          "base_uri": "https://localhost:8080/"
        },
        "id": "ER5cq5f1ysLm",
        "outputId": "08e10f29-bb5e-4d5a-e11c-f2c1b69410da"
      },
      "execution_count": null,
      "outputs": [
        {
          "output_type": "stream",
          "name": "stdout",
          "text": [
            "[[71 35]\n",
            " [41 23]]\n",
            "the model performane is:  55.294117647058826 %\n"
          ]
        }
      ]
    },
    {
      "cell_type": "code",
      "source": [
        "print(classification_report(true_labels, classes_x,target_names=label_names))"
      ],
      "metadata": {
        "colab": {
          "base_uri": "https://localhost:8080/"
        },
        "id": "ILWbLkN8yvH3",
        "outputId": "c1aaeee3-09f8-415d-9c93-64843c8b206d"
      },
      "execution_count": null,
      "outputs": [
        {
          "output_type": "stream",
          "name": "stdout",
          "text": [
            "              precision    recall  f1-score   support\n",
            "\n",
            "    abnormal       0.63      0.67      0.65       106\n",
            "      normal       0.40      0.36      0.38        64\n",
            "\n",
            "    accuracy                           0.55       170\n",
            "   macro avg       0.52      0.51      0.51       170\n",
            "weighted avg       0.54      0.55      0.55       170\n",
            "\n"
          ]
        }
      ]
    },
    {
      "cell_type": "code",
      "source": [
        "cf = confusion_matrix(y_true= true_labels, y_pred= classes_x)\n",
        "score = accuracy_score(y_true= true_labels, y_pred=classes_x)\n",
        "print(cf)\n",
        "print('the model performane is: ', score*100, \"%\")"
      ],
      "metadata": {
        "colab": {
          "base_uri": "https://localhost:8080/"
        },
        "id": "D9BL-6l07EBM",
        "outputId": "e54b2b32-3ec5-4c8b-e2fa-7a69de6dc676"
      },
      "execution_count": null,
      "outputs": [
        {
          "output_type": "stream",
          "name": "stdout",
          "text": [
            "[[76 29]\n",
            " [39 26]]\n",
            "the model performane is:  60.0 %\n"
          ]
        }
      ]
    },
    {
      "cell_type": "code",
      "source": [
        "print(classification_report(true_labels, classes_x,target_names=label_names))"
      ],
      "metadata": {
        "colab": {
          "base_uri": "https://localhost:8080/"
        },
        "id": "MX6Se4Z-HaZW",
        "outputId": "c68df2bb-53c0-412a-eb19-edaf3c0aba1f"
      },
      "execution_count": null,
      "outputs": [
        {
          "output_type": "stream",
          "name": "stdout",
          "text": [
            "              precision    recall  f1-score   support\n",
            "\n",
            "    abnormal       0.66      0.72      0.69       105\n",
            "      normal       0.47      0.40      0.43        65\n",
            "\n",
            "    accuracy                           0.60       170\n",
            "   macro avg       0.57      0.56      0.56       170\n",
            "weighted avg       0.59      0.60      0.59       170\n",
            "\n"
          ]
        }
      ]
    },
    {
      "cell_type": "markdown",
      "source": [
        "# keras densenet121"
      ],
      "metadata": {
        "id": "jt5djaZg62cM"
      }
    },
    {
      "cell_type": "code",
      "source": [
        "model1=tf.keras.applications.DenseNet121(include_top=True,\n",
        "    weights=None,\n",
        "    input_tensor=None,\n",
        "    input_shape=(224, 224, 3),\n",
        "    pooling='avg',\n",
        "    classes=2)\n",
        "# base_inputs = model1.layers[0].input\n",
        "# base_output = model1.layers[-2].output\n",
        "# output = layers.Dense(2,activation='sigmoid')(base_output)\n",
        "# model1 = keras.Model(base_inputs, output)\n",
        "# print(\"densenet\",model1.summary())"
      ],
      "metadata": {
        "id": "yiBg_8z851x8"
      },
      "execution_count": null,
      "outputs": []
    },
    {
      "cell_type": "code",
      "source": [
        "prediction1=model1.predict(testing_set)\n",
        "classes_x1=np.argmax(prediction1,axis=1)\n",
        "classes_x1"
      ],
      "metadata": {
        "colab": {
          "base_uri": "https://localhost:8080/"
        },
        "id": "jSxBQedw5--l",
        "outputId": "b5fd32e3-680a-4e3a-a9e9-745c57fe3f94"
      },
      "execution_count": null,
      "outputs": [
        {
          "output_type": "execute_result",
          "data": {
            "text/plain": [
              "array([0, 0, 0, 0, 0, 0, 0, 0, 0, 0, 0, 0, 0, 0, 0, 0, 0, 0, 0, 0, 0, 0,\n",
              "       0, 0, 0, 0, 0, 0, 0, 0, 0, 0, 0, 0, 0, 0, 0, 0, 0, 0, 0, 0, 0, 0,\n",
              "       0, 0, 0, 0, 0, 0, 0, 0, 0, 0, 0, 0, 0, 0, 0, 0, 0, 0, 0, 0, 0, 0,\n",
              "       0, 0, 0, 0, 0, 0, 0, 0, 0, 0, 0, 0, 0, 0, 0, 0, 0, 0, 0, 0, 0, 0,\n",
              "       0, 0, 0, 0, 0, 0, 0, 0, 0, 0, 0, 0, 0, 0, 0, 0, 0, 0, 0, 0, 0, 0,\n",
              "       0, 0, 0, 0, 0, 0, 0, 0, 0, 0, 0, 0, 0, 0, 0, 0, 0, 0, 0, 0, 0, 0,\n",
              "       0, 0, 0, 0, 0, 0, 0, 0, 0, 0, 0, 0, 0, 0, 0, 0, 0, 0, 0, 0, 0, 0,\n",
              "       0, 0, 0, 0, 0, 0, 0, 0, 0, 0, 0, 0, 0, 0, 0, 0])"
            ]
          },
          "metadata": {},
          "execution_count": 35
        }
      ]
    },
    {
      "cell_type": "code",
      "source": [
        "cf1 = confusion_matrix(y_true= true_labels, y_pred= classes_x1)\n",
        "score1 = accuracy_score(y_true= true_labels, y_pred=classes_x1)\n",
        "print(cf1)\n",
        "print('the model performane is: ', score1*100, \"%\")"
      ],
      "metadata": {
        "colab": {
          "base_uri": "https://localhost:8080/"
        },
        "id": "U-W1v8tM6X_t",
        "outputId": "9766cd69-139a-48c8-c539-554283368695"
      },
      "execution_count": null,
      "outputs": [
        {
          "output_type": "stream",
          "name": "stdout",
          "text": [
            "[[106   0]\n",
            " [ 64   0]]\n",
            "the model performane is:  62.35294117647059 %\n"
          ]
        }
      ]
    },
    {
      "cell_type": "code",
      "source": [
        "print(classification_report(true_labels, classes_x1,target_names=label_names))"
      ],
      "metadata": {
        "colab": {
          "base_uri": "https://localhost:8080/"
        },
        "id": "AVWFbc1B6eBH",
        "outputId": "1eec9144-9342-48b3-9c16-e7006e531147"
      },
      "execution_count": null,
      "outputs": [
        {
          "output_type": "stream",
          "name": "stdout",
          "text": [
            "              precision    recall  f1-score   support\n",
            "\n",
            "    abnormal       0.00      0.00      0.00       106\n",
            "      normal       0.38      1.00      0.55        64\n",
            "\n",
            "    accuracy                           0.38       170\n",
            "   macro avg       0.19      0.50      0.27       170\n",
            "weighted avg       0.14      0.38      0.21       170\n",
            "\n"
          ]
        },
        {
          "output_type": "stream",
          "name": "stderr",
          "text": [
            "/usr/local/lib/python3.7/dist-packages/sklearn/metrics/_classification.py:1308: UndefinedMetricWarning: Precision and F-score are ill-defined and being set to 0.0 in labels with no predicted samples. Use `zero_division` parameter to control this behavior.\n",
            "  _warn_prf(average, modifier, msg_start, len(result))\n",
            "/usr/local/lib/python3.7/dist-packages/sklearn/metrics/_classification.py:1308: UndefinedMetricWarning: Precision and F-score are ill-defined and being set to 0.0 in labels with no predicted samples. Use `zero_division` parameter to control this behavior.\n",
            "  _warn_prf(average, modifier, msg_start, len(result))\n",
            "/usr/local/lib/python3.7/dist-packages/sklearn/metrics/_classification.py:1308: UndefinedMetricWarning: Precision and F-score are ill-defined and being set to 0.0 in labels with no predicted samples. Use `zero_division` parameter to control this behavior.\n",
            "  _warn_prf(average, modifier, msg_start, len(result))\n"
          ]
        }
      ]
    },
    {
      "cell_type": "markdown",
      "source": [
        "#effecientnet"
      ],
      "metadata": {
        "id": "BLFTTvv_68vb"
      }
    },
    {
      "cell_type": "code",
      "source": [
        "model_e0=tf.keras.applications.EfficientNetB0(\n",
        "    include_top=True,\n",
        "    weights=None,\n",
        "    input_tensor=None,\n",
        "    input_shape=(224,224,3),\n",
        "    pooling='avg',\n",
        "    classes=2,\n",
        "    classifier_activation=\"sigmoid\"\n",
        "\n",
        ")\n",
        "# base_inputs_e0 = model_e0.layers[0].input\n",
        "# base_output_e0 = model_e0.layers[-2].output\n",
        "# output_e0 = layers.Dense(2, activation='softmax')(base_output_e0)\n",
        "# model_e0 = keras.Model(base_inputs_e0, output_e0)\n",
        "print(\"effecient\",model_e0.summary())"
      ],
      "metadata": {
        "id": "FAIlq8oi7EKh"
      },
      "execution_count": null,
      "outputs": []
    },
    {
      "cell_type": "code",
      "source": [
        "model_e0.compile(optimizer='adam', loss = 'sparse_categorical_crossentropy', metrics = ['accuracy'])\n",
        "model_e0.fit(x=training_set, validation_data=validing_set, epochs=150,callbacks=([early_s]))"
      ],
      "metadata": {
        "colab": {
          "base_uri": "https://localhost:8080/",
          "height": 648
        },
        "id": "804ksm22-2es",
        "outputId": "28469367-a17e-42c0-9b73-6e94afb8df42"
      },
      "execution_count": null,
      "outputs": [
        {
          "output_type": "stream",
          "name": "stdout",
          "text": [
            "Epoch 1/150\n",
            "37/37 [==============================] - 34s 650ms/step - loss: 0.5014 - accuracy: 0.7896 - val_loss: 4.2348 - val_accuracy: 0.3817\n",
            "Epoch 2/150\n",
            "37/37 [==============================] - 22s 603ms/step - loss: 0.4288 - accuracy: 0.8203 - val_loss: 3.7268 - val_accuracy: 0.3817\n",
            "Epoch 3/150\n",
            "37/37 [==============================] - 22s 603ms/step - loss: 0.3877 - accuracy: 0.8416 - val_loss: 4.2903 - val_accuracy: 0.3817\n",
            "Epoch 4/150\n",
            "37/37 [==============================] - 22s 600ms/step - loss: 0.3771 - accuracy: 0.8501 - val_loss: 4.3136 - val_accuracy: 0.3817\n",
            "Epoch 5/150\n",
            "37/37 [==============================] - 22s 599ms/step - loss: 0.3582 - accuracy: 0.8688 - val_loss: 4.4634 - val_accuracy: 0.3817\n",
            "Epoch 6/150\n",
            "37/37 [==============================] - 22s 600ms/step - loss: 0.2940 - accuracy: 0.8867 - val_loss: 4.4282 - val_accuracy: 0.3817\n",
            "Epoch 7/150\n",
            "37/37 [==============================] - 22s 599ms/step - loss: 0.2452 - accuracy: 0.9114 - val_loss: 4.6153 - val_accuracy: 0.3817\n",
            "Epoch 8/150\n",
            "37/37 [==============================] - 22s 596ms/step - loss: 0.2306 - accuracy: 0.9191 - val_loss: 5.3124 - val_accuracy: 0.3817\n",
            "Epoch 9/150\n",
            "30/37 [=======================>......] - ETA: 3s - loss: 0.1493 - accuracy: 0.9432"
          ]
        },
        {
          "output_type": "error",
          "ename": "KeyboardInterrupt",
          "evalue": "ignored",
          "traceback": [
            "\u001b[0;31m---------------------------------------------------------------------------\u001b[0m",
            "\u001b[0;31mKeyboardInterrupt\u001b[0m                         Traceback (most recent call last)",
            "\u001b[0;32m<ipython-input-51-c7f916a3c80b>\u001b[0m in \u001b[0;36m<module>\u001b[0;34m()\u001b[0m\n\u001b[1;32m      1\u001b[0m \u001b[0mmodel_e0\u001b[0m\u001b[0;34m.\u001b[0m\u001b[0mcompile\u001b[0m\u001b[0;34m(\u001b[0m\u001b[0moptimizer\u001b[0m\u001b[0;34m=\u001b[0m\u001b[0;34m'adam'\u001b[0m\u001b[0;34m,\u001b[0m \u001b[0mloss\u001b[0m \u001b[0;34m=\u001b[0m \u001b[0;34m'sparse_categorical_crossentropy'\u001b[0m\u001b[0;34m,\u001b[0m \u001b[0mmetrics\u001b[0m \u001b[0;34m=\u001b[0m \u001b[0;34m[\u001b[0m\u001b[0;34m'accuracy'\u001b[0m\u001b[0;34m]\u001b[0m\u001b[0;34m)\u001b[0m\u001b[0;34m\u001b[0m\u001b[0;34m\u001b[0m\u001b[0m\n\u001b[0;32m----> 2\u001b[0;31m \u001b[0mmodel_e0\u001b[0m\u001b[0;34m.\u001b[0m\u001b[0mfit\u001b[0m\u001b[0;34m(\u001b[0m\u001b[0mx\u001b[0m\u001b[0;34m=\u001b[0m\u001b[0mtraining_set\u001b[0m\u001b[0;34m,\u001b[0m \u001b[0mvalidation_data\u001b[0m\u001b[0;34m=\u001b[0m\u001b[0mvaliding_set\u001b[0m\u001b[0;34m,\u001b[0m \u001b[0mepochs\u001b[0m\u001b[0;34m=\u001b[0m\u001b[0;36m150\u001b[0m\u001b[0;34m,\u001b[0m\u001b[0mcallbacks\u001b[0m\u001b[0;34m=\u001b[0m\u001b[0;34m(\u001b[0m\u001b[0;34m[\u001b[0m\u001b[0mearly_s\u001b[0m\u001b[0;34m]\u001b[0m\u001b[0;34m)\u001b[0m\u001b[0;34m)\u001b[0m\u001b[0;34m\u001b[0m\u001b[0;34m\u001b[0m\u001b[0m\n\u001b[0m",
            "\u001b[0;32m/usr/local/lib/python3.7/dist-packages/keras/utils/traceback_utils.py\u001b[0m in \u001b[0;36merror_handler\u001b[0;34m(*args, **kwargs)\u001b[0m\n\u001b[1;32m     62\u001b[0m     \u001b[0mfiltered_tb\u001b[0m \u001b[0;34m=\u001b[0m \u001b[0;32mNone\u001b[0m\u001b[0;34m\u001b[0m\u001b[0;34m\u001b[0m\u001b[0m\n\u001b[1;32m     63\u001b[0m     \u001b[0;32mtry\u001b[0m\u001b[0;34m:\u001b[0m\u001b[0;34m\u001b[0m\u001b[0;34m\u001b[0m\u001b[0m\n\u001b[0;32m---> 64\u001b[0;31m       \u001b[0;32mreturn\u001b[0m \u001b[0mfn\u001b[0m\u001b[0;34m(\u001b[0m\u001b[0;34m*\u001b[0m\u001b[0margs\u001b[0m\u001b[0;34m,\u001b[0m \u001b[0;34m**\u001b[0m\u001b[0mkwargs\u001b[0m\u001b[0;34m)\u001b[0m\u001b[0;34m\u001b[0m\u001b[0;34m\u001b[0m\u001b[0m\n\u001b[0m\u001b[1;32m     65\u001b[0m     \u001b[0;32mexcept\u001b[0m \u001b[0mException\u001b[0m \u001b[0;32mas\u001b[0m \u001b[0me\u001b[0m\u001b[0;34m:\u001b[0m  \u001b[0;31m# pylint: disable=broad-except\u001b[0m\u001b[0;34m\u001b[0m\u001b[0;34m\u001b[0m\u001b[0m\n\u001b[1;32m     66\u001b[0m       \u001b[0mfiltered_tb\u001b[0m \u001b[0;34m=\u001b[0m \u001b[0m_process_traceback_frames\u001b[0m\u001b[0;34m(\u001b[0m\u001b[0me\u001b[0m\u001b[0;34m.\u001b[0m\u001b[0m__traceback__\u001b[0m\u001b[0;34m)\u001b[0m\u001b[0;34m\u001b[0m\u001b[0;34m\u001b[0m\u001b[0m\n",
            "\u001b[0;32m/usr/local/lib/python3.7/dist-packages/keras/engine/training.py\u001b[0m in \u001b[0;36mfit\u001b[0;34m(self, x, y, batch_size, epochs, verbose, callbacks, validation_split, validation_data, shuffle, class_weight, sample_weight, initial_epoch, steps_per_epoch, validation_steps, validation_batch_size, validation_freq, max_queue_size, workers, use_multiprocessing)\u001b[0m\n\u001b[1;32m   1219\u001b[0m               \u001b[0mlogs\u001b[0m \u001b[0;34m=\u001b[0m \u001b[0mtmp_logs\u001b[0m  \u001b[0;31m# No error, now safe to assign to logs.\u001b[0m\u001b[0;34m\u001b[0m\u001b[0;34m\u001b[0m\u001b[0m\n\u001b[1;32m   1220\u001b[0m               \u001b[0mend_step\u001b[0m \u001b[0;34m=\u001b[0m \u001b[0mstep\u001b[0m \u001b[0;34m+\u001b[0m \u001b[0mdata_handler\u001b[0m\u001b[0;34m.\u001b[0m\u001b[0mstep_increment\u001b[0m\u001b[0;34m\u001b[0m\u001b[0;34m\u001b[0m\u001b[0m\n\u001b[0;32m-> 1221\u001b[0;31m               \u001b[0mcallbacks\u001b[0m\u001b[0;34m.\u001b[0m\u001b[0mon_train_batch_end\u001b[0m\u001b[0;34m(\u001b[0m\u001b[0mend_step\u001b[0m\u001b[0;34m,\u001b[0m \u001b[0mlogs\u001b[0m\u001b[0;34m)\u001b[0m\u001b[0;34m\u001b[0m\u001b[0;34m\u001b[0m\u001b[0m\n\u001b[0m\u001b[1;32m   1222\u001b[0m               \u001b[0;32mif\u001b[0m \u001b[0mself\u001b[0m\u001b[0;34m.\u001b[0m\u001b[0mstop_training\u001b[0m\u001b[0;34m:\u001b[0m\u001b[0;34m\u001b[0m\u001b[0;34m\u001b[0m\u001b[0m\n\u001b[1;32m   1223\u001b[0m                 \u001b[0;32mbreak\u001b[0m\u001b[0;34m\u001b[0m\u001b[0;34m\u001b[0m\u001b[0m\n",
            "\u001b[0;32m/usr/local/lib/python3.7/dist-packages/keras/callbacks.py\u001b[0m in \u001b[0;36mon_train_batch_end\u001b[0;34m(self, batch, logs)\u001b[0m\n\u001b[1;32m    434\u001b[0m     \"\"\"\n\u001b[1;32m    435\u001b[0m     \u001b[0;32mif\u001b[0m \u001b[0mself\u001b[0m\u001b[0;34m.\u001b[0m\u001b[0m_should_call_train_batch_hooks\u001b[0m\u001b[0;34m:\u001b[0m\u001b[0;34m\u001b[0m\u001b[0;34m\u001b[0m\u001b[0m\n\u001b[0;32m--> 436\u001b[0;31m       \u001b[0mself\u001b[0m\u001b[0;34m.\u001b[0m\u001b[0m_call_batch_hook\u001b[0m\u001b[0;34m(\u001b[0m\u001b[0mModeKeys\u001b[0m\u001b[0;34m.\u001b[0m\u001b[0mTRAIN\u001b[0m\u001b[0;34m,\u001b[0m \u001b[0;34m'end'\u001b[0m\u001b[0;34m,\u001b[0m \u001b[0mbatch\u001b[0m\u001b[0;34m,\u001b[0m \u001b[0mlogs\u001b[0m\u001b[0;34m=\u001b[0m\u001b[0mlogs\u001b[0m\u001b[0;34m)\u001b[0m\u001b[0;34m\u001b[0m\u001b[0;34m\u001b[0m\u001b[0m\n\u001b[0m\u001b[1;32m    437\u001b[0m \u001b[0;34m\u001b[0m\u001b[0m\n\u001b[1;32m    438\u001b[0m   \u001b[0;32mdef\u001b[0m \u001b[0mon_test_batch_begin\u001b[0m\u001b[0;34m(\u001b[0m\u001b[0mself\u001b[0m\u001b[0;34m,\u001b[0m \u001b[0mbatch\u001b[0m\u001b[0;34m,\u001b[0m \u001b[0mlogs\u001b[0m\u001b[0;34m=\u001b[0m\u001b[0;32mNone\u001b[0m\u001b[0;34m)\u001b[0m\u001b[0;34m:\u001b[0m\u001b[0;34m\u001b[0m\u001b[0;34m\u001b[0m\u001b[0m\n",
            "\u001b[0;32m/usr/local/lib/python3.7/dist-packages/keras/callbacks.py\u001b[0m in \u001b[0;36m_call_batch_hook\u001b[0;34m(self, mode, hook, batch, logs)\u001b[0m\n\u001b[1;32m    293\u001b[0m       \u001b[0mself\u001b[0m\u001b[0;34m.\u001b[0m\u001b[0m_call_batch_begin_hook\u001b[0m\u001b[0;34m(\u001b[0m\u001b[0mmode\u001b[0m\u001b[0;34m,\u001b[0m \u001b[0mbatch\u001b[0m\u001b[0;34m,\u001b[0m \u001b[0mlogs\u001b[0m\u001b[0;34m)\u001b[0m\u001b[0;34m\u001b[0m\u001b[0;34m\u001b[0m\u001b[0m\n\u001b[1;32m    294\u001b[0m     \u001b[0;32melif\u001b[0m \u001b[0mhook\u001b[0m \u001b[0;34m==\u001b[0m \u001b[0;34m'end'\u001b[0m\u001b[0;34m:\u001b[0m\u001b[0;34m\u001b[0m\u001b[0;34m\u001b[0m\u001b[0m\n\u001b[0;32m--> 295\u001b[0;31m       \u001b[0mself\u001b[0m\u001b[0;34m.\u001b[0m\u001b[0m_call_batch_end_hook\u001b[0m\u001b[0;34m(\u001b[0m\u001b[0mmode\u001b[0m\u001b[0;34m,\u001b[0m \u001b[0mbatch\u001b[0m\u001b[0;34m,\u001b[0m \u001b[0mlogs\u001b[0m\u001b[0;34m)\u001b[0m\u001b[0;34m\u001b[0m\u001b[0;34m\u001b[0m\u001b[0m\n\u001b[0m\u001b[1;32m    296\u001b[0m     \u001b[0;32melse\u001b[0m\u001b[0;34m:\u001b[0m\u001b[0;34m\u001b[0m\u001b[0;34m\u001b[0m\u001b[0m\n\u001b[1;32m    297\u001b[0m       raise ValueError(\n",
            "\u001b[0;32m/usr/local/lib/python3.7/dist-packages/keras/callbacks.py\u001b[0m in \u001b[0;36m_call_batch_end_hook\u001b[0;34m(self, mode, batch, logs)\u001b[0m\n\u001b[1;32m    314\u001b[0m       \u001b[0mself\u001b[0m\u001b[0;34m.\u001b[0m\u001b[0m_batch_times\u001b[0m\u001b[0;34m.\u001b[0m\u001b[0mappend\u001b[0m\u001b[0;34m(\u001b[0m\u001b[0mbatch_time\u001b[0m\u001b[0;34m)\u001b[0m\u001b[0;34m\u001b[0m\u001b[0;34m\u001b[0m\u001b[0m\n\u001b[1;32m    315\u001b[0m \u001b[0;34m\u001b[0m\u001b[0m\n\u001b[0;32m--> 316\u001b[0;31m     \u001b[0mself\u001b[0m\u001b[0;34m.\u001b[0m\u001b[0m_call_batch_hook_helper\u001b[0m\u001b[0;34m(\u001b[0m\u001b[0mhook_name\u001b[0m\u001b[0;34m,\u001b[0m \u001b[0mbatch\u001b[0m\u001b[0;34m,\u001b[0m \u001b[0mlogs\u001b[0m\u001b[0;34m)\u001b[0m\u001b[0;34m\u001b[0m\u001b[0;34m\u001b[0m\u001b[0m\n\u001b[0m\u001b[1;32m    317\u001b[0m \u001b[0;34m\u001b[0m\u001b[0m\n\u001b[1;32m    318\u001b[0m     \u001b[0;32mif\u001b[0m \u001b[0mlen\u001b[0m\u001b[0;34m(\u001b[0m\u001b[0mself\u001b[0m\u001b[0;34m.\u001b[0m\u001b[0m_batch_times\u001b[0m\u001b[0;34m)\u001b[0m \u001b[0;34m>=\u001b[0m \u001b[0mself\u001b[0m\u001b[0;34m.\u001b[0m\u001b[0m_num_batches_for_timing_check\u001b[0m\u001b[0;34m:\u001b[0m\u001b[0;34m\u001b[0m\u001b[0;34m\u001b[0m\u001b[0m\n",
            "\u001b[0;32m/usr/local/lib/python3.7/dist-packages/keras/callbacks.py\u001b[0m in \u001b[0;36m_call_batch_hook_helper\u001b[0;34m(self, hook_name, batch, logs)\u001b[0m\n\u001b[1;32m    352\u001b[0m     \u001b[0;32mfor\u001b[0m \u001b[0mcallback\u001b[0m \u001b[0;32min\u001b[0m \u001b[0mself\u001b[0m\u001b[0;34m.\u001b[0m\u001b[0mcallbacks\u001b[0m\u001b[0;34m:\u001b[0m\u001b[0;34m\u001b[0m\u001b[0;34m\u001b[0m\u001b[0m\n\u001b[1;32m    353\u001b[0m       \u001b[0mhook\u001b[0m \u001b[0;34m=\u001b[0m \u001b[0mgetattr\u001b[0m\u001b[0;34m(\u001b[0m\u001b[0mcallback\u001b[0m\u001b[0;34m,\u001b[0m \u001b[0mhook_name\u001b[0m\u001b[0;34m)\u001b[0m\u001b[0;34m\u001b[0m\u001b[0;34m\u001b[0m\u001b[0m\n\u001b[0;32m--> 354\u001b[0;31m       \u001b[0mhook\u001b[0m\u001b[0;34m(\u001b[0m\u001b[0mbatch\u001b[0m\u001b[0;34m,\u001b[0m \u001b[0mlogs\u001b[0m\u001b[0;34m)\u001b[0m\u001b[0;34m\u001b[0m\u001b[0;34m\u001b[0m\u001b[0m\n\u001b[0m\u001b[1;32m    355\u001b[0m \u001b[0;34m\u001b[0m\u001b[0m\n\u001b[1;32m    356\u001b[0m     \u001b[0;32mif\u001b[0m \u001b[0mself\u001b[0m\u001b[0;34m.\u001b[0m\u001b[0m_check_timing\u001b[0m\u001b[0;34m:\u001b[0m\u001b[0;34m\u001b[0m\u001b[0;34m\u001b[0m\u001b[0m\n",
            "\u001b[0;32m/usr/local/lib/python3.7/dist-packages/keras/callbacks.py\u001b[0m in \u001b[0;36mon_train_batch_end\u001b[0;34m(self, batch, logs)\u001b[0m\n\u001b[1;32m   1030\u001b[0m \u001b[0;34m\u001b[0m\u001b[0m\n\u001b[1;32m   1031\u001b[0m   \u001b[0;32mdef\u001b[0m \u001b[0mon_train_batch_end\u001b[0m\u001b[0;34m(\u001b[0m\u001b[0mself\u001b[0m\u001b[0;34m,\u001b[0m \u001b[0mbatch\u001b[0m\u001b[0;34m,\u001b[0m \u001b[0mlogs\u001b[0m\u001b[0;34m=\u001b[0m\u001b[0;32mNone\u001b[0m\u001b[0;34m)\u001b[0m\u001b[0;34m:\u001b[0m\u001b[0;34m\u001b[0m\u001b[0;34m\u001b[0m\u001b[0m\n\u001b[0;32m-> 1032\u001b[0;31m     \u001b[0mself\u001b[0m\u001b[0;34m.\u001b[0m\u001b[0m_batch_update_progbar\u001b[0m\u001b[0;34m(\u001b[0m\u001b[0mbatch\u001b[0m\u001b[0;34m,\u001b[0m \u001b[0mlogs\u001b[0m\u001b[0;34m)\u001b[0m\u001b[0;34m\u001b[0m\u001b[0;34m\u001b[0m\u001b[0m\n\u001b[0m\u001b[1;32m   1033\u001b[0m \u001b[0;34m\u001b[0m\u001b[0m\n\u001b[1;32m   1034\u001b[0m   \u001b[0;32mdef\u001b[0m \u001b[0mon_test_batch_end\u001b[0m\u001b[0;34m(\u001b[0m\u001b[0mself\u001b[0m\u001b[0;34m,\u001b[0m \u001b[0mbatch\u001b[0m\u001b[0;34m,\u001b[0m \u001b[0mlogs\u001b[0m\u001b[0;34m=\u001b[0m\u001b[0;32mNone\u001b[0m\u001b[0;34m)\u001b[0m\u001b[0;34m:\u001b[0m\u001b[0;34m\u001b[0m\u001b[0;34m\u001b[0m\u001b[0m\n",
            "\u001b[0;32m/usr/local/lib/python3.7/dist-packages/keras/callbacks.py\u001b[0m in \u001b[0;36m_batch_update_progbar\u001b[0;34m(self, batch, logs)\u001b[0m\n\u001b[1;32m   1102\u001b[0m     \u001b[0;32mif\u001b[0m \u001b[0mself\u001b[0m\u001b[0;34m.\u001b[0m\u001b[0mverbose\u001b[0m \u001b[0;34m==\u001b[0m \u001b[0;36m1\u001b[0m\u001b[0;34m:\u001b[0m\u001b[0;34m\u001b[0m\u001b[0;34m\u001b[0m\u001b[0m\n\u001b[1;32m   1103\u001b[0m       \u001b[0;31m# Only block async when verbose = 1.\u001b[0m\u001b[0;34m\u001b[0m\u001b[0;34m\u001b[0m\u001b[0;34m\u001b[0m\u001b[0m\n\u001b[0;32m-> 1104\u001b[0;31m       \u001b[0mlogs\u001b[0m \u001b[0;34m=\u001b[0m \u001b[0mtf_utils\u001b[0m\u001b[0;34m.\u001b[0m\u001b[0msync_to_numpy_or_python_type\u001b[0m\u001b[0;34m(\u001b[0m\u001b[0mlogs\u001b[0m\u001b[0;34m)\u001b[0m\u001b[0;34m\u001b[0m\u001b[0;34m\u001b[0m\u001b[0m\n\u001b[0m\u001b[1;32m   1105\u001b[0m       \u001b[0mself\u001b[0m\u001b[0;34m.\u001b[0m\u001b[0mprogbar\u001b[0m\u001b[0;34m.\u001b[0m\u001b[0mupdate\u001b[0m\u001b[0;34m(\u001b[0m\u001b[0mself\u001b[0m\u001b[0;34m.\u001b[0m\u001b[0mseen\u001b[0m\u001b[0;34m,\u001b[0m \u001b[0mlist\u001b[0m\u001b[0;34m(\u001b[0m\u001b[0mlogs\u001b[0m\u001b[0;34m.\u001b[0m\u001b[0mitems\u001b[0m\u001b[0;34m(\u001b[0m\u001b[0;34m)\u001b[0m\u001b[0;34m)\u001b[0m\u001b[0;34m,\u001b[0m \u001b[0mfinalize\u001b[0m\u001b[0;34m=\u001b[0m\u001b[0;32mFalse\u001b[0m\u001b[0;34m)\u001b[0m\u001b[0;34m\u001b[0m\u001b[0;34m\u001b[0m\u001b[0m\n\u001b[1;32m   1106\u001b[0m \u001b[0;34m\u001b[0m\u001b[0m\n",
            "\u001b[0;32m/usr/local/lib/python3.7/dist-packages/keras/utils/tf_utils.py\u001b[0m in \u001b[0;36msync_to_numpy_or_python_type\u001b[0;34m(tensors)\u001b[0m\n\u001b[1;32m    552\u001b[0m     \u001b[0;32mreturn\u001b[0m \u001b[0mt\u001b[0m  \u001b[0;31m# Don't turn ragged or sparse tensors to NumPy.\u001b[0m\u001b[0;34m\u001b[0m\u001b[0;34m\u001b[0m\u001b[0m\n\u001b[1;32m    553\u001b[0m \u001b[0;34m\u001b[0m\u001b[0m\n\u001b[0;32m--> 554\u001b[0;31m   \u001b[0;32mreturn\u001b[0m \u001b[0mtf\u001b[0m\u001b[0;34m.\u001b[0m\u001b[0mnest\u001b[0m\u001b[0;34m.\u001b[0m\u001b[0mmap_structure\u001b[0m\u001b[0;34m(\u001b[0m\u001b[0m_to_single_numpy_or_python_type\u001b[0m\u001b[0;34m,\u001b[0m \u001b[0mtensors\u001b[0m\u001b[0;34m)\u001b[0m\u001b[0;34m\u001b[0m\u001b[0;34m\u001b[0m\u001b[0m\n\u001b[0m\u001b[1;32m    555\u001b[0m \u001b[0;34m\u001b[0m\u001b[0m\n\u001b[1;32m    556\u001b[0m \u001b[0;34m\u001b[0m\u001b[0m\n",
            "\u001b[0;32m/usr/local/lib/python3.7/dist-packages/tensorflow/python/util/nest.py\u001b[0m in \u001b[0;36mmap_structure\u001b[0;34m(func, *structure, **kwargs)\u001b[0m\n\u001b[1;32m    867\u001b[0m \u001b[0;34m\u001b[0m\u001b[0m\n\u001b[1;32m    868\u001b[0m   return pack_sequence_as(\n\u001b[0;32m--> 869\u001b[0;31m       \u001b[0mstructure\u001b[0m\u001b[0;34m[\u001b[0m\u001b[0;36m0\u001b[0m\u001b[0;34m]\u001b[0m\u001b[0;34m,\u001b[0m \u001b[0;34m[\u001b[0m\u001b[0mfunc\u001b[0m\u001b[0;34m(\u001b[0m\u001b[0;34m*\u001b[0m\u001b[0mx\u001b[0m\u001b[0;34m)\u001b[0m \u001b[0;32mfor\u001b[0m \u001b[0mx\u001b[0m \u001b[0;32min\u001b[0m \u001b[0mentries\u001b[0m\u001b[0;34m]\u001b[0m\u001b[0;34m,\u001b[0m\u001b[0;34m\u001b[0m\u001b[0;34m\u001b[0m\u001b[0m\n\u001b[0m\u001b[1;32m    870\u001b[0m       expand_composites=expand_composites)\n\u001b[1;32m    871\u001b[0m \u001b[0;34m\u001b[0m\u001b[0m\n",
            "\u001b[0;32m/usr/local/lib/python3.7/dist-packages/tensorflow/python/util/nest.py\u001b[0m in \u001b[0;36m<listcomp>\u001b[0;34m(.0)\u001b[0m\n\u001b[1;32m    867\u001b[0m \u001b[0;34m\u001b[0m\u001b[0m\n\u001b[1;32m    868\u001b[0m   return pack_sequence_as(\n\u001b[0;32m--> 869\u001b[0;31m       \u001b[0mstructure\u001b[0m\u001b[0;34m[\u001b[0m\u001b[0;36m0\u001b[0m\u001b[0;34m]\u001b[0m\u001b[0;34m,\u001b[0m \u001b[0;34m[\u001b[0m\u001b[0mfunc\u001b[0m\u001b[0;34m(\u001b[0m\u001b[0;34m*\u001b[0m\u001b[0mx\u001b[0m\u001b[0;34m)\u001b[0m \u001b[0;32mfor\u001b[0m \u001b[0mx\u001b[0m \u001b[0;32min\u001b[0m \u001b[0mentries\u001b[0m\u001b[0;34m]\u001b[0m\u001b[0;34m,\u001b[0m\u001b[0;34m\u001b[0m\u001b[0;34m\u001b[0m\u001b[0m\n\u001b[0m\u001b[1;32m    870\u001b[0m       expand_composites=expand_composites)\n\u001b[1;32m    871\u001b[0m \u001b[0;34m\u001b[0m\u001b[0m\n",
            "\u001b[0;32m/usr/local/lib/python3.7/dist-packages/keras/utils/tf_utils.py\u001b[0m in \u001b[0;36m_to_single_numpy_or_python_type\u001b[0;34m(t)\u001b[0m\n\u001b[1;32m    548\u001b[0m   \u001b[0;32mdef\u001b[0m \u001b[0m_to_single_numpy_or_python_type\u001b[0m\u001b[0;34m(\u001b[0m\u001b[0mt\u001b[0m\u001b[0;34m)\u001b[0m\u001b[0;34m:\u001b[0m\u001b[0;34m\u001b[0m\u001b[0;34m\u001b[0m\u001b[0m\n\u001b[1;32m    549\u001b[0m     \u001b[0;32mif\u001b[0m \u001b[0misinstance\u001b[0m\u001b[0;34m(\u001b[0m\u001b[0mt\u001b[0m\u001b[0;34m,\u001b[0m \u001b[0mtf\u001b[0m\u001b[0;34m.\u001b[0m\u001b[0mTensor\u001b[0m\u001b[0;34m)\u001b[0m\u001b[0;34m:\u001b[0m\u001b[0;34m\u001b[0m\u001b[0;34m\u001b[0m\u001b[0m\n\u001b[0;32m--> 550\u001b[0;31m       \u001b[0mx\u001b[0m \u001b[0;34m=\u001b[0m \u001b[0mt\u001b[0m\u001b[0;34m.\u001b[0m\u001b[0mnumpy\u001b[0m\u001b[0;34m(\u001b[0m\u001b[0;34m)\u001b[0m\u001b[0;34m\u001b[0m\u001b[0;34m\u001b[0m\u001b[0m\n\u001b[0m\u001b[1;32m    551\u001b[0m       \u001b[0;32mreturn\u001b[0m \u001b[0mx\u001b[0m\u001b[0;34m.\u001b[0m\u001b[0mitem\u001b[0m\u001b[0;34m(\u001b[0m\u001b[0;34m)\u001b[0m \u001b[0;32mif\u001b[0m \u001b[0mnp\u001b[0m\u001b[0;34m.\u001b[0m\u001b[0mndim\u001b[0m\u001b[0;34m(\u001b[0m\u001b[0mx\u001b[0m\u001b[0;34m)\u001b[0m \u001b[0;34m==\u001b[0m \u001b[0;36m0\u001b[0m \u001b[0;32melse\u001b[0m \u001b[0mx\u001b[0m\u001b[0;34m\u001b[0m\u001b[0;34m\u001b[0m\u001b[0m\n\u001b[1;32m    552\u001b[0m     \u001b[0;32mreturn\u001b[0m \u001b[0mt\u001b[0m  \u001b[0;31m# Don't turn ragged or sparse tensors to NumPy.\u001b[0m\u001b[0;34m\u001b[0m\u001b[0;34m\u001b[0m\u001b[0m\n",
            "\u001b[0;32m/usr/local/lib/python3.7/dist-packages/tensorflow/python/framework/ops.py\u001b[0m in \u001b[0;36mnumpy\u001b[0;34m(self)\u001b[0m\n\u001b[1;32m   1147\u001b[0m     \"\"\"\n\u001b[1;32m   1148\u001b[0m     \u001b[0;31m# TODO(slebedev): Consider avoiding a copy for non-CPU or remote tensors.\u001b[0m\u001b[0;34m\u001b[0m\u001b[0;34m\u001b[0m\u001b[0;34m\u001b[0m\u001b[0m\n\u001b[0;32m-> 1149\u001b[0;31m     \u001b[0mmaybe_arr\u001b[0m \u001b[0;34m=\u001b[0m \u001b[0mself\u001b[0m\u001b[0;34m.\u001b[0m\u001b[0m_numpy\u001b[0m\u001b[0;34m(\u001b[0m\u001b[0;34m)\u001b[0m  \u001b[0;31m# pylint: disable=protected-access\u001b[0m\u001b[0;34m\u001b[0m\u001b[0;34m\u001b[0m\u001b[0m\n\u001b[0m\u001b[1;32m   1150\u001b[0m     \u001b[0;32mreturn\u001b[0m \u001b[0mmaybe_arr\u001b[0m\u001b[0;34m.\u001b[0m\u001b[0mcopy\u001b[0m\u001b[0;34m(\u001b[0m\u001b[0;34m)\u001b[0m \u001b[0;32mif\u001b[0m \u001b[0misinstance\u001b[0m\u001b[0;34m(\u001b[0m\u001b[0mmaybe_arr\u001b[0m\u001b[0;34m,\u001b[0m \u001b[0mnp\u001b[0m\u001b[0;34m.\u001b[0m\u001b[0mndarray\u001b[0m\u001b[0;34m)\u001b[0m \u001b[0;32melse\u001b[0m \u001b[0mmaybe_arr\u001b[0m\u001b[0;34m\u001b[0m\u001b[0;34m\u001b[0m\u001b[0m\n\u001b[1;32m   1151\u001b[0m \u001b[0;34m\u001b[0m\u001b[0m\n",
            "\u001b[0;32m/usr/local/lib/python3.7/dist-packages/tensorflow/python/framework/ops.py\u001b[0m in \u001b[0;36m_numpy\u001b[0;34m(self)\u001b[0m\n\u001b[1;32m   1113\u001b[0m   \u001b[0;32mdef\u001b[0m \u001b[0m_numpy\u001b[0m\u001b[0;34m(\u001b[0m\u001b[0mself\u001b[0m\u001b[0;34m)\u001b[0m\u001b[0;34m:\u001b[0m\u001b[0;34m\u001b[0m\u001b[0;34m\u001b[0m\u001b[0m\n\u001b[1;32m   1114\u001b[0m     \u001b[0;32mtry\u001b[0m\u001b[0;34m:\u001b[0m\u001b[0;34m\u001b[0m\u001b[0;34m\u001b[0m\u001b[0m\n\u001b[0;32m-> 1115\u001b[0;31m       \u001b[0;32mreturn\u001b[0m \u001b[0mself\u001b[0m\u001b[0;34m.\u001b[0m\u001b[0m_numpy_internal\u001b[0m\u001b[0;34m(\u001b[0m\u001b[0;34m)\u001b[0m\u001b[0;34m\u001b[0m\u001b[0;34m\u001b[0m\u001b[0m\n\u001b[0m\u001b[1;32m   1116\u001b[0m     \u001b[0;32mexcept\u001b[0m \u001b[0mcore\u001b[0m\u001b[0;34m.\u001b[0m\u001b[0m_NotOkStatusException\u001b[0m \u001b[0;32mas\u001b[0m \u001b[0me\u001b[0m\u001b[0;34m:\u001b[0m  \u001b[0;31m# pylint: disable=protected-access\u001b[0m\u001b[0;34m\u001b[0m\u001b[0;34m\u001b[0m\u001b[0m\n\u001b[1;32m   1117\u001b[0m       \u001b[0;32mraise\u001b[0m \u001b[0mcore\u001b[0m\u001b[0;34m.\u001b[0m\u001b[0m_status_to_exception\u001b[0m\u001b[0;34m(\u001b[0m\u001b[0me\u001b[0m\u001b[0;34m)\u001b[0m \u001b[0;32mfrom\u001b[0m \u001b[0;32mNone\u001b[0m  \u001b[0;31m# pylint: disable=protected-access\u001b[0m\u001b[0;34m\u001b[0m\u001b[0;34m\u001b[0m\u001b[0m\n",
            "\u001b[0;31mKeyboardInterrupt\u001b[0m: "
          ]
        }
      ]
    },
    {
      "cell_type": "code",
      "source": [
        "prediction_e0=model_e0.predict(testing_set)\n",
        "classes=np.argmax(prediction_e0,axis=1)\n",
        "classes"
      ],
      "metadata": {
        "colab": {
          "base_uri": "https://localhost:8080/"
        },
        "id": "EPcGqYX28MXe",
        "outputId": "0f11f950-4ad5-47a5-95c1-0a44fe08ae6f"
      },
      "execution_count": null,
      "outputs": [
        {
          "output_type": "execute_result",
          "data": {
            "text/plain": [
              "array([0, 0, 0, 0, 0, 0, 0, 0, 0, 0, 0, 0, 0, 0, 0, 0, 0, 0, 0, 0, 0, 0,\n",
              "       0, 0, 0, 0, 0, 0, 0, 0, 0, 0, 0, 0, 0, 0, 0, 0, 0, 0, 0, 0, 0, 0,\n",
              "       0, 0, 0, 0, 0, 0, 0, 0, 0, 0, 0, 0, 0, 0, 0, 0, 0, 0, 0, 0, 0, 0,\n",
              "       0, 0, 0, 0, 0, 0, 0, 0, 0, 0, 0, 0, 0, 0, 0, 0, 0, 0, 0, 0, 0, 0,\n",
              "       0, 0, 0, 0, 0, 0, 0, 0, 0, 0, 0, 0, 0, 0, 0, 0, 0, 0, 0, 0, 0, 0,\n",
              "       0, 0, 0, 0, 0, 0, 0, 0, 0, 0, 0, 0, 0, 0, 0, 0, 0, 0, 0, 0, 0, 0,\n",
              "       0, 0, 0, 0, 0, 0, 0, 0, 0, 0, 0, 0, 0, 0, 0, 0, 0, 0, 0, 0, 0, 0,\n",
              "       0, 0, 0, 0, 0, 0, 0, 0, 0, 0, 0, 0, 0, 0, 0, 0])"
            ]
          },
          "metadata": {},
          "execution_count": 47
        }
      ]
    },
    {
      "cell_type": "code",
      "source": [
        "cf_e0 = confusion_matrix(y_true= true_labels, y_pred= classes)\n",
        "score_e0 = accuracy_score(y_true= true_labels, y_pred=classes)\n",
        "print(cf_e0)\n",
        "print('the efficient performane is: ', score_e0*100, \"%\")"
      ],
      "metadata": {
        "colab": {
          "base_uri": "https://localhost:8080/"
        },
        "id": "dxFpubNJ8NAN",
        "outputId": "71f2ec26-397e-4e7e-bb9b-f4b83c745089"
      },
      "execution_count": null,
      "outputs": [
        {
          "output_type": "stream",
          "name": "stdout",
          "text": [
            "[[106   0]\n",
            " [ 64   0]]\n",
            "the efficient performane is:  62.35294117647059 %\n"
          ]
        }
      ]
    },
    {
      "cell_type": "code",
      "source": [
        "print(classification_report(true_labels, classes,target_names=label_names))"
      ],
      "metadata": {
        "colab": {
          "base_uri": "https://localhost:8080/"
        },
        "id": "bEQn4SbF8Mag",
        "outputId": "612063f5-0688-4180-88ef-16c096dadff3"
      },
      "execution_count": null,
      "outputs": [
        {
          "output_type": "stream",
          "name": "stdout",
          "text": [
            "              precision    recall  f1-score   support\n",
            "\n",
            "    abnormal       0.62      1.00      0.77       106\n",
            "      normal       0.00      0.00      0.00        64\n",
            "\n",
            "    accuracy                           0.62       170\n",
            "   macro avg       0.31      0.50      0.38       170\n",
            "weighted avg       0.39      0.62      0.48       170\n",
            "\n"
          ]
        },
        {
          "output_type": "stream",
          "name": "stderr",
          "text": [
            "/usr/local/lib/python3.7/dist-packages/sklearn/metrics/_classification.py:1308: UndefinedMetricWarning: Precision and F-score are ill-defined and being set to 0.0 in labels with no predicted samples. Use `zero_division` parameter to control this behavior.\n",
            "  _warn_prf(average, modifier, msg_start, len(result))\n",
            "/usr/local/lib/python3.7/dist-packages/sklearn/metrics/_classification.py:1308: UndefinedMetricWarning: Precision and F-score are ill-defined and being set to 0.0 in labels with no predicted samples. Use `zero_division` parameter to control this behavior.\n",
            "  _warn_prf(average, modifier, msg_start, len(result))\n",
            "/usr/local/lib/python3.7/dist-packages/sklearn/metrics/_classification.py:1308: UndefinedMetricWarning: Precision and F-score are ill-defined and being set to 0.0 in labels with no predicted samples. Use `zero_division` parameter to control this behavior.\n",
            "  _warn_prf(average, modifier, msg_start, len(result))\n"
          ]
        }
      ]
    },
    {
      "cell_type": "code",
      "source": [
        ""
      ],
      "metadata": {
        "id": "aHTtc04RPqGz"
      },
      "execution_count": null,
      "outputs": []
    }
  ]
}