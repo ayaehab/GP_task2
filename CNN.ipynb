{
 "cells": [
  {
   "cell_type": "code",
   "execution_count": 1,
   "source": [
    "from keras.models import Sequential, load_model\n",
    "from keras.layers import Dense, Conv2D, MaxPool2D, Flatten\n",
    "from keras.preprocessing.image import ImageDataGenerator\n",
    "from keras.preprocessing.image import load_img, img_to_array\n",
    "\n",
    "import matplotlib.pyplot as plt\n",
    "from matplotlib.image import imread \n",
    "%matplotlib inline\n",
    "import pandas as pd\n",
    "import numpy as np\n",
    "import cv2\n"
   ],
   "outputs": [],
   "metadata": {}
  },
  {
   "cell_type": "code",
   "execution_count": 2,
   "source": [
    "#Preprocessing\n",
    "train_data_generation = ImageDataGenerator(rescale=1./255,\n",
    "                                           shear_range=0.2,\n",
    "                                           zoom_range=0.2,\n",
    "                                           horizontal_flip=True)\n",
    "\n",
    "#preprocessing the training set                                          \n",
    "training_set = train_data_generation.flow_from_directory('PartA_train&test/train',\n",
    "                                                         target_size=(64, 64),\n",
    "                                                         batch_size=32,\n",
    "                                                         class_mode='binary'\n",
    "                                                         ,seed=0)\n",
    "\n",
    "#preprocessing the testing set\n",
    "test_data_generation = ImageDataGenerator(rescale=1./255)\n",
    "testing_set = test_data_generation.flow_from_directory('PartA_train&test/test',\n",
    "                                                       target_size=(64, 64),\n",
    "                                                       batch_size=32,\n",
    "                                                       class_mode='binary',seed=0)\n",
    "\n",
    "train_data_notAUG_gen= ImageDataGenerator(rescale=1./255)\n",
    "train_data_notAUG = train_data_notAUG_gen.flow_from_directory('PartA_train&test/train',\n",
    "                                                         target_size=(64, 64),\n",
    "                                                         batch_size=32,\n",
    "                                                       class_mode='binary',seed=0)\n",
    "\n",
    "img,label=train_data_notAUG.next()\n",
    "print(label)\n",
    "img,label=training_set.next()\n",
    "label"
   ],
   "outputs": [
    {
     "output_type": "stream",
     "name": "stdout",
     "text": [
      "Found 1342 images belonging to 2 classes.\n",
      "Found 333 images belonging to 2 classes.\n",
      "Found 1342 images belonging to 2 classes.\n",
      "[1. 0. 0. 1. 0. 0. 0. 0. 0. 0. 1. 1. 0. 1. 0. 1. 0. 0. 0. 0. 0. 0. 0. 1.\n",
      " 0. 1. 0. 0. 1. 0. 1. 0.]\n"
     ]
    },
    {
     "output_type": "execute_result",
     "data": {
      "text/plain": [
       "array([1., 0., 0., 1., 0., 0., 0., 0., 0., 0., 1., 1., 0., 1., 0., 1., 0.,\n",
       "       0., 0., 0., 0., 0., 0., 1., 0., 1., 0., 0., 1., 0., 1., 0.],\n",
       "      dtype=float32)"
      ]
     },
     "metadata": {},
     "execution_count": 2
    }
   ],
   "metadata": {}
  },
  {
   "cell_type": "code",
   "execution_count": 3,
   "source": [
    "test4prediction = train_data_notAUG_gen.flow_from_directory('/home/aya/Aya/GP/Data Set/test4prediction',\n",
    "                                                         target_size=(64, 64),\n",
    "                                                         batch_size=32,\n",
    "                                                       class_mode='binary',seed=0)"
   ],
   "outputs": [
    {
     "output_type": "stream",
     "name": "stdout",
     "text": [
      "Found 10 images belonging to 1 classes.\n"
     ]
    }
   ],
   "metadata": {}
  },
  {
   "cell_type": "code",
   "execution_count": 56,
   "source": [
    "#creating the convolutional neural network layers\n",
    "\n",
    "model = Sequential([\n",
    "\n",
    "    # adding the first layer\n",
    "    Conv2D(filters=32, kernel_size=3, activation='relu', input_shape=[64, 64, 3]),\n",
    "    MaxPool2D(pool_size=2, strides=2),\n",
    "\n",
    "    # adding the second layer\n",
    "    Conv2D(filters=32, kernel_size=3, activation='relu'),\n",
    "    MaxPool2D(pool_size=2, strides=2),\n",
    "\n",
    "    # adding the third layer\n",
    "    Flatten(),\n",
    "\n",
    "    # full connection\n",
    "    Dense(units=128, activation='relu'),\n",
    "\n",
    "    # output layer\n",
    "    Dense(units=2, activation='sigmoid')\n",
    "\n",
    "])"
   ],
   "outputs": [],
   "metadata": {}
  },
  {
   "cell_type": "code",
   "execution_count": 57,
   "source": [
    "# let's look at the structure of the model we just created\n",
    "print(model.summary())"
   ],
   "outputs": [
    {
     "output_type": "stream",
     "name": "stdout",
     "text": [
      "Model: \"sequential_2\"\n",
      "_________________________________________________________________\n",
      "Layer (type)                 Output Shape              Param #   \n",
      "=================================================================\n",
      "conv2d_4 (Conv2D)            (None, 62, 62, 32)        896       \n",
      "_________________________________________________________________\n",
      "max_pooling2d_4 (MaxPooling2 (None, 31, 31, 32)        0         \n",
      "_________________________________________________________________\n",
      "conv2d_5 (Conv2D)            (None, 29, 29, 32)        9248      \n",
      "_________________________________________________________________\n",
      "max_pooling2d_5 (MaxPooling2 (None, 14, 14, 32)        0         \n",
      "_________________________________________________________________\n",
      "flatten_2 (Flatten)          (None, 6272)              0         \n",
      "_________________________________________________________________\n",
      "dense_4 (Dense)              (None, 128)               802944    \n",
      "_________________________________________________________________\n",
      "dense_5 (Dense)              (None, 2)                 258       \n",
      "=================================================================\n",
      "Total params: 813,346\n",
      "Trainable params: 813,346\n",
      "Non-trainable params: 0\n",
      "_________________________________________________________________\n",
      "None\n"
     ]
    }
   ],
   "metadata": {}
  },
  {
   "cell_type": "code",
   "execution_count": 58,
   "source": [
    "# compiling the model\n",
    "model.compile(optimizer='adam', loss = 'sparse_categorical_crossentropy', metrics = ['accuracy'])"
   ],
   "outputs": [],
   "metadata": {}
  },
  {
   "cell_type": "code",
   "execution_count": 59,
   "source": [
    "#fitting the model\n",
    "model.fit(x=train_data_notAUG, validation_data=testing_set, epochs=30)"
   ],
   "outputs": [
    {
     "output_type": "stream",
     "name": "stdout",
     "text": [
      "Epoch 1/30\n",
      "42/42 [==============================] - 8s 163ms/step - loss: 0.6882 - accuracy: 0.6188 - val_loss: 0.4468 - val_accuracy: 0.8078\n",
      "Epoch 2/30\n",
      "42/42 [==============================] - 8s 185ms/step - loss: 0.5141 - accuracy: 0.7550 - val_loss: 0.4057 - val_accuracy: 0.8018\n",
      "Epoch 3/30\n",
      "42/42 [==============================] - 7s 173ms/step - loss: 0.4391 - accuracy: 0.7990 - val_loss: 0.5133 - val_accuracy: 0.6547\n",
      "Epoch 4/30\n",
      "42/42 [==============================] - 8s 187ms/step - loss: 0.4471 - accuracy: 0.7716 - val_loss: 0.4159 - val_accuracy: 0.8138\n",
      "Epoch 5/30\n",
      "42/42 [==============================] - 7s 176ms/step - loss: 0.4397 - accuracy: 0.7900 - val_loss: 0.3560 - val_accuracy: 0.8438\n",
      "Epoch 6/30\n",
      "42/42 [==============================] - 8s 189ms/step - loss: 0.4004 - accuracy: 0.8112 - val_loss: 0.3406 - val_accuracy: 0.8529\n",
      "Epoch 7/30\n",
      "42/42 [==============================] - 8s 194ms/step - loss: 0.3901 - accuracy: 0.8163 - val_loss: 0.3686 - val_accuracy: 0.8198\n",
      "Epoch 8/30\n",
      "42/42 [==============================] - 8s 193ms/step - loss: 0.3867 - accuracy: 0.8178 - val_loss: 0.3939 - val_accuracy: 0.8168\n",
      "Epoch 9/30\n",
      "42/42 [==============================] - 8s 189ms/step - loss: 0.4182 - accuracy: 0.8218 - val_loss: 0.3494 - val_accuracy: 0.8348\n",
      "Epoch 10/30\n",
      "42/42 [==============================] - 8s 184ms/step - loss: 0.3519 - accuracy: 0.8342 - val_loss: 0.3257 - val_accuracy: 0.8829\n",
      "Epoch 11/30\n",
      "42/42 [==============================] - 8s 196ms/step - loss: 0.3130 - accuracy: 0.8701 - val_loss: 0.3351 - val_accuracy: 0.8589\n",
      "Epoch 12/30\n",
      "42/42 [==============================] - 8s 186ms/step - loss: 0.3410 - accuracy: 0.8377 - val_loss: 0.3039 - val_accuracy: 0.8679\n",
      "Epoch 13/30\n",
      "42/42 [==============================] - 8s 196ms/step - loss: 0.2938 - accuracy: 0.8712 - val_loss: 0.3124 - val_accuracy: 0.8649\n",
      "Epoch 14/30\n",
      "42/42 [==============================] - 8s 186ms/step - loss: 0.3178 - accuracy: 0.8667 - val_loss: 0.2895 - val_accuracy: 0.8709\n",
      "Epoch 15/30\n",
      "42/42 [==============================] - 8s 197ms/step - loss: 0.2927 - accuracy: 0.8791 - val_loss: 0.2888 - val_accuracy: 0.8859\n",
      "Epoch 16/30\n",
      "42/42 [==============================] - 8s 190ms/step - loss: 0.2768 - accuracy: 0.8816 - val_loss: 0.3137 - val_accuracy: 0.8589\n",
      "Epoch 17/30\n",
      "42/42 [==============================] - 8s 199ms/step - loss: 0.2553 - accuracy: 0.8721 - val_loss: 0.3123 - val_accuracy: 0.8559\n",
      "Epoch 18/30\n",
      "42/42 [==============================] - 8s 184ms/step - loss: 0.2787 - accuracy: 0.8712 - val_loss: 0.3349 - val_accuracy: 0.8529\n",
      "Epoch 19/30\n",
      "42/42 [==============================] - 8s 185ms/step - loss: 0.2728 - accuracy: 0.8777 - val_loss: 0.2795 - val_accuracy: 0.8799\n",
      "Epoch 20/30\n",
      "42/42 [==============================] - 8s 190ms/step - loss: 0.2232 - accuracy: 0.9123 - val_loss: 0.3035 - val_accuracy: 0.8739\n",
      "Epoch 21/30\n",
      "42/42 [==============================] - 8s 196ms/step - loss: 0.2406 - accuracy: 0.9068 - val_loss: 0.3201 - val_accuracy: 0.8589\n",
      "Epoch 22/30\n",
      "42/42 [==============================] - 8s 191ms/step - loss: 0.2528 - accuracy: 0.8903 - val_loss: 0.3205 - val_accuracy: 0.8799\n",
      "Epoch 23/30\n",
      "42/42 [==============================] - 8s 185ms/step - loss: 0.2446 - accuracy: 0.9087 - val_loss: 0.2961 - val_accuracy: 0.8769\n",
      "Epoch 24/30\n",
      "42/42 [==============================] - 8s 198ms/step - loss: 0.2276 - accuracy: 0.9066 - val_loss: 0.3421 - val_accuracy: 0.8649\n",
      "Epoch 25/30\n",
      "42/42 [==============================] - 8s 181ms/step - loss: 0.1988 - accuracy: 0.9195 - val_loss: 0.2941 - val_accuracy: 0.8859\n",
      "Epoch 26/30\n",
      "42/42 [==============================] - 7s 163ms/step - loss: 0.2621 - accuracy: 0.8947 - val_loss: 0.2750 - val_accuracy: 0.9069\n",
      "Epoch 27/30\n",
      "42/42 [==============================] - 6s 153ms/step - loss: 0.2351 - accuracy: 0.9095 - val_loss: 0.2774 - val_accuracy: 0.8919\n",
      "Epoch 28/30\n",
      "42/42 [==============================] - 7s 157ms/step - loss: 0.1828 - accuracy: 0.9293 - val_loss: 0.3154 - val_accuracy: 0.9039\n",
      "Epoch 29/30\n",
      "42/42 [==============================] - 7s 155ms/step - loss: 0.1792 - accuracy: 0.9300 - val_loss: 0.3142 - val_accuracy: 0.8769\n",
      "Epoch 30/30\n",
      "42/42 [==============================] - 7s 153ms/step - loss: 0.1911 - accuracy: 0.9184 - val_loss: 0.3234 - val_accuracy: 0.8859\n"
     ]
    },
    {
     "output_type": "execute_result",
     "data": {
      "text/plain": [
       "<tensorflow.python.keras.callbacks.History at 0x7f513451f250>"
      ]
     },
     "metadata": {},
     "execution_count": 59
    }
   ],
   "metadata": {}
  },
  {
   "cell_type": "code",
   "execution_count": 61,
   "source": [
    "#saving the model\n",
    "model.save('DFU.h5')"
   ],
   "outputs": [],
   "metadata": {}
  },
  {
   "cell_type": "code",
   "execution_count": 62,
   "source": [
    "cnn = load_model('DFU.h5')"
   ],
   "outputs": [],
   "metadata": {}
  },
  {
   "cell_type": "code",
   "execution_count": 67,
   "source": [
    "image = load_img('test4prediction/3.08_160.jpg', target_size=(64, 64))\n",
    "plt.imshow(image)\n",
    "image = img_to_array(image)\n",
    "image = np.expand_dims(image, axis=0)"
   ],
   "outputs": [
    {
     "output_type": "display_data",
     "data": {
      "image/png": "[encoded data removed]",
      "text/plain": [
       "<Figure size 432x288 with 1 Axes>"
      ]
     },
     "metadata": {
      "needs_background": "light"
     }
    }
   ],
   "metadata": {}
  },
  {
   "cell_type": "code",
   "execution_count": 7,
   "source": [
    "result = cnn.predict(image)\n",
    "\n",
    "result\n"
   ],
   "outputs": [
    {
     "output_type": "error",
     "ename": "NameError",
     "evalue": "name 'cnn' is not defined",
     "traceback": [
      "\u001b[0;31m---------------------------------------------------------------------------\u001b[0m",
      "\u001b[0;31mNameError\u001b[0m                                 Traceback (most recent call last)",
      "\u001b[0;32m<ipython-input-7-33c947828a28>\u001b[0m in \u001b[0;36m<module>\u001b[0;34m\u001b[0m\n\u001b[1;32m      1\u001b[0m \u001b[0;32mfor\u001b[0m \u001b[0mimage_\u001b[0m \u001b[0;32min\u001b[0m \u001b[0mtest4prediction\u001b[0m\u001b[0;34m:\u001b[0m\u001b[0;34m\u001b[0m\u001b[0;34m\u001b[0m\u001b[0m\n\u001b[0;32m----> 2\u001b[0;31m     \u001b[0mprint\u001b[0m\u001b[0;34m(\u001b[0m\u001b[0mtest4prediction\u001b[0m\u001b[0;34m.\u001b[0m\u001b[0m__str__\u001b[0m\u001b[0;34m(\u001b[0m\u001b[0;34m)\u001b[0m\u001b[0;34m,\u001b[0m \u001b[0mcnn\u001b[0m\u001b[0;34m.\u001b[0m\u001b[0mpredict\u001b[0m\u001b[0;34m(\u001b[0m\u001b[0mtest4prediction\u001b[0m\u001b[0;34m)\u001b[0m\u001b[0;34m)\u001b[0m\u001b[0;34m\u001b[0m\u001b[0;34m\u001b[0m\u001b[0m\n\u001b[0m\u001b[1;32m      3\u001b[0m \u001b[0;34m\u001b[0m\u001b[0m\n\u001b[1;32m      4\u001b[0m \u001b[0;34m\u001b[0m\u001b[0m\n",
      "\u001b[0;31mNameError\u001b[0m: name 'cnn' is not defined"
     ]
    }
   ],
   "metadata": {}
  },
  {
   "cell_type": "code",
   "execution_count": null,
   "source": [],
   "outputs": [],
   "metadata": {}
  }
 ],
 "metadata": {
  "orig_nbformat": 4,
  "language_info": {
   "name": "python",
   "version": "3.8.8",
   "mimetype": "text/x-python",
   "codemirror_mode": {
    "name": "ipython",
    "version": 3
   },
   "pygments_lexer": "ipython3",
   "nbconvert_exporter": "python",
   "file_extension": ".py"
  },
  "kernelspec": {
   "name": "python3",
   "display_name": "Python 3.8.8 64-bit ('base': conda)"
  },
  "interpreter": {
   "hash": "247230833ace3b55315ea6727721a385d4ff855490c0a0dca85df0073da43068"
  }
 },
 "nbformat": 4,
 "nbformat_minor": 2
}